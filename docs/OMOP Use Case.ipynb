{
 "cells": [
  {
   "cell_type": "code",
   "execution_count": 7,
   "metadata": {
    "collapsed": false
   },
   "outputs": [],
   "source": [
    "import pandas\n",
    "pandas.set_option(\"display.max_columns\", 150)\n",
    "\n",
    "# By default padats.head show 20 columns. \n",
    "\n",
    "from pyspark.sql import DataFrame\n",
    "DataFrame.phead = lambda self, n: self.limit(n).toPandas().head(n)"
   ]
  },
  {
   "cell_type": "markdown",
   "metadata": {},
   "source": [
    "# Start with Concept "
   ]
  },
  {
   "cell_type": "code",
   "execution_count": 9,
   "metadata": {
    "collapsed": true
   },
   "outputs": [],
   "source": [
    "#load Concept Table\n",
    "concept=pdf(\"com.omop.input.CONCEPT\")"
   ]
  },
  {
   "cell_type": "code",
   "execution_count": 24,
   "metadata": {
    "collapsed": false
   },
   "outputs": [
    {
     "name": "stdout",
     "output_type": "stream",
     "text": [
      "CONCEPT_ID:String          = 42478670\n",
      "CONCEPT_NAME:String        = tolterodine 2 MG Oral Tablet [Detrol] by Necessity Supplies\n",
      "DOMAIN_ID:String           = Drug\n",
      "VOCABULARY_ID:String       = RxNorm Extension\n",
      "CONCEPT_CLASS_ID:String    = Marketed Product\n",
      "STANDARD_CONCEPT:String    = S\n",
      "CONCEPT_CODE:String        = OMOP420494\n",
      "VALID_START_DATE:Timestamp = 2015-08-17 00:00:00.0\n",
      "VALID_END_DATE:Timestamp   = 2099-12-31 00:00:00.0\n",
      "INVALID_REASON:String      = null\n"
     ]
    }
   ],
   "source": [
    "concept.peek()"
   ]
  },
  {
   "cell_type": "markdown",
   "metadata": {},
   "source": [
    "## Text Search Concept Name with \"Tarceva\""
   ]
  },
  {
   "cell_type": "code",
   "execution_count": 129,
   "metadata": {
    "collapsed": false
   },
   "outputs": [],
   "source": [
    "TarcevaInName = concept.filter(upper(concept.CONCEPT_NAME).rlike(\"TARCEVA\")).cache()"
   ]
  },
  {
   "cell_type": "code",
   "execution_count": 130,
   "metadata": {
    "collapsed": false
   },
   "outputs": [
    {
     "data": {
      "text/plain": [
       "108"
      ]
     },
     "execution_count": 130,
     "metadata": {},
     "output_type": "execute_result"
    }
   ],
   "source": [
    "TarcevaInName.count()"
   ]
  },
  {
   "cell_type": "code",
   "execution_count": 131,
   "metadata": {
    "collapsed": false
   },
   "outputs": [
    {
     "data": {
      "text/html": [
       "<div>\n",
       "<table border=\"1\" class=\"dataframe\">\n",
       "  <thead>\n",
       "    <tr style=\"text-align: right;\">\n",
       "      <th></th>\n",
       "      <th>CONCEPT_ID</th>\n",
       "      <th>CONCEPT_NAME</th>\n",
       "      <th>DOMAIN_ID</th>\n",
       "      <th>VOCABULARY_ID</th>\n",
       "      <th>CONCEPT_CLASS_ID</th>\n",
       "      <th>STANDARD_CONCEPT</th>\n",
       "      <th>CONCEPT_CODE</th>\n",
       "      <th>VALID_START_DATE</th>\n",
       "      <th>VALID_END_DATE</th>\n",
       "      <th>INVALID_REASON</th>\n",
       "    </tr>\n",
       "  </thead>\n",
       "  <tbody>\n",
       "    <tr>\n",
       "      <th>0</th>\n",
       "      <td>40124472</td>\n",
       "      <td>erlotinib Oral Tablet [Tarceva]</td>\n",
       "      <td>Drug</td>\n",
       "      <td>RxNorm</td>\n",
       "      <td>Branded Drug Form</td>\n",
       "      <td>S</td>\n",
       "      <td>540423</td>\n",
       "      <td>2005-09-11</td>\n",
       "      <td>2099-12-31</td>\n",
       "      <td>None</td>\n",
       "    </tr>\n",
       "    <tr>\n",
       "      <th>1</th>\n",
       "      <td>40236070</td>\n",
       "      <td>erlotinib 100 MG [Tarceva]</td>\n",
       "      <td>Drug</td>\n",
       "      <td>RxNorm</td>\n",
       "      <td>Branded Drug Comp</td>\n",
       "      <td>S</td>\n",
       "      <td>1088250</td>\n",
       "      <td>2011-03-06</td>\n",
       "      <td>2099-12-31</td>\n",
       "      <td>None</td>\n",
       "    </tr>\n",
       "    <tr>\n",
       "      <th>2</th>\n",
       "      <td>40236072</td>\n",
       "      <td>erlotinib 150 MG [Tarceva]</td>\n",
       "      <td>Drug</td>\n",
       "      <td>RxNorm</td>\n",
       "      <td>Branded Drug Comp</td>\n",
       "      <td>S</td>\n",
       "      <td>1088252</td>\n",
       "      <td>2011-03-06</td>\n",
       "      <td>2099-12-31</td>\n",
       "      <td>None</td>\n",
       "    </tr>\n",
       "    <tr>\n",
       "      <th>3</th>\n",
       "      <td>40236074</td>\n",
       "      <td>erlotinib 25 MG [Tarceva]</td>\n",
       "      <td>Drug</td>\n",
       "      <td>RxNorm</td>\n",
       "      <td>Branded Drug Comp</td>\n",
       "      <td>S</td>\n",
       "      <td>1088254</td>\n",
       "      <td>2011-03-06</td>\n",
       "      <td>2099-12-31</td>\n",
       "      <td>None</td>\n",
       "    </tr>\n",
       "    <tr>\n",
       "      <th>4</th>\n",
       "      <td>40236069</td>\n",
       "      <td>erlotinib 100 MG Oral Tablet [Tarceva]</td>\n",
       "      <td>Drug</td>\n",
       "      <td>RxNorm</td>\n",
       "      <td>Branded Drug</td>\n",
       "      <td>S</td>\n",
       "      <td>1088251</td>\n",
       "      <td>2011-03-06</td>\n",
       "      <td>2099-12-31</td>\n",
       "      <td>None</td>\n",
       "    </tr>\n",
       "    <tr>\n",
       "      <th>5</th>\n",
       "      <td>40236071</td>\n",
       "      <td>erlotinib 150 MG Oral Tablet [Tarceva]</td>\n",
       "      <td>Drug</td>\n",
       "      <td>RxNorm</td>\n",
       "      <td>Branded Drug</td>\n",
       "      <td>S</td>\n",
       "      <td>1088253</td>\n",
       "      <td>2011-03-06</td>\n",
       "      <td>2099-12-31</td>\n",
       "      <td>None</td>\n",
       "    </tr>\n",
       "    <tr>\n",
       "      <th>6</th>\n",
       "      <td>40236073</td>\n",
       "      <td>erlotinib 25 MG Oral Tablet [Tarceva]</td>\n",
       "      <td>Drug</td>\n",
       "      <td>RxNorm</td>\n",
       "      <td>Branded Drug</td>\n",
       "      <td>S</td>\n",
       "      <td>1088255</td>\n",
       "      <td>2011-03-06</td>\n",
       "      <td>2099-12-31</td>\n",
       "      <td>None</td>\n",
       "    </tr>\n",
       "    <tr>\n",
       "      <th>7</th>\n",
       "      <td>19025418</td>\n",
       "      <td>Tarceva</td>\n",
       "      <td>Drug</td>\n",
       "      <td>RxNorm</td>\n",
       "      <td>Brand Name</td>\n",
       "      <td>None</td>\n",
       "      <td>337526</td>\n",
       "      <td>2005-09-11</td>\n",
       "      <td>2099-12-31</td>\n",
       "      <td>None</td>\n",
       "    </tr>\n",
       "    <tr>\n",
       "      <th>8</th>\n",
       "      <td>19113347</td>\n",
       "      <td>erlotinib 100 MG Oral Tablet [Tarceva]</td>\n",
       "      <td>Drug</td>\n",
       "      <td>RxNorm</td>\n",
       "      <td>Branded Drug</td>\n",
       "      <td>None</td>\n",
       "      <td>540424</td>\n",
       "      <td>2005-09-11</td>\n",
       "      <td>2011-03-05</td>\n",
       "      <td>U</td>\n",
       "    </tr>\n",
       "    <tr>\n",
       "      <th>9</th>\n",
       "      <td>19113349</td>\n",
       "      <td>erlotinib 150 MG Oral Tablet [Tarceva]</td>\n",
       "      <td>Drug</td>\n",
       "      <td>RxNorm</td>\n",
       "      <td>Branded Drug</td>\n",
       "      <td>None</td>\n",
       "      <td>540426</td>\n",
       "      <td>2005-09-11</td>\n",
       "      <td>2011-03-05</td>\n",
       "      <td>U</td>\n",
       "    </tr>\n",
       "  </tbody>\n",
       "</table>\n",
       "</div>"
      ],
      "text/plain": [
       "  CONCEPT_ID                            CONCEPT_NAME DOMAIN_ID VOCABULARY_ID  \\\n",
       "0   40124472         erlotinib Oral Tablet [Tarceva]      Drug        RxNorm   \n",
       "1   40236070              erlotinib 100 MG [Tarceva]      Drug        RxNorm   \n",
       "2   40236072              erlotinib 150 MG [Tarceva]      Drug        RxNorm   \n",
       "3   40236074               erlotinib 25 MG [Tarceva]      Drug        RxNorm   \n",
       "4   40236069  erlotinib 100 MG Oral Tablet [Tarceva]      Drug        RxNorm   \n",
       "5   40236071  erlotinib 150 MG Oral Tablet [Tarceva]      Drug        RxNorm   \n",
       "6   40236073   erlotinib 25 MG Oral Tablet [Tarceva]      Drug        RxNorm   \n",
       "7   19025418                                 Tarceva      Drug        RxNorm   \n",
       "8   19113347  erlotinib 100 MG Oral Tablet [Tarceva]      Drug        RxNorm   \n",
       "9   19113349  erlotinib 150 MG Oral Tablet [Tarceva]      Drug        RxNorm   \n",
       "\n",
       "    CONCEPT_CLASS_ID STANDARD_CONCEPT CONCEPT_CODE VALID_START_DATE  \\\n",
       "0  Branded Drug Form                S       540423       2005-09-11   \n",
       "1  Branded Drug Comp                S      1088250       2011-03-06   \n",
       "2  Branded Drug Comp                S      1088252       2011-03-06   \n",
       "3  Branded Drug Comp                S      1088254       2011-03-06   \n",
       "4       Branded Drug                S      1088251       2011-03-06   \n",
       "5       Branded Drug                S      1088253       2011-03-06   \n",
       "6       Branded Drug                S      1088255       2011-03-06   \n",
       "7         Brand Name             None       337526       2005-09-11   \n",
       "8       Branded Drug             None       540424       2005-09-11   \n",
       "9       Branded Drug             None       540426       2005-09-11   \n",
       "\n",
       "  VALID_END_DATE INVALID_REASON  \n",
       "0     2099-12-31           None  \n",
       "1     2099-12-31           None  \n",
       "2     2099-12-31           None  \n",
       "3     2099-12-31           None  \n",
       "4     2099-12-31           None  \n",
       "5     2099-12-31           None  \n",
       "6     2099-12-31           None  \n",
       "7     2099-12-31           None  \n",
       "8     2011-03-05              U  \n",
       "9     2011-03-05              U  "
      ]
     },
     "execution_count": 131,
     "metadata": {},
     "output_type": "execute_result"
    }
   ],
   "source": [
    "TarcevaInName.phead(10)"
   ]
  },
  {
   "cell_type": "markdown",
   "metadata": {},
   "source": [
    "### -> Vocabulary"
   ]
  },
  {
   "cell_type": "code",
   "execution_count": 132,
   "metadata": {
    "collapsed": false
   },
   "outputs": [
    {
     "name": "stdout",
     "output_type": "stream",
     "text": [
      "Histogram of VOCABULARY_ID: String sort by Key\n",
      "key                      count      Pct    cumCount   cumPct\n",
      "AMT                         10    9.26%          10    9.26%\n",
      "BDPM                         4    3.70%          14   12.96%\n",
      "DPD                          4    3.70%          18   16.67%\n",
      "GRR                         17   15.74%          35   32.41%\n",
      "NDC                         19   17.59%          54   50.00%\n",
      "RxNorm                      16   14.81%          70   64.81%\n",
      "RxNorm Extension            19   17.59%          89   82.41%\n",
      "SNOMED                       6    5.56%          95   87.96%\n",
      "SPL                          6    5.56%         101   93.52%\n",
      "dm+d                         7    6.48%         108  100.00%\n",
      "-------------------------------------------------\n"
     ]
    }
   ],
   "source": [
    "TarcevaInName.smvHist(\"VOCABULARY_ID\")"
   ]
  },
  {
   "cell_type": "code",
   "execution_count": 36,
   "metadata": {
    "collapsed": true
   },
   "outputs": [],
   "source": [
    "#Load Vocabulary Table\n",
    "vocabulary = pdf(\"com.omop.input.VOCABULARY\")"
   ]
  },
  {
   "cell_type": "code",
   "execution_count": 39,
   "metadata": {
    "collapsed": false
   },
   "outputs": [
    {
     "data": {
      "text/html": [
       "<div>\n",
       "<table border=\"1\" class=\"dataframe\">\n",
       "  <thead>\n",
       "    <tr style=\"text-align: right;\">\n",
       "      <th></th>\n",
       "      <th>VOCABULARY_ID</th>\n",
       "      <th>VOCABULARY_NAME</th>\n",
       "      <th>VOCABULARY_REFERENCE</th>\n",
       "      <th>VOCABULARY_VERSION</th>\n",
       "      <th>VOCABULARY_CONCEPT_ID</th>\n",
       "    </tr>\n",
       "  </thead>\n",
       "  <tbody>\n",
       "    <tr>\n",
       "      <th>0</th>\n",
       "      <td>ABMS</td>\n",
       "      <td>Provider Specialty (American Board of Medical ...</td>\n",
       "      <td>http://www.abms.org/member-boards/specialty-su...</td>\n",
       "      <td>None</td>\n",
       "      <td>45756746</td>\n",
       "    </tr>\n",
       "    <tr>\n",
       "      <th>1</th>\n",
       "      <td>None</td>\n",
       "      <td>OMOP Standardized Vocabularies</td>\n",
       "      <td>OMOP generated</td>\n",
       "      <td>v5.0 30-DEC-16</td>\n",
       "      <td>44819096</td>\n",
       "    </tr>\n",
       "    <tr>\n",
       "      <th>2</th>\n",
       "      <td>SNOMED</td>\n",
       "      <td>Systematic Nomenclature of Medicine - Clinical...</td>\n",
       "      <td>http://www.nlm.nih.gov/research/umls/licensedc...</td>\n",
       "      <td>SnomedCT Release 20161005</td>\n",
       "      <td>44819097</td>\n",
       "    </tr>\n",
       "    <tr>\n",
       "      <th>3</th>\n",
       "      <td>ICD9CM</td>\n",
       "      <td>International Classification of Diseases, Nint...</td>\n",
       "      <td>http://www.cms.gov/Medicare/Coding/ICD9Provide...</td>\n",
       "      <td>ICD9CM v32 master descriptions</td>\n",
       "      <td>5046</td>\n",
       "    </tr>\n",
       "    <tr>\n",
       "      <th>4</th>\n",
       "      <td>ICD9Proc</td>\n",
       "      <td>International Classification of Diseases, Nint...</td>\n",
       "      <td>http://www.cms.gov/Medicare/Coding/ICD9Provide...</td>\n",
       "      <td>ICD9CM v32 master descriptions</td>\n",
       "      <td>44819099</td>\n",
       "    </tr>\n",
       "    <tr>\n",
       "      <th>5</th>\n",
       "      <td>CPT4</td>\n",
       "      <td>Current Procedural Terminology version 4 (AMA)</td>\n",
       "      <td>http://www.nlm.nih.gov/research/umls/licensedc...</td>\n",
       "      <td>2015AA</td>\n",
       "      <td>44819100</td>\n",
       "    </tr>\n",
       "    <tr>\n",
       "      <th>6</th>\n",
       "      <td>HCPCS</td>\n",
       "      <td>Healthcare Common Procedure Coding System (CMS)</td>\n",
       "      <td>http://www.nlm.nih.gov/research/umls/licensedc...</td>\n",
       "      <td>2016 Alpha Numeric HCPCS File</td>\n",
       "      <td>44819101</td>\n",
       "    </tr>\n",
       "    <tr>\n",
       "      <th>7</th>\n",
       "      <td>LOINC</td>\n",
       "      <td>Logical Observation Identifiers Names and Code...</td>\n",
       "      <td>http://loinc.org/downloads/loinc</td>\n",
       "      <td>LOINC 2.56</td>\n",
       "      <td>44819102</td>\n",
       "    </tr>\n",
       "    <tr>\n",
       "      <th>8</th>\n",
       "      <td>NDFRT</td>\n",
       "      <td>National Drug File - Reference Terminology (VA)</td>\n",
       "      <td>http://www.nlm.nih.gov/research/umls/rxnorm/do...</td>\n",
       "      <td>RxNorm Full 20161003</td>\n",
       "      <td>44819103</td>\n",
       "    </tr>\n",
       "    <tr>\n",
       "      <th>9</th>\n",
       "      <td>RxNorm</td>\n",
       "      <td>RxNorm (NLM)</td>\n",
       "      <td>http://www.nlm.nih.gov/research/umls/rxnorm/do...</td>\n",
       "      <td>RxNorm Full 20161003</td>\n",
       "      <td>44819104</td>\n",
       "    </tr>\n",
       "  </tbody>\n",
       "</table>\n",
       "</div>"
      ],
      "text/plain": [
       "  VOCABULARY_ID                                    VOCABULARY_NAME  \\\n",
       "0          ABMS  Provider Specialty (American Board of Medical ...   \n",
       "1          None                     OMOP Standardized Vocabularies   \n",
       "2        SNOMED  Systematic Nomenclature of Medicine - Clinical...   \n",
       "3        ICD9CM  International Classification of Diseases, Nint...   \n",
       "4      ICD9Proc  International Classification of Diseases, Nint...   \n",
       "5          CPT4     Current Procedural Terminology version 4 (AMA)   \n",
       "6         HCPCS    Healthcare Common Procedure Coding System (CMS)   \n",
       "7         LOINC  Logical Observation Identifiers Names and Code...   \n",
       "8         NDFRT    National Drug File - Reference Terminology (VA)   \n",
       "9        RxNorm                                       RxNorm (NLM)   \n",
       "\n",
       "                                VOCABULARY_REFERENCE  \\\n",
       "0  http://www.abms.org/member-boards/specialty-su...   \n",
       "1                                     OMOP generated   \n",
       "2  http://www.nlm.nih.gov/research/umls/licensedc...   \n",
       "3  http://www.cms.gov/Medicare/Coding/ICD9Provide...   \n",
       "4  http://www.cms.gov/Medicare/Coding/ICD9Provide...   \n",
       "5  http://www.nlm.nih.gov/research/umls/licensedc...   \n",
       "6  http://www.nlm.nih.gov/research/umls/licensedc...   \n",
       "7                   http://loinc.org/downloads/loinc   \n",
       "8  http://www.nlm.nih.gov/research/umls/rxnorm/do...   \n",
       "9  http://www.nlm.nih.gov/research/umls/rxnorm/do...   \n",
       "\n",
       "               VOCABULARY_VERSION VOCABULARY_CONCEPT_ID  \n",
       "0                            None              45756746  \n",
       "1                  v5.0 30-DEC-16              44819096  \n",
       "2       SnomedCT Release 20161005              44819097  \n",
       "3  ICD9CM v32 master descriptions                  5046  \n",
       "4  ICD9CM v32 master descriptions              44819099  \n",
       "5                          2015AA              44819100  \n",
       "6   2016 Alpha Numeric HCPCS File              44819101  \n",
       "7                      LOINC 2.56              44819102  \n",
       "8            RxNorm Full 20161003              44819103  \n",
       "9            RxNorm Full 20161003              44819104  "
      ]
     },
     "execution_count": 39,
     "metadata": {},
     "output_type": "execute_result"
    }
   ],
   "source": [
    "vocabulary.phead(10)"
   ]
  },
  {
   "cell_type": "markdown",
   "metadata": {},
   "source": [
    "### -> Domain"
   ]
  },
  {
   "cell_type": "code",
   "execution_count": 40,
   "metadata": {
    "collapsed": false
   },
   "outputs": [
    {
     "name": "stdout",
     "output_type": "stream",
     "text": [
      "Histogram of DOMAIN_ID: String sort by Key\n",
      "key                      count      Pct    cumCount   cumPct\n",
      "Drug                       108  100.00%         108  100.00%\n",
      "-------------------------------------------------\n"
     ]
    }
   ],
   "source": [
    "TarcevaInName.smvHist(\"DOMAIN_ID\")"
   ]
  },
  {
   "cell_type": "code",
   "execution_count": 41,
   "metadata": {
    "collapsed": true
   },
   "outputs": [],
   "source": [
    "domain = pdf(\"com.omop.input.DOMAIN\")"
   ]
  },
  {
   "cell_type": "code",
   "execution_count": 42,
   "metadata": {
    "collapsed": false
   },
   "outputs": [
    {
     "data": {
      "text/html": [
       "<div>\n",
       "<table border=\"1\" class=\"dataframe\">\n",
       "  <thead>\n",
       "    <tr style=\"text-align: right;\">\n",
       "      <th></th>\n",
       "      <th>DOMAIN_ID</th>\n",
       "      <th>DOMAIN_NAME</th>\n",
       "      <th>DOMAIN_CONCEPT_ID</th>\n",
       "    </tr>\n",
       "  </thead>\n",
       "  <tbody>\n",
       "    <tr>\n",
       "      <th>0</th>\n",
       "      <td>Condition/Device</td>\n",
       "      <td>Condition/Device</td>\n",
       "      <td>235</td>\n",
       "    </tr>\n",
       "    <tr>\n",
       "      <th>1</th>\n",
       "      <td>Gender</td>\n",
       "      <td>Gender</td>\n",
       "      <td>2</td>\n",
       "    </tr>\n",
       "    <tr>\n",
       "      <th>2</th>\n",
       "      <td>Race</td>\n",
       "      <td>Race</td>\n",
       "      <td>3</td>\n",
       "    </tr>\n",
       "    <tr>\n",
       "      <th>3</th>\n",
       "      <td>Ethnicity</td>\n",
       "      <td>Ethnicity</td>\n",
       "      <td>4</td>\n",
       "    </tr>\n",
       "    <tr>\n",
       "      <th>4</th>\n",
       "      <td>Metadata</td>\n",
       "      <td>Metadata</td>\n",
       "      <td>7</td>\n",
       "    </tr>\n",
       "    <tr>\n",
       "      <th>5</th>\n",
       "      <td>Visit</td>\n",
       "      <td>Visit</td>\n",
       "      <td>8</td>\n",
       "    </tr>\n",
       "    <tr>\n",
       "      <th>6</th>\n",
       "      <td>Procedure</td>\n",
       "      <td>Procedure</td>\n",
       "      <td>10</td>\n",
       "    </tr>\n",
       "    <tr>\n",
       "      <th>7</th>\n",
       "      <td>Modifier</td>\n",
       "      <td>Modifier</td>\n",
       "      <td>12</td>\n",
       "    </tr>\n",
       "    <tr>\n",
       "      <th>8</th>\n",
       "      <td>Drug</td>\n",
       "      <td>Drug</td>\n",
       "      <td>13</td>\n",
       "    </tr>\n",
       "    <tr>\n",
       "      <th>9</th>\n",
       "      <td>Route</td>\n",
       "      <td>Route Of Administration</td>\n",
       "      <td>15</td>\n",
       "    </tr>\n",
       "  </tbody>\n",
       "</table>\n",
       "</div>"
      ],
      "text/plain": [
       "          DOMAIN_ID              DOMAIN_NAME DOMAIN_CONCEPT_ID\n",
       "0  Condition/Device         Condition/Device               235\n",
       "1            Gender                   Gender                 2\n",
       "2              Race                     Race                 3\n",
       "3         Ethnicity                Ethnicity                 4\n",
       "4          Metadata                 Metadata                 7\n",
       "5             Visit                    Visit                 8\n",
       "6         Procedure                Procedure                10\n",
       "7          Modifier                 Modifier                12\n",
       "8              Drug                     Drug                13\n",
       "9             Route  Route Of Administration                15"
      ]
     },
     "execution_count": 42,
     "metadata": {},
     "output_type": "execute_result"
    }
   ],
   "source": [
    "domain.phead(10)"
   ]
  },
  {
   "cell_type": "markdown",
   "metadata": {},
   "source": [
    "### -> Concept Class"
   ]
  },
  {
   "cell_type": "code",
   "execution_count": 43,
   "metadata": {
    "collapsed": false
   },
   "outputs": [
    {
     "name": "stdout",
     "output_type": "stream",
     "text": [
      "Histogram of CONCEPT_CLASS_ID: String sort by Key\n",
      "key                      count      Pct    cumCount   cumPct\n",
      "11-digit NDC                10    9.26%          10    9.26%\n",
      "9-digit NDC                  9    8.33%          19   17.59%\n",
      "AMP                          3    2.78%          22   20.37%\n",
      "AMPP                         3    2.78%          25   23.15%\n",
      "Brand Name                   4    3.70%          29   26.85%\n",
      "Branded Dose Group           2    1.85%          31   28.70%\n",
      "Branded Drug                12   11.11%          43   39.81%\n",
      "Branded Drug Box             6    5.56%          49   45.37%\n",
      "Branded Drug Comp            6    5.56%          55   50.93%\n",
      "Branded Drug Form            2    1.85%          57   52.78%\n",
      "Containered Pack             3    2.78%          60   55.56%\n",
      "Drug Product                20   18.52%          80   74.07%\n",
      "Marketed Product             9    8.33%          89   82.41%\n",
      "Pharma/Biol Product          6    5.56%          95   87.96%\n",
      "Prescription Drug            5    4.63%         100   92.59%\n",
      "SPL                          1    0.93%         101   93.52%\n",
      "Trade Product                1    0.93%         102   94.44%\n",
      "Trade Product Pack           3    2.78%         105   97.22%\n",
      "Trade Product Unit           3    2.78%         108  100.00%\n",
      "-------------------------------------------------\n"
     ]
    }
   ],
   "source": [
    "TarcevaInName.smvHist(\"CONCEPT_CLASS_ID\")"
   ]
  },
  {
   "cell_type": "code",
   "execution_count": 44,
   "metadata": {
    "collapsed": true
   },
   "outputs": [],
   "source": [
    "domain = pdf(\"com.omop.input.CONCEPT_CLASS\")"
   ]
  },
  {
   "cell_type": "code",
   "execution_count": 47,
   "metadata": {
    "collapsed": false
   },
   "outputs": [
    {
     "data": {
      "text/html": [
       "<div>\n",
       "<table border=\"1\" class=\"dataframe\">\n",
       "  <thead>\n",
       "    <tr style=\"text-align: right;\">\n",
       "      <th></th>\n",
       "      <th>CONCEPT_CLASS_ID</th>\n",
       "      <th>CONCEPT_CLASS_NAME</th>\n",
       "      <th>CONCEPT_CLASS_CONCEPT_ID</th>\n",
       "    </tr>\n",
       "  </thead>\n",
       "  <tbody>\n",
       "    <tr>\n",
       "      <th>0</th>\n",
       "      <td>MS-DRG</td>\n",
       "      <td>Medicare Severity Disease-related Group</td>\n",
       "      <td>45757047</td>\n",
       "    </tr>\n",
       "    <tr>\n",
       "      <th>1</th>\n",
       "      <td>ICD9CM non-bill code</td>\n",
       "      <td>ICD9CM non-billable code</td>\n",
       "      <td>45754823</td>\n",
       "    </tr>\n",
       "    <tr>\n",
       "      <th>2</th>\n",
       "      <td>ICD9Proc non-bill</td>\n",
       "      <td>ICD9Proc non-billable code</td>\n",
       "      <td>45754824</td>\n",
       "    </tr>\n",
       "    <tr>\n",
       "      <th>3</th>\n",
       "      <td>2-dig nonbill code</td>\n",
       "      <td>2-digit non-billing code</td>\n",
       "      <td>45754881</td>\n",
       "    </tr>\n",
       "    <tr>\n",
       "      <th>4</th>\n",
       "      <td>ICD10 Hierarchy</td>\n",
       "      <td>ICD10 Hierarchy</td>\n",
       "      <td>45754906</td>\n",
       "    </tr>\n",
       "    <tr>\n",
       "      <th>5</th>\n",
       "      <td>4-dig nonbill V code</td>\n",
       "      <td>4-digit non-billing V code</td>\n",
       "      <td>45756722</td>\n",
       "    </tr>\n",
       "    <tr>\n",
       "      <th>6</th>\n",
       "      <td>CPT4 Hierarchy</td>\n",
       "      <td>CPT4 Hierarchy</td>\n",
       "      <td>45754686</td>\n",
       "    </tr>\n",
       "    <tr>\n",
       "      <th>7</th>\n",
       "      <td>DRG Type</td>\n",
       "      <td>Disease Related Group Type</td>\n",
       "      <td>45754799</td>\n",
       "    </tr>\n",
       "    <tr>\n",
       "      <th>8</th>\n",
       "      <td>Diagnosis Code Type</td>\n",
       "      <td>Diagnosis Code Type</td>\n",
       "      <td>45754800</td>\n",
       "    </tr>\n",
       "    <tr>\n",
       "      <th>9</th>\n",
       "      <td>Diagnosis Type</td>\n",
       "      <td>Diagnosis Type</td>\n",
       "      <td>45754801</td>\n",
       "    </tr>\n",
       "  </tbody>\n",
       "</table>\n",
       "</div>"
      ],
      "text/plain": [
       "       CONCEPT_CLASS_ID                       CONCEPT_CLASS_NAME  \\\n",
       "0                MS-DRG  Medicare Severity Disease-related Group   \n",
       "1  ICD9CM non-bill code                 ICD9CM non-billable code   \n",
       "2     ICD9Proc non-bill               ICD9Proc non-billable code   \n",
       "3    2-dig nonbill code                 2-digit non-billing code   \n",
       "4       ICD10 Hierarchy                          ICD10 Hierarchy   \n",
       "5  4-dig nonbill V code               4-digit non-billing V code   \n",
       "6        CPT4 Hierarchy                           CPT4 Hierarchy   \n",
       "7              DRG Type               Disease Related Group Type   \n",
       "8   Diagnosis Code Type                      Diagnosis Code Type   \n",
       "9        Diagnosis Type                           Diagnosis Type   \n",
       "\n",
       "  CONCEPT_CLASS_CONCEPT_ID  \n",
       "0                 45757047  \n",
       "1                 45754823  \n",
       "2                 45754824  \n",
       "3                 45754881  \n",
       "4                 45754906  \n",
       "5                 45756722  \n",
       "6                 45754686  \n",
       "7                 45754799  \n",
       "8                 45754800  \n",
       "9                 45754801  "
      ]
     },
     "execution_count": 47,
     "metadata": {},
     "output_type": "execute_result"
    }
   ],
   "source": [
    "domain.phead(10)"
   ]
  },
  {
   "cell_type": "markdown",
   "metadata": {},
   "source": [
    "### Standard Concept VS Classification Concept VS Source Concepts"
   ]
  },
  {
   "cell_type": "code",
   "execution_count": 48,
   "metadata": {
    "collapsed": false
   },
   "outputs": [
    {
     "name": "stdout",
     "output_type": "stream",
     "text": [
      "Histogram of STANDARD_CONCEPT: String sort by Key\n",
      "key                      count      Pct    cumCount   cumPct\n",
      "null                        75   69.44%          75   69.44%\n",
      "C                            7    6.48%          82   75.93%\n",
      "S                           26   24.07%         108  100.00%\n",
      "-------------------------------------------------\n"
     ]
    }
   ],
   "source": [
    "TarcevaInName.smvHist(\"STANDARD_CONCEPT\")"
   ]
  },
  {
   "cell_type": "markdown",
   "metadata": {},
   "source": [
    "### Explore Standard Concepts"
   ]
  },
  {
   "cell_type": "code",
   "execution_count": 74,
   "metadata": {
    "collapsed": true
   },
   "outputs": [],
   "source": [
    "tarcevaS = TarcevaInName.filter(TarcevaInName.STANDARD_CONCEPT == \"S\").cache()"
   ]
  },
  {
   "cell_type": "code",
   "execution_count": 75,
   "metadata": {
    "collapsed": false
   },
   "outputs": [
    {
     "name": "stdout",
     "output_type": "stream",
     "text": [
      "Histogram of VOCABULARY_ID: String sort by Key\n",
      "key                      count      Pct    cumCount   cumPct\n",
      "RxNorm                       7   26.92%           7   26.92%\n",
      "RxNorm Extension            19   73.08%          26  100.00%\n",
      "-------------------------------------------------\n"
     ]
    }
   ],
   "source": [
    "tarcevaS.smvHist(\"VOCABULARY_ID\")"
   ]
  },
  {
   "cell_type": "markdown",
   "metadata": {},
   "source": [
    "#### Look closely at concept class"
   ]
  },
  {
   "cell_type": "code",
   "execution_count": 76,
   "metadata": {
    "collapsed": false
   },
   "outputs": [
    {
     "name": "stdout",
     "output_type": "stream",
     "text": [
      "Histogram of CONCEPT_CLASS_ID: String sort by Key\n",
      "key                      count      Pct    cumCount   cumPct\n",
      "Branded Drug                 6   23.08%           6   23.08%\n",
      "Branded Drug Box             6   23.08%          12   46.15%\n",
      "Branded Drug Comp            3   11.54%          15   57.69%\n",
      "Branded Drug Form            2    7.69%          17   65.38%\n",
      "Marketed Product             9   34.62%          26  100.00%\n",
      "-------------------------------------------------\n"
     ]
    }
   ],
   "source": [
    "tarcevaS.smvHist(\"CONCEPT_CLASS_ID\")"
   ]
  },
  {
   "cell_type": "code",
   "execution_count": 77,
   "metadata": {
    "collapsed": false
   },
   "outputs": [
    {
     "data": {
      "text/html": [
       "<div>\n",
       "<table border=\"1\" class=\"dataframe\">\n",
       "  <thead>\n",
       "    <tr style=\"text-align: right;\">\n",
       "      <th></th>\n",
       "      <th>CONCEPT_ID</th>\n",
       "      <th>CONCEPT_NAME</th>\n",
       "      <th>DOMAIN_ID</th>\n",
       "      <th>VOCABULARY_ID</th>\n",
       "      <th>CONCEPT_CLASS_ID</th>\n",
       "      <th>STANDARD_CONCEPT</th>\n",
       "      <th>CONCEPT_CODE</th>\n",
       "      <th>VALID_START_DATE</th>\n",
       "      <th>VALID_END_DATE</th>\n",
       "      <th>INVALID_REASON</th>\n",
       "    </tr>\n",
       "  </thead>\n",
       "  <tbody>\n",
       "    <tr>\n",
       "      <th>0</th>\n",
       "      <td>40124472</td>\n",
       "      <td>erlotinib Oral Tablet [Tarceva]</td>\n",
       "      <td>Drug</td>\n",
       "      <td>RxNorm</td>\n",
       "      <td>Branded Drug Form</td>\n",
       "      <td>S</td>\n",
       "      <td>540423</td>\n",
       "      <td>2005-09-11</td>\n",
       "      <td>2099-12-31</td>\n",
       "      <td>None</td>\n",
       "    </tr>\n",
       "    <tr>\n",
       "      <th>1</th>\n",
       "      <td>43161158</td>\n",
       "      <td>erlotinib Delayed Release Oral Tablet [Tarceva]</td>\n",
       "      <td>Drug</td>\n",
       "      <td>RxNorm Extension</td>\n",
       "      <td>Branded Drug Form</td>\n",
       "      <td>S</td>\n",
       "      <td>OMOP484690</td>\n",
       "      <td>2016-09-10</td>\n",
       "      <td>2099-12-31</td>\n",
       "      <td>None</td>\n",
       "    </tr>\n",
       "  </tbody>\n",
       "</table>\n",
       "</div>"
      ],
      "text/plain": [
       "  CONCEPT_ID                                     CONCEPT_NAME DOMAIN_ID  \\\n",
       "0   40124472                  erlotinib Oral Tablet [Tarceva]      Drug   \n",
       "1   43161158  erlotinib Delayed Release Oral Tablet [Tarceva]      Drug   \n",
       "\n",
       "      VOCABULARY_ID   CONCEPT_CLASS_ID STANDARD_CONCEPT CONCEPT_CODE  \\\n",
       "0            RxNorm  Branded Drug Form                S       540423   \n",
       "1  RxNorm Extension  Branded Drug Form                S   OMOP484690   \n",
       "\n",
       "  VALID_START_DATE VALID_END_DATE INVALID_REASON  \n",
       "0       2005-09-11     2099-12-31           None  \n",
       "1       2016-09-10     2099-12-31           None  "
      ]
     },
     "execution_count": 77,
     "metadata": {},
     "output_type": "execute_result"
    }
   ],
   "source": [
    "tarcevaS.filter(tarceva.CONCEPT_CLASS_ID == \"Branded Drug Form\").phead(10)"
   ]
  },
  {
   "cell_type": "code",
   "execution_count": 78,
   "metadata": {
    "collapsed": false
   },
   "outputs": [
    {
     "data": {
      "text/html": [
       "<div>\n",
       "<table border=\"1\" class=\"dataframe\">\n",
       "  <thead>\n",
       "    <tr style=\"text-align: right;\">\n",
       "      <th></th>\n",
       "      <th>CONCEPT_ID</th>\n",
       "      <th>CONCEPT_NAME</th>\n",
       "      <th>DOMAIN_ID</th>\n",
       "      <th>VOCABULARY_ID</th>\n",
       "      <th>CONCEPT_CLASS_ID</th>\n",
       "      <th>STANDARD_CONCEPT</th>\n",
       "      <th>CONCEPT_CODE</th>\n",
       "      <th>VALID_START_DATE</th>\n",
       "      <th>VALID_END_DATE</th>\n",
       "      <th>INVALID_REASON</th>\n",
       "    </tr>\n",
       "  </thead>\n",
       "  <tbody>\n",
       "    <tr>\n",
       "      <th>0</th>\n",
       "      <td>40236070</td>\n",
       "      <td>erlotinib 100 MG [Tarceva]</td>\n",
       "      <td>Drug</td>\n",
       "      <td>RxNorm</td>\n",
       "      <td>Branded Drug Comp</td>\n",
       "      <td>S</td>\n",
       "      <td>1088250</td>\n",
       "      <td>2011-03-06</td>\n",
       "      <td>2099-12-31</td>\n",
       "      <td>None</td>\n",
       "    </tr>\n",
       "    <tr>\n",
       "      <th>1</th>\n",
       "      <td>40236072</td>\n",
       "      <td>erlotinib 150 MG [Tarceva]</td>\n",
       "      <td>Drug</td>\n",
       "      <td>RxNorm</td>\n",
       "      <td>Branded Drug Comp</td>\n",
       "      <td>S</td>\n",
       "      <td>1088252</td>\n",
       "      <td>2011-03-06</td>\n",
       "      <td>2099-12-31</td>\n",
       "      <td>None</td>\n",
       "    </tr>\n",
       "    <tr>\n",
       "      <th>2</th>\n",
       "      <td>40236074</td>\n",
       "      <td>erlotinib 25 MG [Tarceva]</td>\n",
       "      <td>Drug</td>\n",
       "      <td>RxNorm</td>\n",
       "      <td>Branded Drug Comp</td>\n",
       "      <td>S</td>\n",
       "      <td>1088254</td>\n",
       "      <td>2011-03-06</td>\n",
       "      <td>2099-12-31</td>\n",
       "      <td>None</td>\n",
       "    </tr>\n",
       "  </tbody>\n",
       "</table>\n",
       "</div>"
      ],
      "text/plain": [
       "  CONCEPT_ID                CONCEPT_NAME DOMAIN_ID VOCABULARY_ID  \\\n",
       "0   40236070  erlotinib 100 MG [Tarceva]      Drug        RxNorm   \n",
       "1   40236072  erlotinib 150 MG [Tarceva]      Drug        RxNorm   \n",
       "2   40236074   erlotinib 25 MG [Tarceva]      Drug        RxNorm   \n",
       "\n",
       "    CONCEPT_CLASS_ID STANDARD_CONCEPT CONCEPT_CODE VALID_START_DATE  \\\n",
       "0  Branded Drug Comp                S      1088250       2011-03-06   \n",
       "1  Branded Drug Comp                S      1088252       2011-03-06   \n",
       "2  Branded Drug Comp                S      1088254       2011-03-06   \n",
       "\n",
       "  VALID_END_DATE INVALID_REASON  \n",
       "0     2099-12-31           None  \n",
       "1     2099-12-31           None  \n",
       "2     2099-12-31           None  "
      ]
     },
     "execution_count": 78,
     "metadata": {},
     "output_type": "execute_result"
    }
   ],
   "source": [
    "tarcevaS.filter(tarceva.CONCEPT_CLASS_ID == \"Branded Drug Comp\").phead(10)"
   ]
  },
  {
   "cell_type": "code",
   "execution_count": 79,
   "metadata": {
    "collapsed": false
   },
   "outputs": [
    {
     "data": {
      "text/html": [
       "<div>\n",
       "<table border=\"1\" class=\"dataframe\">\n",
       "  <thead>\n",
       "    <tr style=\"text-align: right;\">\n",
       "      <th></th>\n",
       "      <th>CONCEPT_ID</th>\n",
       "      <th>CONCEPT_NAME</th>\n",
       "      <th>DOMAIN_ID</th>\n",
       "      <th>VOCABULARY_ID</th>\n",
       "      <th>CONCEPT_CLASS_ID</th>\n",
       "      <th>STANDARD_CONCEPT</th>\n",
       "      <th>CONCEPT_CODE</th>\n",
       "      <th>VALID_START_DATE</th>\n",
       "      <th>VALID_END_DATE</th>\n",
       "      <th>INVALID_REASON</th>\n",
       "    </tr>\n",
       "  </thead>\n",
       "  <tbody>\n",
       "    <tr>\n",
       "      <th>0</th>\n",
       "      <td>40236069</td>\n",
       "      <td>erlotinib 100 MG Oral Tablet [Tarceva]</td>\n",
       "      <td>Drug</td>\n",
       "      <td>RxNorm</td>\n",
       "      <td>Branded Drug</td>\n",
       "      <td>S</td>\n",
       "      <td>1088251</td>\n",
       "      <td>2011-03-06</td>\n",
       "      <td>2099-12-31</td>\n",
       "      <td>None</td>\n",
       "    </tr>\n",
       "    <tr>\n",
       "      <th>1</th>\n",
       "      <td>40236071</td>\n",
       "      <td>erlotinib 150 MG Oral Tablet [Tarceva]</td>\n",
       "      <td>Drug</td>\n",
       "      <td>RxNorm</td>\n",
       "      <td>Branded Drug</td>\n",
       "      <td>S</td>\n",
       "      <td>1088253</td>\n",
       "      <td>2011-03-06</td>\n",
       "      <td>2099-12-31</td>\n",
       "      <td>None</td>\n",
       "    </tr>\n",
       "    <tr>\n",
       "      <th>2</th>\n",
       "      <td>40236073</td>\n",
       "      <td>erlotinib 25 MG Oral Tablet [Tarceva]</td>\n",
       "      <td>Drug</td>\n",
       "      <td>RxNorm</td>\n",
       "      <td>Branded Drug</td>\n",
       "      <td>S</td>\n",
       "      <td>1088255</td>\n",
       "      <td>2011-03-06</td>\n",
       "      <td>2099-12-31</td>\n",
       "      <td>None</td>\n",
       "    </tr>\n",
       "    <tr>\n",
       "      <th>3</th>\n",
       "      <td>43161159</td>\n",
       "      <td>erlotinib 25 MG Delayed Release Oral Tablet [T...</td>\n",
       "      <td>Drug</td>\n",
       "      <td>RxNorm Extension</td>\n",
       "      <td>Branded Drug</td>\n",
       "      <td>S</td>\n",
       "      <td>OMOP484694</td>\n",
       "      <td>2016-09-10</td>\n",
       "      <td>2099-12-31</td>\n",
       "      <td>None</td>\n",
       "    </tr>\n",
       "    <tr>\n",
       "      <th>4</th>\n",
       "      <td>43194048</td>\n",
       "      <td>erlotinib 100 MG Delayed Release Oral Tablet [...</td>\n",
       "      <td>Drug</td>\n",
       "      <td>RxNorm Extension</td>\n",
       "      <td>Branded Drug</td>\n",
       "      <td>S</td>\n",
       "      <td>OMOP484700</td>\n",
       "      <td>2016-09-10</td>\n",
       "      <td>2099-12-31</td>\n",
       "      <td>None</td>\n",
       "    </tr>\n",
       "    <tr>\n",
       "      <th>5</th>\n",
       "      <td>43215936</td>\n",
       "      <td>erlotinib 150 MG Delayed Release Oral Tablet [...</td>\n",
       "      <td>Drug</td>\n",
       "      <td>RxNorm Extension</td>\n",
       "      <td>Branded Drug</td>\n",
       "      <td>S</td>\n",
       "      <td>OMOP484705</td>\n",
       "      <td>2016-09-10</td>\n",
       "      <td>2099-12-31</td>\n",
       "      <td>None</td>\n",
       "    </tr>\n",
       "  </tbody>\n",
       "</table>\n",
       "</div>"
      ],
      "text/plain": [
       "  CONCEPT_ID                                       CONCEPT_NAME DOMAIN_ID  \\\n",
       "0   40236069             erlotinib 100 MG Oral Tablet [Tarceva]      Drug   \n",
       "1   40236071             erlotinib 150 MG Oral Tablet [Tarceva]      Drug   \n",
       "2   40236073              erlotinib 25 MG Oral Tablet [Tarceva]      Drug   \n",
       "3   43161159  erlotinib 25 MG Delayed Release Oral Tablet [T...      Drug   \n",
       "4   43194048  erlotinib 100 MG Delayed Release Oral Tablet [...      Drug   \n",
       "5   43215936  erlotinib 150 MG Delayed Release Oral Tablet [...      Drug   \n",
       "\n",
       "      VOCABULARY_ID CONCEPT_CLASS_ID STANDARD_CONCEPT CONCEPT_CODE  \\\n",
       "0            RxNorm     Branded Drug                S      1088251   \n",
       "1            RxNorm     Branded Drug                S      1088253   \n",
       "2            RxNorm     Branded Drug                S      1088255   \n",
       "3  RxNorm Extension     Branded Drug                S   OMOP484694   \n",
       "4  RxNorm Extension     Branded Drug                S   OMOP484700   \n",
       "5  RxNorm Extension     Branded Drug                S   OMOP484705   \n",
       "\n",
       "  VALID_START_DATE VALID_END_DATE INVALID_REASON  \n",
       "0       2011-03-06     2099-12-31           None  \n",
       "1       2011-03-06     2099-12-31           None  \n",
       "2       2011-03-06     2099-12-31           None  \n",
       "3       2016-09-10     2099-12-31           None  \n",
       "4       2016-09-10     2099-12-31           None  \n",
       "5       2016-09-10     2099-12-31           None  "
      ]
     },
     "execution_count": 79,
     "metadata": {},
     "output_type": "execute_result"
    }
   ],
   "source": [
    "tarcevaS.filter(tarceva.CONCEPT_CLASS_ID == \"Branded Drug\").phead(10)"
   ]
  },
  {
   "cell_type": "markdown",
   "metadata": {},
   "source": [
    "### Explore Classification Concepts"
   ]
  },
  {
   "cell_type": "code",
   "execution_count": 81,
   "metadata": {
    "collapsed": true
   },
   "outputs": [],
   "source": [
    "tarcevaC = TarcevaInName.filter(TarcevaInName.STANDARD_CONCEPT == \"C\").cache()"
   ]
  },
  {
   "cell_type": "code",
   "execution_count": 82,
   "metadata": {
    "collapsed": false
   },
   "outputs": [
    {
     "data": {
      "text/html": [
       "<div>\n",
       "<table border=\"1\" class=\"dataframe\">\n",
       "  <thead>\n",
       "    <tr style=\"text-align: right;\">\n",
       "      <th></th>\n",
       "      <th>CONCEPT_ID</th>\n",
       "      <th>CONCEPT_NAME</th>\n",
       "      <th>DOMAIN_ID</th>\n",
       "      <th>VOCABULARY_ID</th>\n",
       "      <th>CONCEPT_CLASS_ID</th>\n",
       "      <th>STANDARD_CONCEPT</th>\n",
       "      <th>CONCEPT_CODE</th>\n",
       "      <th>VALID_START_DATE</th>\n",
       "      <th>VALID_END_DATE</th>\n",
       "      <th>INVALID_REASON</th>\n",
       "    </tr>\n",
       "  </thead>\n",
       "  <tbody>\n",
       "    <tr>\n",
       "      <th>0</th>\n",
       "      <td>45627044</td>\n",
       "      <td>TARCEVA - erlotinib hydrochloride tablet</td>\n",
       "      <td>Drug</td>\n",
       "      <td>SPL</td>\n",
       "      <td>Prescription Drug</td>\n",
       "      <td>C</td>\n",
       "      <td>5783976b-0862-44e5-9b19-0f41d236d5c3</td>\n",
       "      <td>2015-02-26</td>\n",
       "      <td>2099-12-31</td>\n",
       "      <td>None</td>\n",
       "    </tr>\n",
       "    <tr>\n",
       "      <th>1</th>\n",
       "      <td>45693650</td>\n",
       "      <td>TARCEVA - erlotinib hydrochloride tablet</td>\n",
       "      <td>Drug</td>\n",
       "      <td>SPL</td>\n",
       "      <td>Prescription Drug</td>\n",
       "      <td>C</td>\n",
       "      <td>57bccb29-1c47-4c64-ab6a-77960a91cc20</td>\n",
       "      <td>2013-10-07</td>\n",
       "      <td>2099-12-31</td>\n",
       "      <td>None</td>\n",
       "    </tr>\n",
       "    <tr>\n",
       "      <th>2</th>\n",
       "      <td>45691633</td>\n",
       "      <td>erlotinib hydrochloride 25mg/1 / 100mg/1 / 150...</td>\n",
       "      <td>Drug</td>\n",
       "      <td>SPL</td>\n",
       "      <td>Prescription Drug</td>\n",
       "      <td>C</td>\n",
       "      <td>fb809355-146a-4baf-a029-a80b7faee7bb</td>\n",
       "      <td>2005-07-01</td>\n",
       "      <td>2099-12-31</td>\n",
       "      <td>None</td>\n",
       "    </tr>\n",
       "    <tr>\n",
       "      <th>3</th>\n",
       "      <td>45795998</td>\n",
       "      <td>erlotinib hydrochloride 25mg/1 / 100mg/1 / 150...</td>\n",
       "      <td>Drug</td>\n",
       "      <td>SPL</td>\n",
       "      <td>Prescription Drug</td>\n",
       "      <td>C</td>\n",
       "      <td>acf5daa0-3882-4a75-9e2a-318fa1090ee1</td>\n",
       "      <td>2005-04-30</td>\n",
       "      <td>2099-12-31</td>\n",
       "      <td>None</td>\n",
       "    </tr>\n",
       "    <tr>\n",
       "      <th>4</th>\n",
       "      <td>46238503</td>\n",
       "      <td>erlotinib hydrochloride 25mg/1 / 100mg/1 / 150...</td>\n",
       "      <td>Drug</td>\n",
       "      <td>SPL</td>\n",
       "      <td>Prescription Drug</td>\n",
       "      <td>C</td>\n",
       "      <td>0dad3c13-1895-439c-8f92-4f906f1b302c</td>\n",
       "      <td>2005-04-30</td>\n",
       "      <td>2099-12-31</td>\n",
       "      <td>None</td>\n",
       "    </tr>\n",
       "    <tr>\n",
       "      <th>5</th>\n",
       "      <td>36229216</td>\n",
       "      <td>Tarceva Oral Product</td>\n",
       "      <td>Drug</td>\n",
       "      <td>RxNorm</td>\n",
       "      <td>Branded Dose Group</td>\n",
       "      <td>C</td>\n",
       "      <td>1179040</td>\n",
       "      <td>2016-08-01</td>\n",
       "      <td>2099-12-31</td>\n",
       "      <td>None</td>\n",
       "    </tr>\n",
       "    <tr>\n",
       "      <th>6</th>\n",
       "      <td>36229217</td>\n",
       "      <td>Tarceva Pill</td>\n",
       "      <td>Drug</td>\n",
       "      <td>RxNorm</td>\n",
       "      <td>Branded Dose Group</td>\n",
       "      <td>C</td>\n",
       "      <td>1179041</td>\n",
       "      <td>2016-08-01</td>\n",
       "      <td>2099-12-31</td>\n",
       "      <td>None</td>\n",
       "    </tr>\n",
       "  </tbody>\n",
       "</table>\n",
       "</div>"
      ],
      "text/plain": [
       "  CONCEPT_ID                                       CONCEPT_NAME DOMAIN_ID  \\\n",
       "0   45627044           TARCEVA - erlotinib hydrochloride tablet      Drug   \n",
       "1   45693650           TARCEVA - erlotinib hydrochloride tablet      Drug   \n",
       "2   45691633  erlotinib hydrochloride 25mg/1 / 100mg/1 / 150...      Drug   \n",
       "3   45795998  erlotinib hydrochloride 25mg/1 / 100mg/1 / 150...      Drug   \n",
       "4   46238503  erlotinib hydrochloride 25mg/1 / 100mg/1 / 150...      Drug   \n",
       "5   36229216                               Tarceva Oral Product      Drug   \n",
       "6   36229217                                       Tarceva Pill      Drug   \n",
       "\n",
       "  VOCABULARY_ID    CONCEPT_CLASS_ID STANDARD_CONCEPT  \\\n",
       "0           SPL   Prescription Drug                C   \n",
       "1           SPL   Prescription Drug                C   \n",
       "2           SPL   Prescription Drug                C   \n",
       "3           SPL   Prescription Drug                C   \n",
       "4           SPL   Prescription Drug                C   \n",
       "5        RxNorm  Branded Dose Group                C   \n",
       "6        RxNorm  Branded Dose Group                C   \n",
       "\n",
       "                           CONCEPT_CODE VALID_START_DATE VALID_END_DATE  \\\n",
       "0  5783976b-0862-44e5-9b19-0f41d236d5c3       2015-02-26     2099-12-31   \n",
       "1  57bccb29-1c47-4c64-ab6a-77960a91cc20       2013-10-07     2099-12-31   \n",
       "2  fb809355-146a-4baf-a029-a80b7faee7bb       2005-07-01     2099-12-31   \n",
       "3  acf5daa0-3882-4a75-9e2a-318fa1090ee1       2005-04-30     2099-12-31   \n",
       "4  0dad3c13-1895-439c-8f92-4f906f1b302c       2005-04-30     2099-12-31   \n",
       "5                               1179040       2016-08-01     2099-12-31   \n",
       "6                               1179041       2016-08-01     2099-12-31   \n",
       "\n",
       "  INVALID_REASON  \n",
       "0           None  \n",
       "1           None  \n",
       "2           None  \n",
       "3           None  \n",
       "4           None  \n",
       "5           None  \n",
       "6           None  "
      ]
     },
     "execution_count": 82,
     "metadata": {},
     "output_type": "execute_result"
    }
   ],
   "source": [
    "tarcevaC.phead(10)"
   ]
  },
  {
   "cell_type": "markdown",
   "metadata": {},
   "source": [
    "### Explore Ancestry"
   ]
  },
  {
   "cell_type": "code",
   "execution_count": 87,
   "metadata": {
    "collapsed": true
   },
   "outputs": [],
   "source": [
    "#load ancestor table\n",
    "ancestor = pdf(\"com.omop.input.CONCEPT_ANCESTOR\")"
   ]
  },
  {
   "cell_type": "code",
   "execution_count": 89,
   "metadata": {
    "collapsed": false
   },
   "outputs": [
    {
     "name": "stdout",
     "output_type": "stream",
     "text": [
      "ANCESTOR_CONCEPT_ID:String      = 21602819\n",
      "DESCENDANT_CONCEPT_ID:String    = 43182681\n",
      "MIN_LEVELS_OF_SEPARATION:Double = 3.0\n",
      "MAX_LEVELS_OF_SEPARATION:Double = 3.0\n"
     ]
    }
   ],
   "source": [
    "ancestor.peek()"
   ]
  },
  {
   "cell_type": "markdown",
   "metadata": {},
   "source": [
    "#### Upstream"
   ]
  },
  {
   "cell_type": "code",
   "execution_count": 101,
   "metadata": {
    "collapsed": false
   },
   "outputs": [],
   "source": [
    "# pick the 100mg branded drug, look at its ancestors\n",
    "Upstream = ancestor.filter(ancestor.DESCENDANT_CONCEPT_ID == \"40236069\").cache()"
   ]
  },
  {
   "cell_type": "code",
   "execution_count": 102,
   "metadata": {
    "collapsed": false
   },
   "outputs": [
    {
     "data": {
      "text/plain": [
       "46"
      ]
     },
     "execution_count": 102,
     "metadata": {},
     "output_type": "execute_result"
    }
   ],
   "source": [
    "Upstream.count()"
   ]
  },
  {
   "cell_type": "code",
   "execution_count": 112,
   "metadata": {
    "collapsed": false
   },
   "outputs": [
    {
     "name": "stdout",
     "output_type": "stream",
     "text": [
      "Histogram of MIN_LEVELS_OF_SEPARATION: with BIN size 1.0\n",
      "key                      count      Pct    cumCount   cumPct\n",
      "0.0                          2    4.35%           2    4.35%\n",
      "1.0                          4    8.70%           6   13.04%\n",
      "2.0                         10   21.74%          16   34.78%\n",
      "3.0                          6   13.04%          22   47.83%\n",
      "4.0                          4    8.70%          26   56.52%\n",
      "5.0                          4    8.70%          30   65.22%\n",
      "6.0                          4    8.70%          34   73.91%\n",
      "7.0                          2    4.35%          36   78.26%\n",
      "8.0                          2    4.35%          38   82.61%\n",
      "9.0                          3    6.52%          41   89.13%\n",
      "10.0                         3    6.52%          44   95.65%\n",
      "11.0                         2    4.35%          46  100.00%\n",
      "-------------------------------------------------\n"
     ]
    }
   ],
   "source": [
    "Upstream.smvBinHist((\"MIN_LEVELS_OF_SEPARATION\",1))"
   ]
  },
  {
   "cell_type": "code",
   "execution_count": 149,
   "metadata": {
    "collapsed": false
   },
   "outputs": [],
   "source": [
    "UpstreamWithInfo = Upstream.join(concept, Upstream.ANCESTOR_CONCEPT_ID == concept.CONCEPT_ID, 'inner' ).\\\n",
    "select(\"ANCESTOR_CONCEPT_ID\", \"DESCENDANT_CONCEPT_ID\", \"CONCEPT_NAME\", \"MIN_LEVELS_OF_SEPARATION\", \"DOMAIN_ID\", \"CONCEPT_CLASS_ID\", \"STANDARD_CONCEPT\", \"VOCABULARY_ID\")"
   ]
  },
  {
   "cell_type": "code",
   "execution_count": 154,
   "metadata": {
    "collapsed": false
   },
   "outputs": [
    {
     "data": {
      "text/html": [
       "<div>\n",
       "<table border=\"1\" class=\"dataframe\">\n",
       "  <thead>\n",
       "    <tr style=\"text-align: right;\">\n",
       "      <th></th>\n",
       "      <th>ANCESTOR_CONCEPT_ID</th>\n",
       "      <th>DESCENDANT_CONCEPT_ID</th>\n",
       "      <th>CONCEPT_NAME</th>\n",
       "      <th>MIN_LEVELS_OF_SEPARATION</th>\n",
       "      <th>DOMAIN_ID</th>\n",
       "      <th>CONCEPT_CLASS_ID</th>\n",
       "      <th>STANDARD_CONCEPT</th>\n",
       "      <th>VOCABULARY_ID</th>\n",
       "    </tr>\n",
       "  </thead>\n",
       "  <tbody>\n",
       "    <tr>\n",
       "      <th>0</th>\n",
       "      <td>40040065</td>\n",
       "      <td>40236069</td>\n",
       "      <td>erlotinib Oral Tablet</td>\n",
       "      <td>1.0</td>\n",
       "      <td>Drug</td>\n",
       "      <td>Clinical Drug Form</td>\n",
       "      <td>S</td>\n",
       "      <td>RxNorm</td>\n",
       "    </tr>\n",
       "    <tr>\n",
       "      <th>1</th>\n",
       "      <td>1325363</td>\n",
       "      <td>40236069</td>\n",
       "      <td>erlotinib</td>\n",
       "      <td>2.0</td>\n",
       "      <td>Drug</td>\n",
       "      <td>Ingredient</td>\n",
       "      <td>S</td>\n",
       "      <td>RxNorm</td>\n",
       "    </tr>\n",
       "    <tr>\n",
       "      <th>2</th>\n",
       "      <td>19122516</td>\n",
       "      <td>40236069</td>\n",
       "      <td>erlotinib 100 MG</td>\n",
       "      <td>1.0</td>\n",
       "      <td>Drug</td>\n",
       "      <td>Clinical Drug Comp</td>\n",
       "      <td>S</td>\n",
       "      <td>RxNorm</td>\n",
       "    </tr>\n",
       "    <tr>\n",
       "      <th>3</th>\n",
       "      <td>4328639</td>\n",
       "      <td>40236069</td>\n",
       "      <td>Cellular Activity Alteration</td>\n",
       "      <td>7.0</td>\n",
       "      <td>Drug</td>\n",
       "      <td>Physiologic Effect</td>\n",
       "      <td>C</td>\n",
       "      <td>NDFRT</td>\n",
       "    </tr>\n",
       "    <tr>\n",
       "      <th>4</th>\n",
       "      <td>4333708</td>\n",
       "      <td>40236069</td>\n",
       "      <td>Vascular Alterations</td>\n",
       "      <td>8.0</td>\n",
       "      <td>Drug</td>\n",
       "      <td>Physiologic Effect</td>\n",
       "      <td>C</td>\n",
       "      <td>NDFRT</td>\n",
       "    </tr>\n",
       "    <tr>\n",
       "      <th>5</th>\n",
       "      <td>4333852</td>\n",
       "      <td>40236069</td>\n",
       "      <td>Vascular Growth Alteration</td>\n",
       "      <td>3.0</td>\n",
       "      <td>Drug</td>\n",
       "      <td>Physiologic Effect</td>\n",
       "      <td>C</td>\n",
       "      <td>NDFRT</td>\n",
       "    </tr>\n",
       "    <tr>\n",
       "      <th>6</th>\n",
       "      <td>4333853</td>\n",
       "      <td>40236069</td>\n",
       "      <td>Vascular Growth Decrease</td>\n",
       "      <td>2.0</td>\n",
       "      <td>Drug</td>\n",
       "      <td>Physiologic Effect</td>\n",
       "      <td>C</td>\n",
       "      <td>NDFRT</td>\n",
       "    </tr>\n",
       "    <tr>\n",
       "      <th>7</th>\n",
       "      <td>4333854</td>\n",
       "      <td>40236069</td>\n",
       "      <td>Cellular Growth Phase Reduction</td>\n",
       "      <td>3.0</td>\n",
       "      <td>Drug</td>\n",
       "      <td>Physiologic Effect</td>\n",
       "      <td>C</td>\n",
       "      <td>NDFRT</td>\n",
       "    </tr>\n",
       "    <tr>\n",
       "      <th>8</th>\n",
       "      <td>4334426</td>\n",
       "      <td>40236069</td>\n",
       "      <td>Generalized Systemic Effects</td>\n",
       "      <td>10.0</td>\n",
       "      <td>Drug</td>\n",
       "      <td>Physiologic Effect</td>\n",
       "      <td>C</td>\n",
       "      <td>NDFRT</td>\n",
       "    </tr>\n",
       "    <tr>\n",
       "      <th>9</th>\n",
       "      <td>4334082</td>\n",
       "      <td>40236069</td>\n",
       "      <td>Kinase Inhibitor</td>\n",
       "      <td>2.0</td>\n",
       "      <td>Drug</td>\n",
       "      <td>Pharmacologic Class</td>\n",
       "      <td>C</td>\n",
       "      <td>NDFRT</td>\n",
       "    </tr>\n",
       "  </tbody>\n",
       "</table>\n",
       "</div>"
      ],
      "text/plain": [
       "  ANCESTOR_CONCEPT_ID DESCENDANT_CONCEPT_ID                     CONCEPT_NAME  \\\n",
       "0            40040065              40236069            erlotinib Oral Tablet   \n",
       "1             1325363              40236069                        erlotinib   \n",
       "2            19122516              40236069                 erlotinib 100 MG   \n",
       "3             4328639              40236069     Cellular Activity Alteration   \n",
       "4             4333708              40236069             Vascular Alterations   \n",
       "5             4333852              40236069       Vascular Growth Alteration   \n",
       "6             4333853              40236069         Vascular Growth Decrease   \n",
       "7             4333854              40236069  Cellular Growth Phase Reduction   \n",
       "8             4334426              40236069     Generalized Systemic Effects   \n",
       "9             4334082              40236069                 Kinase Inhibitor   \n",
       "\n",
       "   MIN_LEVELS_OF_SEPARATION DOMAIN_ID     CONCEPT_CLASS_ID STANDARD_CONCEPT  \\\n",
       "0                       1.0      Drug   Clinical Drug Form                S   \n",
       "1                       2.0      Drug           Ingredient                S   \n",
       "2                       1.0      Drug   Clinical Drug Comp                S   \n",
       "3                       7.0      Drug   Physiologic Effect                C   \n",
       "4                       8.0      Drug   Physiologic Effect                C   \n",
       "5                       3.0      Drug   Physiologic Effect                C   \n",
       "6                       2.0      Drug   Physiologic Effect                C   \n",
       "7                       3.0      Drug   Physiologic Effect                C   \n",
       "8                      10.0      Drug   Physiologic Effect                C   \n",
       "9                       2.0      Drug  Pharmacologic Class                C   \n",
       "\n",
       "  VOCABULARY_ID  \n",
       "0        RxNorm  \n",
       "1        RxNorm  \n",
       "2        RxNorm  \n",
       "3         NDFRT  \n",
       "4         NDFRT  \n",
       "5         NDFRT  \n",
       "6         NDFRT  \n",
       "7         NDFRT  \n",
       "8         NDFRT  \n",
       "9         NDFRT  "
      ]
     },
     "execution_count": 154,
     "metadata": {},
     "output_type": "execute_result"
    }
   ],
   "source": [
    "UpstreamWithInfo.phead(10)"
   ]
  },
  {
   "cell_type": "markdown",
   "metadata": {},
   "source": [
    "#### Downstream"
   ]
  },
  {
   "cell_type": "code",
   "execution_count": 106,
   "metadata": {
    "collapsed": false
   },
   "outputs": [],
   "source": [
    "# pick the 100mg branded drug, look at its decendents\n",
    "Downstream = ancestor.filter(ancestor.ANCESTOR_CONCEPT_ID == \"40236069\").cache()"
   ]
  },
  {
   "cell_type": "code",
   "execution_count": 108,
   "metadata": {
    "collapsed": false
   },
   "outputs": [
    {
     "data": {
      "text/plain": [
       "4"
      ]
     },
     "execution_count": 108,
     "metadata": {},
     "output_type": "execute_result"
    }
   ],
   "source": [
    "Downstream.count()"
   ]
  },
  {
   "cell_type": "code",
   "execution_count": 110,
   "metadata": {
    "collapsed": false
   },
   "outputs": [
    {
     "name": "stdout",
     "output_type": "stream",
     "text": [
      "Histogram of MIN_LEVELS_OF_SEPARATION: with BIN size 1.0\n",
      "key                      count      Pct    cumCount   cumPct\n",
      "0.0                          1   25.00%           1   25.00%\n",
      "1.0                          2   50.00%           3   75.00%\n",
      "2.0                          1   25.00%           4  100.00%\n",
      "-------------------------------------------------\n"
     ]
    }
   ],
   "source": [
    "Downstream.smvBinHist((\"MIN_LEVELS_OF_SEPARATION\",1))"
   ]
  },
  {
   "cell_type": "code",
   "execution_count": 152,
   "metadata": {
    "collapsed": false
   },
   "outputs": [],
   "source": [
    "DownstreamWithInfo = Downstream.join(concept, Downstream.DESCENDANT_CONCEPT_ID == concept.CONCEPT_ID, 'inner' ).\\\n",
    "select(\"ANCESTOR_CONCEPT_ID\", \"DESCENDANT_CONCEPT_ID\", \"CONCEPT_NAME\", \"MIN_LEVELS_OF_SEPARATION\", \"DOMAIN_ID\", \"CONCEPT_CLASS_ID\", \"STANDARD_CONCEPT\", \"VOCABULARY_ID\")"
   ]
  },
  {
   "cell_type": "code",
   "execution_count": 153,
   "metadata": {
    "collapsed": false
   },
   "outputs": [
    {
     "data": {
      "text/html": [
       "<div>\n",
       "<table border=\"1\" class=\"dataframe\">\n",
       "  <thead>\n",
       "    <tr style=\"text-align: right;\">\n",
       "      <th></th>\n",
       "      <th>ANCESTOR_CONCEPT_ID</th>\n",
       "      <th>DESCENDANT_CONCEPT_ID</th>\n",
       "      <th>CONCEPT_NAME</th>\n",
       "      <th>MIN_LEVELS_OF_SEPARATION</th>\n",
       "      <th>DOMAIN_ID</th>\n",
       "      <th>CONCEPT_CLASS_ID</th>\n",
       "      <th>STANDARD_CONCEPT</th>\n",
       "      <th>VOCABULARY_ID</th>\n",
       "    </tr>\n",
       "  </thead>\n",
       "  <tbody>\n",
       "    <tr>\n",
       "      <th>0</th>\n",
       "      <td>40236069</td>\n",
       "      <td>40236069</td>\n",
       "      <td>erlotinib 100 MG Oral Tablet [Tarceva]</td>\n",
       "      <td>0.0</td>\n",
       "      <td>Drug</td>\n",
       "      <td>Branded Drug</td>\n",
       "      <td>S</td>\n",
       "      <td>RxNorm</td>\n",
       "    </tr>\n",
       "    <tr>\n",
       "      <th>1</th>\n",
       "      <td>40236069</td>\n",
       "      <td>21046020</td>\n",
       "      <td>erlotinib 100 MG Oral Tablet [Tarceva] by Roch...</td>\n",
       "      <td>1.0</td>\n",
       "      <td>Drug</td>\n",
       "      <td>Marketed Product</td>\n",
       "      <td>S</td>\n",
       "      <td>RxNorm Extension</td>\n",
       "    </tr>\n",
       "    <tr>\n",
       "      <th>2</th>\n",
       "      <td>40236069</td>\n",
       "      <td>21055778</td>\n",
       "      <td>erlotinib 100 MG Oral Tablet [Tarceva] Box of 30</td>\n",
       "      <td>1.0</td>\n",
       "      <td>Drug</td>\n",
       "      <td>Branded Drug Box</td>\n",
       "      <td>S</td>\n",
       "      <td>RxNorm Extension</td>\n",
       "    </tr>\n",
       "    <tr>\n",
       "      <th>3</th>\n",
       "      <td>40236069</td>\n",
       "      <td>21055779</td>\n",
       "      <td>erlotinib 100 MG Oral Tablet [Tarceva] Box of ...</td>\n",
       "      <td>2.0</td>\n",
       "      <td>Drug</td>\n",
       "      <td>Marketed Product</td>\n",
       "      <td>S</td>\n",
       "      <td>RxNorm Extension</td>\n",
       "    </tr>\n",
       "  </tbody>\n",
       "</table>\n",
       "</div>"
      ],
      "text/plain": [
       "  ANCESTOR_CONCEPT_ID DESCENDANT_CONCEPT_ID  \\\n",
       "0            40236069              40236069   \n",
       "1            40236069              21046020   \n",
       "2            40236069              21055778   \n",
       "3            40236069              21055779   \n",
       "\n",
       "                                        CONCEPT_NAME  \\\n",
       "0             erlotinib 100 MG Oral Tablet [Tarceva]   \n",
       "1  erlotinib 100 MG Oral Tablet [Tarceva] by Roch...   \n",
       "2   erlotinib 100 MG Oral Tablet [Tarceva] Box of 30   \n",
       "3  erlotinib 100 MG Oral Tablet [Tarceva] Box of ...   \n",
       "\n",
       "   MIN_LEVELS_OF_SEPARATION DOMAIN_ID  CONCEPT_CLASS_ID STANDARD_CONCEPT  \\\n",
       "0                       0.0      Drug      Branded Drug                S   \n",
       "1                       1.0      Drug  Marketed Product                S   \n",
       "2                       1.0      Drug  Branded Drug Box                S   \n",
       "3                       2.0      Drug  Marketed Product                S   \n",
       "\n",
       "      VOCABULARY_ID  \n",
       "0            RxNorm  \n",
       "1  RxNorm Extension  \n",
       "2  RxNorm Extension  \n",
       "3  RxNorm Extension  "
      ]
     },
     "execution_count": 153,
     "metadata": {},
     "output_type": "execute_result"
    }
   ],
   "source": [
    "DownstreamWithInfo.phead(10)"
   ]
  },
  {
   "cell_type": "markdown",
   "metadata": {},
   "source": [
    "### Look Up relationship betwwen an ancestor and a decedant with 1 level distance"
   ]
  },
  {
   "cell_type": "code",
   "execution_count": 135,
   "metadata": {
    "collapsed": true
   },
   "outputs": [],
   "source": [
    "# load concept_realtionship table\n",
    "concept_realtionship = pdf(\"com.omop.input.CONCEPT_RELATIONSHIP\")"
   ]
  },
  {
   "cell_type": "code",
   "execution_count": 145,
   "metadata": {
    "collapsed": false
   },
   "outputs": [
    {
     "name": "stdout",
     "output_type": "stream",
     "text": [
      "CONCEPT_ID_1:String        = 42705321\n",
      "CONCEPT_ID_2:String        = 19124270\n",
      "RELATIONSHIP_ID:String     = Concept replaces\n",
      "VALID_START_DATE:Timestamp = 2012-10-01 00:00:00.0\n",
      "VALID_END_DATE:Timestamp   = 2099-12-31 00:00:00.0\n",
      "INVALID_REASON:String      = null\n"
     ]
    }
   ],
   "source": [
    "concept_realtionship.peek()"
   ]
  },
  {
   "cell_type": "code",
   "execution_count": 139,
   "metadata": {
    "collapsed": false
   },
   "outputs": [
    {
     "data": {
      "text/html": [
       "<div>\n",
       "<table border=\"1\" class=\"dataframe\">\n",
       "  <thead>\n",
       "    <tr style=\"text-align: right;\">\n",
       "      <th></th>\n",
       "      <th>CONCEPT_ID_1</th>\n",
       "      <th>CONCEPT_ID_2</th>\n",
       "      <th>RELATIONSHIP_ID</th>\n",
       "      <th>VALID_START_DATE</th>\n",
       "      <th>VALID_END_DATE</th>\n",
       "      <th>INVALID_REASON</th>\n",
       "    </tr>\n",
       "  </thead>\n",
       "  <tbody>\n",
       "    <tr>\n",
       "      <th>0</th>\n",
       "      <td>40236069</td>\n",
       "      <td>21046020</td>\n",
       "      <td>Has marketed form</td>\n",
       "      <td>2015-08-17</td>\n",
       "      <td>2099-12-31</td>\n",
       "      <td>None</td>\n",
       "    </tr>\n",
       "  </tbody>\n",
       "</table>\n",
       "</div>"
      ],
      "text/plain": [
       "  CONCEPT_ID_1 CONCEPT_ID_2    RELATIONSHIP_ID VALID_START_DATE  \\\n",
       "0     40236069     21046020  Has marketed form       2015-08-17   \n",
       "\n",
       "  VALID_END_DATE INVALID_REASON  \n",
       "0     2099-12-31           None  "
      ]
     },
     "execution_count": 139,
     "metadata": {},
     "output_type": "execute_result"
    }
   ],
   "source": [
    "concept_realtionship.filter((concept_realtionship.CONCEPT_ID_1 == \"40236069\") & (concept_realtionship.CONCEPT_ID_2 == \"21046020\")).phead(10)"
   ]
  },
  {
   "cell_type": "code",
   "execution_count": 142,
   "metadata": {
    "collapsed": false
   },
   "outputs": [
    {
     "data": {
      "text/html": [
       "<div>\n",
       "<table border=\"1\" class=\"dataframe\">\n",
       "  <thead>\n",
       "    <tr style=\"text-align: right;\">\n",
       "      <th></th>\n",
       "      <th>CONCEPT_ID_1</th>\n",
       "      <th>CONCEPT_ID_2</th>\n",
       "      <th>RELATIONSHIP_ID</th>\n",
       "      <th>VALID_START_DATE</th>\n",
       "      <th>VALID_END_DATE</th>\n",
       "      <th>INVALID_REASON</th>\n",
       "    </tr>\n",
       "  </thead>\n",
       "  <tbody>\n",
       "    <tr>\n",
       "      <th>0</th>\n",
       "      <td>21046020</td>\n",
       "      <td>40236069</td>\n",
       "      <td>Marketed form of</td>\n",
       "      <td>2015-08-17</td>\n",
       "      <td>2099-12-31</td>\n",
       "      <td>None</td>\n",
       "    </tr>\n",
       "  </tbody>\n",
       "</table>\n",
       "</div>"
      ],
      "text/plain": [
       "  CONCEPT_ID_1 CONCEPT_ID_2   RELATIONSHIP_ID VALID_START_DATE VALID_END_DATE  \\\n",
       "0     21046020     40236069  Marketed form of       2015-08-17     2099-12-31   \n",
       "\n",
       "  INVALID_REASON  \n",
       "0           None  "
      ]
     },
     "execution_count": 142,
     "metadata": {},
     "output_type": "execute_result"
    }
   ],
   "source": [
    "concept_realtionship.filter((concept_realtionship.CONCEPT_ID_1 == \"21046020\") & (concept_realtionship.CONCEPT_ID_2 == \"40236069\")).phead(10)"
   ]
  },
  {
   "cell_type": "markdown",
   "metadata": {},
   "source": [
    "#### look up the specific relationship"
   ]
  },
  {
   "cell_type": "code",
   "execution_count": 143,
   "metadata": {
    "collapsed": true
   },
   "outputs": [],
   "source": [
    "# load realtionship table\n",
    "realtionship = pdf(\"com.omop.input.RELATIONSHIP\")"
   ]
  },
  {
   "cell_type": "code",
   "execution_count": 144,
   "metadata": {
    "collapsed": false
   },
   "outputs": [
    {
     "data": {
      "text/html": [
       "<div>\n",
       "<table border=\"1\" class=\"dataframe\">\n",
       "  <thead>\n",
       "    <tr style=\"text-align: right;\">\n",
       "      <th></th>\n",
       "      <th>RELATIONSHIP_ID</th>\n",
       "      <th>RELATIONSHIP_NAME</th>\n",
       "      <th>IS_HIERARCHICAL</th>\n",
       "      <th>DEFINES_ANCESTRY</th>\n",
       "      <th>REVERSE_RELATIONSHIP_ID</th>\n",
       "      <th>RELATIONSHIP_CONCEPT_ID</th>\n",
       "    </tr>\n",
       "  </thead>\n",
       "  <tbody>\n",
       "    <tr>\n",
       "      <th>0</th>\n",
       "      <td>Has morphology</td>\n",
       "      <td>Has Morphology (SNOMED)</td>\n",
       "      <td>0</td>\n",
       "      <td>0</td>\n",
       "      <td>Morphology of</td>\n",
       "      <td>45754806</td>\n",
       "    </tr>\n",
       "    <tr>\n",
       "      <th>1</th>\n",
       "      <td>Morphology of</td>\n",
       "      <td>Morphology of (SNOMED)</td>\n",
       "      <td>0</td>\n",
       "      <td>0</td>\n",
       "      <td>Has morphology</td>\n",
       "      <td>45754807</td>\n",
       "    </tr>\n",
       "    <tr>\n",
       "      <th>2</th>\n",
       "      <td>Has meas component</td>\n",
       "      <td>Has Measured Component (SNOMED)</td>\n",
       "      <td>0</td>\n",
       "      <td>0</td>\n",
       "      <td>Meas component of</td>\n",
       "      <td>45754808</td>\n",
       "    </tr>\n",
       "    <tr>\n",
       "      <th>3</th>\n",
       "      <td>Meas component of</td>\n",
       "      <td>Measured Component of (SNOMED)</td>\n",
       "      <td>0</td>\n",
       "      <td>0</td>\n",
       "      <td>Has meas component</td>\n",
       "      <td>45754809</td>\n",
       "    </tr>\n",
       "    <tr>\n",
       "      <th>4</th>\n",
       "      <td>Caused by</td>\n",
       "      <td>Caused by (SNOMED)</td>\n",
       "      <td>0</td>\n",
       "      <td>0</td>\n",
       "      <td>Causes</td>\n",
       "      <td>45754810</td>\n",
       "    </tr>\n",
       "    <tr>\n",
       "      <th>5</th>\n",
       "      <td>Causes</td>\n",
       "      <td>Causes (SNOMED)</td>\n",
       "      <td>0</td>\n",
       "      <td>0</td>\n",
       "      <td>Caused by</td>\n",
       "      <td>45754811</td>\n",
       "    </tr>\n",
       "    <tr>\n",
       "      <th>6</th>\n",
       "      <td>Has etiology</td>\n",
       "      <td>Has Etiology (SNOMED)</td>\n",
       "      <td>0</td>\n",
       "      <td>0</td>\n",
       "      <td>Etiology of</td>\n",
       "      <td>45754812</td>\n",
       "    </tr>\n",
       "    <tr>\n",
       "      <th>7</th>\n",
       "      <td>Etiology of</td>\n",
       "      <td>Etiology of (SNOMED)</td>\n",
       "      <td>0</td>\n",
       "      <td>0</td>\n",
       "      <td>Has etiology</td>\n",
       "      <td>45754813</td>\n",
       "    </tr>\n",
       "    <tr>\n",
       "      <th>8</th>\n",
       "      <td>Has stage</td>\n",
       "      <td>Has Stage (SNOMED)</td>\n",
       "      <td>0</td>\n",
       "      <td>0</td>\n",
       "      <td>Stage of</td>\n",
       "      <td>45754814</td>\n",
       "    </tr>\n",
       "    <tr>\n",
       "      <th>9</th>\n",
       "      <td>Stage of</td>\n",
       "      <td>Stage of (SNOMED)</td>\n",
       "      <td>0</td>\n",
       "      <td>0</td>\n",
       "      <td>Has stage</td>\n",
       "      <td>45754815</td>\n",
       "    </tr>\n",
       "  </tbody>\n",
       "</table>\n",
       "</div>"
      ],
      "text/plain": [
       "      RELATIONSHIP_ID                RELATIONSHIP_NAME IS_HIERARCHICAL  \\\n",
       "0      Has morphology          Has Morphology (SNOMED)               0   \n",
       "1       Morphology of           Morphology of (SNOMED)               0   \n",
       "2  Has meas component  Has Measured Component (SNOMED)               0   \n",
       "3   Meas component of   Measured Component of (SNOMED)               0   \n",
       "4           Caused by               Caused by (SNOMED)               0   \n",
       "5              Causes                  Causes (SNOMED)               0   \n",
       "6        Has etiology            Has Etiology (SNOMED)               0   \n",
       "7         Etiology of             Etiology of (SNOMED)               0   \n",
       "8           Has stage               Has Stage (SNOMED)               0   \n",
       "9            Stage of                Stage of (SNOMED)               0   \n",
       "\n",
       "  DEFINES_ANCESTRY REVERSE_RELATIONSHIP_ID RELATIONSHIP_CONCEPT_ID  \n",
       "0                0           Morphology of                45754806  \n",
       "1                0          Has morphology                45754807  \n",
       "2                0       Meas component of                45754808  \n",
       "3                0      Has meas component                45754809  \n",
       "4                0                  Causes                45754810  \n",
       "5                0               Caused by                45754811  \n",
       "6                0             Etiology of                45754812  \n",
       "7                0            Has etiology                45754813  \n",
       "8                0                Stage of                45754814  \n",
       "9                0               Has stage                45754815  "
      ]
     },
     "execution_count": 144,
     "metadata": {},
     "output_type": "execute_result"
    }
   ],
   "source": [
    "realtionship.phead(10)"
   ]
  },
  {
   "cell_type": "code",
   "execution_count": 147,
   "metadata": {
    "collapsed": false
   },
   "outputs": [
    {
     "name": "stdout",
     "output_type": "stream",
     "text": [
      "RELATIONSHIP_ID:String         = Marketed form of\n",
      "RELATIONSHIP_NAME:String       = Marketed form of (OMOP)\n",
      "IS_HIERARCHICAL:String         = 1\n",
      "DEFINES_ANCESTRY:String        = 0\n",
      "REVERSE_RELATIONSHIP_ID:String = Has marketed form\n",
      "RELATIONSHIP_CONCEPT_ID:String = 247\n"
     ]
    }
   ],
   "source": [
    "relationship.filter(relationship.RELATIONSHIP_ID == \"Marketed form of\").peek()"
   ]
  },
  {
   "cell_type": "markdown",
   "metadata": {},
   "source": [
    "## What is the various drug strength of Tarceva?"
   ]
  },
  {
   "cell_type": "code",
   "execution_count": 156,
   "metadata": {
    "collapsed": false
   },
   "outputs": [],
   "source": [
    "#the ingredient of a drug is the ancestor concept of a drug, so search the upstream concepts usually locates it\n",
    "TarcevaIngredient = UpstreamWithInfo.filter(UpstreamWithInfo.CONCEPT_CLASS_ID == \"Ingredient\")"
   ]
  },
  {
   "cell_type": "code",
   "execution_count": 157,
   "metadata": {
    "collapsed": false
   },
   "outputs": [
    {
     "data": {
      "text/plain": [
       "1"
      ]
     },
     "execution_count": 157,
     "metadata": {},
     "output_type": "execute_result"
    }
   ],
   "source": [
    "TarcevaIngredient.count()"
   ]
  },
  {
   "cell_type": "code",
   "execution_count": 158,
   "metadata": {
    "collapsed": false
   },
   "outputs": [
    {
     "name": "stdout",
     "output_type": "stream",
     "text": [
      "ANCESTOR_CONCEPT_ID:String      = 1325363\n",
      "DESCENDANT_CONCEPT_ID:String    = 40236069\n",
      "CONCEPT_NAME:String             = erlotinib\n",
      "MIN_LEVELS_OF_SEPARATION:Double = 2.0\n",
      "DOMAIN_ID:String                = Drug\n",
      "CONCEPT_CLASS_ID:String         = Ingredient\n",
      "STANDARD_CONCEPT:String         = S\n",
      "VOCABULARY_ID:String            = RxNorm\n"
     ]
    }
   ],
   "source": [
    "TarcevaIngredient.peek()"
   ]
  },
  {
   "cell_type": "code",
   "execution_count": 159,
   "metadata": {
    "collapsed": true
   },
   "outputs": [],
   "source": [
    "#load Drug_Strength Table\n",
    "Drug_Strength = pdf(\"com.omop.input.DRUG_STRENGTH\")"
   ]
  },
  {
   "cell_type": "code",
   "execution_count": 160,
   "metadata": {
    "collapsed": false
   },
   "outputs": [
    {
     "name": "stdout",
     "output_type": "stream",
     "text": [
      "DRUG_CONCEPT_ID:String             = 42478670\n",
      "INGREDIENT_CONCEPT_ID:String       = 913782\n",
      "AMOUNT_VALUE:Double                = 2.0\n",
      "AMOUNT_UNIT_CONCEPT_ID:String      = 8576\n",
      "NUMERATOR_VALUE:Double             = null\n",
      "NUMERATOR_UNIT_CONCEPT_ID:String   = null\n",
      "DENOMINATOR_VALUE:Double           = null\n",
      "DENOMINATOR_UNIT_CONCEPT_ID:String = null\n",
      "BOX_SIZE:Double                    = null\n",
      "VALID_START_DATE:Timestamp         = 2015-08-17 00:00:00.0\n",
      "VALID_END_DATE:Timestamp           = 2099-12-31 00:00:00.0\n",
      "INVALID_REASON:String              = null\n"
     ]
    }
   ],
   "source": [
    "Drug_Strength.peek()"
   ]
  },
  {
   "cell_type": "code",
   "execution_count": 165,
   "metadata": {
    "collapsed": false
   },
   "outputs": [],
   "source": [
    "erlotinib = Drug_Strength.filter(Drug_Strength.INGREDIENT_CONCEPT_ID == \"1325363\").cache()"
   ]
  },
  {
   "cell_type": "code",
   "execution_count": 166,
   "metadata": {
    "collapsed": false
   },
   "outputs": [
    {
     "data": {
      "text/plain": [
       "48"
      ]
     },
     "execution_count": 166,
     "metadata": {},
     "output_type": "execute_result"
    }
   ],
   "source": [
    "erlotinib.count()"
   ]
  },
  {
   "cell_type": "code",
   "execution_count": 170,
   "metadata": {
    "collapsed": false
   },
   "outputs": [
    {
     "name": "stdout",
     "output_type": "stream",
     "text": [
      "DRUG_CONCEPT_ID:String             = 19122516\n",
      "INGREDIENT_CONCEPT_ID:String       = 1325363\n",
      "AMOUNT_VALUE:Double                = 100.0\n",
      "AMOUNT_UNIT_CONCEPT_ID:String      = 8576\n",
      "NUMERATOR_VALUE:Double             = null\n",
      "NUMERATOR_UNIT_CONCEPT_ID:String   = null\n",
      "DENOMINATOR_VALUE:Double           = null\n",
      "DENOMINATOR_UNIT_CONCEPT_ID:String = null\n",
      "BOX_SIZE:Double                    = null\n",
      "VALID_START_DATE:Timestamp         = 2006-02-26 00:00:00.0\n",
      "VALID_END_DATE:Timestamp           = 2099-12-31 00:00:00.0\n",
      "INVALID_REASON:String              = null\n"
     ]
    }
   ],
   "source": [
    "erlotinib.peek()"
   ]
  },
  {
   "cell_type": "code",
   "execution_count": 172,
   "metadata": {
    "collapsed": false
   },
   "outputs": [
    {
     "name": "stdout",
     "output_type": "stream",
     "text": [
      "+------------+\n",
      "|AMOUNT_VALUE|\n",
      "+------------+\n",
      "|       100.0|\n",
      "|       150.0|\n",
      "|        25.0|\n",
      "+------------+\n",
      "\n"
     ]
    }
   ],
   "source": [
    "erlotinib.select(\"AMOUNT_VALUE\").distinct().show()"
   ]
  },
  {
   "cell_type": "code",
   "execution_count": 174,
   "metadata": {
    "collapsed": false
   },
   "outputs": [],
   "source": [
    "erlotinibDrugs = erlotinib.join(concept, erlotinib.DRUG_CONCEPT_ID == concept.CONCEPT_ID, 'inner')"
   ]
  },
  {
   "cell_type": "code",
   "execution_count": 176,
   "metadata": {
    "collapsed": false
   },
   "outputs": [
    {
     "data": {
      "text/html": [
       "<div>\n",
       "<table border=\"1\" class=\"dataframe\">\n",
       "  <thead>\n",
       "    <tr style=\"text-align: right;\">\n",
       "      <th></th>\n",
       "      <th>DRUG_CONCEPT_ID</th>\n",
       "      <th>CONCEPT_NAME</th>\n",
       "      <th>DOMAIN_ID</th>\n",
       "      <th>VOCABULARY_ID</th>\n",
       "      <th>CONCEPT_CLASS_ID</th>\n",
       "      <th>STANDARD_CONCEPT</th>\n",
       "    </tr>\n",
       "  </thead>\n",
       "  <tbody>\n",
       "    <tr>\n",
       "      <th>0</th>\n",
       "      <td>19122516</td>\n",
       "      <td>erlotinib 100 MG</td>\n",
       "      <td>Drug</td>\n",
       "      <td>RxNorm</td>\n",
       "      <td>Clinical Drug Comp</td>\n",
       "      <td>S</td>\n",
       "    </tr>\n",
       "    <tr>\n",
       "      <th>1</th>\n",
       "      <td>19122518</td>\n",
       "      <td>erlotinib 150 MG</td>\n",
       "      <td>Drug</td>\n",
       "      <td>RxNorm</td>\n",
       "      <td>Clinical Drug Comp</td>\n",
       "      <td>S</td>\n",
       "    </tr>\n",
       "    <tr>\n",
       "      <th>2</th>\n",
       "      <td>19122520</td>\n",
       "      <td>erlotinib 25 MG</td>\n",
       "      <td>Drug</td>\n",
       "      <td>RxNorm</td>\n",
       "      <td>Clinical Drug Comp</td>\n",
       "      <td>S</td>\n",
       "    </tr>\n",
       "    <tr>\n",
       "      <th>3</th>\n",
       "      <td>19122517</td>\n",
       "      <td>erlotinib 100 MG Oral Tablet</td>\n",
       "      <td>Drug</td>\n",
       "      <td>RxNorm</td>\n",
       "      <td>Clinical Drug</td>\n",
       "      <td>S</td>\n",
       "    </tr>\n",
       "    <tr>\n",
       "      <th>4</th>\n",
       "      <td>19122519</td>\n",
       "      <td>erlotinib 150 MG Oral Tablet</td>\n",
       "      <td>Drug</td>\n",
       "      <td>RxNorm</td>\n",
       "      <td>Clinical Drug</td>\n",
       "      <td>S</td>\n",
       "    </tr>\n",
       "    <tr>\n",
       "      <th>5</th>\n",
       "      <td>19122521</td>\n",
       "      <td>erlotinib 25 MG Oral Tablet</td>\n",
       "      <td>Drug</td>\n",
       "      <td>RxNorm</td>\n",
       "      <td>Clinical Drug</td>\n",
       "      <td>S</td>\n",
       "    </tr>\n",
       "    <tr>\n",
       "      <th>6</th>\n",
       "      <td>40236070</td>\n",
       "      <td>erlotinib 100 MG [Tarceva]</td>\n",
       "      <td>Drug</td>\n",
       "      <td>RxNorm</td>\n",
       "      <td>Branded Drug Comp</td>\n",
       "      <td>S</td>\n",
       "    </tr>\n",
       "    <tr>\n",
       "      <th>7</th>\n",
       "      <td>40236072</td>\n",
       "      <td>erlotinib 150 MG [Tarceva]</td>\n",
       "      <td>Drug</td>\n",
       "      <td>RxNorm</td>\n",
       "      <td>Branded Drug Comp</td>\n",
       "      <td>S</td>\n",
       "    </tr>\n",
       "    <tr>\n",
       "      <th>8</th>\n",
       "      <td>40236074</td>\n",
       "      <td>erlotinib 25 MG [Tarceva]</td>\n",
       "      <td>Drug</td>\n",
       "      <td>RxNorm</td>\n",
       "      <td>Branded Drug Comp</td>\n",
       "      <td>S</td>\n",
       "    </tr>\n",
       "    <tr>\n",
       "      <th>9</th>\n",
       "      <td>40236069</td>\n",
       "      <td>erlotinib 100 MG Oral Tablet [Tarceva]</td>\n",
       "      <td>Drug</td>\n",
       "      <td>RxNorm</td>\n",
       "      <td>Branded Drug</td>\n",
       "      <td>S</td>\n",
       "    </tr>\n",
       "    <tr>\n",
       "      <th>10</th>\n",
       "      <td>40236071</td>\n",
       "      <td>erlotinib 150 MG Oral Tablet [Tarceva]</td>\n",
       "      <td>Drug</td>\n",
       "      <td>RxNorm</td>\n",
       "      <td>Branded Drug</td>\n",
       "      <td>S</td>\n",
       "    </tr>\n",
       "    <tr>\n",
       "      <th>11</th>\n",
       "      <td>40236073</td>\n",
       "      <td>erlotinib 25 MG Oral Tablet [Tarceva]</td>\n",
       "      <td>Drug</td>\n",
       "      <td>RxNorm</td>\n",
       "      <td>Branded Drug</td>\n",
       "      <td>S</td>\n",
       "    </tr>\n",
       "    <tr>\n",
       "      <th>12</th>\n",
       "      <td>44550399</td>\n",
       "      <td>ERLOTINIB HYDROCHLORIDE 100 MG ORAL TABLET [TA...</td>\n",
       "      <td>Drug</td>\n",
       "      <td>DPD</td>\n",
       "      <td>Branded Drug</td>\n",
       "      <td>None</td>\n",
       "    </tr>\n",
       "    <tr>\n",
       "      <th>13</th>\n",
       "      <td>43149952</td>\n",
       "      <td>erlotinib 100 MG Delayed Release Oral Tablet B...</td>\n",
       "      <td>Drug</td>\n",
       "      <td>RxNorm Extension</td>\n",
       "      <td>Clinical Drug Box</td>\n",
       "      <td>S</td>\n",
       "    </tr>\n",
       "    <tr>\n",
       "      <th>14</th>\n",
       "      <td>43149953</td>\n",
       "      <td>erlotinib 150 MG Delayed Release Oral Tablet</td>\n",
       "      <td>Drug</td>\n",
       "      <td>RxNorm Extension</td>\n",
       "      <td>Clinical Drug</td>\n",
       "      <td>S</td>\n",
       "    </tr>\n",
       "    <tr>\n",
       "      <th>15</th>\n",
       "      <td>44589962</td>\n",
       "      <td>ERLOTINIB HYDROCHLORIDE 100 MG ORAL TABLET [TE...</td>\n",
       "      <td>Drug</td>\n",
       "      <td>DPD</td>\n",
       "      <td>Branded Drug</td>\n",
       "      <td>S</td>\n",
       "    </tr>\n",
       "    <tr>\n",
       "      <th>16</th>\n",
       "      <td>44605896</td>\n",
       "      <td>ERLOTINIB HYDROCHLORIDE 25 MG [TEVA-ERLOTINIB]</td>\n",
       "      <td>Drug</td>\n",
       "      <td>DPD</td>\n",
       "      <td>Branded Drug Comp</td>\n",
       "      <td>S</td>\n",
       "    </tr>\n",
       "    <tr>\n",
       "      <th>17</th>\n",
       "      <td>44601889</td>\n",
       "      <td>ERLOTINIB HYDROCHLORIDE 150 MG ORAL TABLET [TE...</td>\n",
       "      <td>Drug</td>\n",
       "      <td>DPD</td>\n",
       "      <td>Branded Drug</td>\n",
       "      <td>S</td>\n",
       "    </tr>\n",
       "    <tr>\n",
       "      <th>18</th>\n",
       "      <td>44619035</td>\n",
       "      <td>ERLOTINIB HYDROCHLORIDE 25 MG ORAL TABLET [TEV...</td>\n",
       "      <td>Drug</td>\n",
       "      <td>DPD</td>\n",
       "      <td>Branded Drug</td>\n",
       "      <td>S</td>\n",
       "    </tr>\n",
       "    <tr>\n",
       "      <th>19</th>\n",
       "      <td>44636353</td>\n",
       "      <td>ERLOTINIB HYDROCHLORIDE 100 MG [TEVA-ERLOTINIB]</td>\n",
       "      <td>Drug</td>\n",
       "      <td>DPD</td>\n",
       "      <td>Branded Drug Comp</td>\n",
       "      <td>S</td>\n",
       "    </tr>\n",
       "    <tr>\n",
       "      <th>20</th>\n",
       "      <td>44629555</td>\n",
       "      <td>ERLOTINIB HYDROCHLORIDE 150 MG [TEVA-ERLOTINIB]</td>\n",
       "      <td>Drug</td>\n",
       "      <td>DPD</td>\n",
       "      <td>Branded Drug Comp</td>\n",
       "      <td>S</td>\n",
       "    </tr>\n",
       "    <tr>\n",
       "      <th>21</th>\n",
       "      <td>44650442</td>\n",
       "      <td>ERLOTINIB HYDROCHLORIDE 150 MG ORAL TABLET [TA...</td>\n",
       "      <td>Drug</td>\n",
       "      <td>DPD</td>\n",
       "      <td>Branded Drug</td>\n",
       "      <td>None</td>\n",
       "    </tr>\n",
       "    <tr>\n",
       "      <th>22</th>\n",
       "      <td>44663891</td>\n",
       "      <td>ERLOTINIB HYDROCHLORIDE 25 MG ORAL TABLET [TAR...</td>\n",
       "      <td>Drug</td>\n",
       "      <td>DPD</td>\n",
       "      <td>Branded Drug</td>\n",
       "      <td>None</td>\n",
       "    </tr>\n",
       "    <tr>\n",
       "      <th>23</th>\n",
       "      <td>43161159</td>\n",
       "      <td>erlotinib 25 MG Delayed Release Oral Tablet [T...</td>\n",
       "      <td>Drug</td>\n",
       "      <td>RxNorm Extension</td>\n",
       "      <td>Branded Drug</td>\n",
       "      <td>S</td>\n",
       "    </tr>\n",
       "    <tr>\n",
       "      <th>24</th>\n",
       "      <td>43161160</td>\n",
       "      <td>erlotinib 100 MG Delayed Release Oral Tablet [...</td>\n",
       "      <td>Drug</td>\n",
       "      <td>RxNorm Extension</td>\n",
       "      <td>Branded Drug Box</td>\n",
       "      <td>S</td>\n",
       "    </tr>\n",
       "    <tr>\n",
       "      <th>25</th>\n",
       "      <td>21046020</td>\n",
       "      <td>erlotinib 100 MG Oral Tablet [Tarceva] by Roch...</td>\n",
       "      <td>Drug</td>\n",
       "      <td>RxNorm Extension</td>\n",
       "      <td>Marketed Product</td>\n",
       "      <td>S</td>\n",
       "    </tr>\n",
       "    <tr>\n",
       "      <th>26</th>\n",
       "      <td>21036161</td>\n",
       "      <td>erlotinib 150 MG Oral Tablet [Tarceva] by Roch...</td>\n",
       "      <td>Drug</td>\n",
       "      <td>RxNorm Extension</td>\n",
       "      <td>Marketed Product</td>\n",
       "      <td>S</td>\n",
       "    </tr>\n",
       "    <tr>\n",
       "      <th>27</th>\n",
       "      <td>21055778</td>\n",
       "      <td>erlotinib 100 MG Oral Tablet [Tarceva] Box of 30</td>\n",
       "      <td>Drug</td>\n",
       "      <td>RxNorm Extension</td>\n",
       "      <td>Branded Drug Box</td>\n",
       "      <td>S</td>\n",
       "    </tr>\n",
       "    <tr>\n",
       "      <th>28</th>\n",
       "      <td>21055779</td>\n",
       "      <td>erlotinib 100 MG Oral Tablet [Tarceva] Box of ...</td>\n",
       "      <td>Drug</td>\n",
       "      <td>RxNorm Extension</td>\n",
       "      <td>Marketed Product</td>\n",
       "      <td>S</td>\n",
       "    </tr>\n",
       "    <tr>\n",
       "      <th>29</th>\n",
       "      <td>21095070</td>\n",
       "      <td>erlotinib 150 MG Oral Tablet Box of 30</td>\n",
       "      <td>Drug</td>\n",
       "      <td>RxNorm Extension</td>\n",
       "      <td>Clinical Drug Box</td>\n",
       "      <td>S</td>\n",
       "    </tr>\n",
       "    <tr>\n",
       "      <th>30</th>\n",
       "      <td>21154088</td>\n",
       "      <td>erlotinib 25 MG Oral Tablet [Tarceva] Box of 30</td>\n",
       "      <td>Drug</td>\n",
       "      <td>RxNorm Extension</td>\n",
       "      <td>Branded Drug Box</td>\n",
       "      <td>S</td>\n",
       "    </tr>\n",
       "    <tr>\n",
       "      <th>31</th>\n",
       "      <td>21114744</td>\n",
       "      <td>erlotinib 25 MG Oral Tablet [Tarceva] Box of 3...</td>\n",
       "      <td>Drug</td>\n",
       "      <td>RxNorm Extension</td>\n",
       "      <td>Marketed Product</td>\n",
       "      <td>S</td>\n",
       "    </tr>\n",
       "    <tr>\n",
       "      <th>32</th>\n",
       "      <td>21114742</td>\n",
       "      <td>erlotinib 150 MG Oral Tablet [Tarceva] Box of 30</td>\n",
       "      <td>Drug</td>\n",
       "      <td>RxNorm Extension</td>\n",
       "      <td>Branded Drug Box</td>\n",
       "      <td>S</td>\n",
       "    </tr>\n",
       "    <tr>\n",
       "      <th>33</th>\n",
       "      <td>21114743</td>\n",
       "      <td>erlotinib 150 MG Oral Tablet [Tarceva] Box of ...</td>\n",
       "      <td>Drug</td>\n",
       "      <td>RxNorm Extension</td>\n",
       "      <td>Marketed Product</td>\n",
       "      <td>S</td>\n",
       "    </tr>\n",
       "    <tr>\n",
       "      <th>34</th>\n",
       "      <td>21163869</td>\n",
       "      <td>erlotinib 25 MG Oral Tablet Box of 30</td>\n",
       "      <td>Drug</td>\n",
       "      <td>RxNorm Extension</td>\n",
       "      <td>Clinical Drug Box</td>\n",
       "      <td>S</td>\n",
       "    </tr>\n",
       "    <tr>\n",
       "      <th>35</th>\n",
       "      <td>21124347</td>\n",
       "      <td>erlotinib 100 MG Oral Tablet Box of 30</td>\n",
       "      <td>Drug</td>\n",
       "      <td>RxNorm Extension</td>\n",
       "      <td>Clinical Drug Box</td>\n",
       "      <td>S</td>\n",
       "    </tr>\n",
       "    <tr>\n",
       "      <th>36</th>\n",
       "      <td>21173676</td>\n",
       "      <td>erlotinib 25 MG Oral Tablet [Tarceva] by Roche...</td>\n",
       "      <td>Drug</td>\n",
       "      <td>RxNorm Extension</td>\n",
       "      <td>Marketed Product</td>\n",
       "      <td>S</td>\n",
       "    </tr>\n",
       "    <tr>\n",
       "      <th>37</th>\n",
       "      <td>43194048</td>\n",
       "      <td>erlotinib 100 MG Delayed Release Oral Tablet [...</td>\n",
       "      <td>Drug</td>\n",
       "      <td>RxNorm Extension</td>\n",
       "      <td>Branded Drug</td>\n",
       "      <td>S</td>\n",
       "    </tr>\n",
       "    <tr>\n",
       "      <th>38</th>\n",
       "      <td>43194049</td>\n",
       "      <td>erlotinib 100 MG Delayed Release Oral Tablet [...</td>\n",
       "      <td>Drug</td>\n",
       "      <td>RxNorm Extension</td>\n",
       "      <td>Marketed Product</td>\n",
       "      <td>S</td>\n",
       "    </tr>\n",
       "    <tr>\n",
       "      <th>39</th>\n",
       "      <td>43183077</td>\n",
       "      <td>erlotinib 25 MG Delayed Release Oral Tablet</td>\n",
       "      <td>Drug</td>\n",
       "      <td>RxNorm Extension</td>\n",
       "      <td>Clinical Drug</td>\n",
       "      <td>S</td>\n",
       "    </tr>\n",
       "    <tr>\n",
       "      <th>40</th>\n",
       "      <td>43183078</td>\n",
       "      <td>erlotinib 25 MG Delayed Release Oral Tablet Bo...</td>\n",
       "      <td>Drug</td>\n",
       "      <td>RxNorm Extension</td>\n",
       "      <td>Clinical Drug Box</td>\n",
       "      <td>S</td>\n",
       "    </tr>\n",
       "    <tr>\n",
       "      <th>41</th>\n",
       "      <td>43183079</td>\n",
       "      <td>erlotinib 25 MG Delayed Release Oral Tablet [T...</td>\n",
       "      <td>Drug</td>\n",
       "      <td>RxNorm Extension</td>\n",
       "      <td>Marketed Product</td>\n",
       "      <td>S</td>\n",
       "    </tr>\n",
       "    <tr>\n",
       "      <th>42</th>\n",
       "      <td>43172090</td>\n",
       "      <td>erlotinib 25 MG Delayed Release Oral Tablet [T...</td>\n",
       "      <td>Drug</td>\n",
       "      <td>RxNorm Extension</td>\n",
       "      <td>Branded Drug Box</td>\n",
       "      <td>S</td>\n",
       "    </tr>\n",
       "    <tr>\n",
       "      <th>43</th>\n",
       "      <td>43172091</td>\n",
       "      <td>erlotinib 100 MG Delayed Release Oral Tablet</td>\n",
       "      <td>Drug</td>\n",
       "      <td>RxNorm Extension</td>\n",
       "      <td>Clinical Drug</td>\n",
       "      <td>S</td>\n",
       "    </tr>\n",
       "    <tr>\n",
       "      <th>44</th>\n",
       "      <td>43172092</td>\n",
       "      <td>erlotinib 150 MG Delayed Release Oral Tablet [...</td>\n",
       "      <td>Drug</td>\n",
       "      <td>RxNorm Extension</td>\n",
       "      <td>Marketed Product</td>\n",
       "      <td>S</td>\n",
       "    </tr>\n",
       "    <tr>\n",
       "      <th>45</th>\n",
       "      <td>43205012</td>\n",
       "      <td>erlotinib 150 MG Delayed Release Oral Tablet B...</td>\n",
       "      <td>Drug</td>\n",
       "      <td>RxNorm Extension</td>\n",
       "      <td>Clinical Drug Box</td>\n",
       "      <td>S</td>\n",
       "    </tr>\n",
       "    <tr>\n",
       "      <th>46</th>\n",
       "      <td>43215936</td>\n",
       "      <td>erlotinib 150 MG Delayed Release Oral Tablet [...</td>\n",
       "      <td>Drug</td>\n",
       "      <td>RxNorm Extension</td>\n",
       "      <td>Branded Drug</td>\n",
       "      <td>S</td>\n",
       "    </tr>\n",
       "    <tr>\n",
       "      <th>47</th>\n",
       "      <td>43215937</td>\n",
       "      <td>erlotinib 150 MG Delayed Release Oral Tablet [...</td>\n",
       "      <td>Drug</td>\n",
       "      <td>RxNorm Extension</td>\n",
       "      <td>Branded Drug Box</td>\n",
       "      <td>S</td>\n",
       "    </tr>\n",
       "  </tbody>\n",
       "</table>\n",
       "</div>"
      ],
      "text/plain": [
       "   DRUG_CONCEPT_ID                                       CONCEPT_NAME  \\\n",
       "0         19122516                                   erlotinib 100 MG   \n",
       "1         19122518                                   erlotinib 150 MG   \n",
       "2         19122520                                    erlotinib 25 MG   \n",
       "3         19122517                       erlotinib 100 MG Oral Tablet   \n",
       "4         19122519                       erlotinib 150 MG Oral Tablet   \n",
       "5         19122521                        erlotinib 25 MG Oral Tablet   \n",
       "6         40236070                         erlotinib 100 MG [Tarceva]   \n",
       "7         40236072                         erlotinib 150 MG [Tarceva]   \n",
       "8         40236074                          erlotinib 25 MG [Tarceva]   \n",
       "9         40236069             erlotinib 100 MG Oral Tablet [Tarceva]   \n",
       "10        40236071             erlotinib 150 MG Oral Tablet [Tarceva]   \n",
       "11        40236073              erlotinib 25 MG Oral Tablet [Tarceva]   \n",
       "12        44550399  ERLOTINIB HYDROCHLORIDE 100 MG ORAL TABLET [TA...   \n",
       "13        43149952  erlotinib 100 MG Delayed Release Oral Tablet B...   \n",
       "14        43149953       erlotinib 150 MG Delayed Release Oral Tablet   \n",
       "15        44589962  ERLOTINIB HYDROCHLORIDE 100 MG ORAL TABLET [TE...   \n",
       "16        44605896     ERLOTINIB HYDROCHLORIDE 25 MG [TEVA-ERLOTINIB]   \n",
       "17        44601889  ERLOTINIB HYDROCHLORIDE 150 MG ORAL TABLET [TE...   \n",
       "18        44619035  ERLOTINIB HYDROCHLORIDE 25 MG ORAL TABLET [TEV...   \n",
       "19        44636353    ERLOTINIB HYDROCHLORIDE 100 MG [TEVA-ERLOTINIB]   \n",
       "20        44629555    ERLOTINIB HYDROCHLORIDE 150 MG [TEVA-ERLOTINIB]   \n",
       "21        44650442  ERLOTINIB HYDROCHLORIDE 150 MG ORAL TABLET [TA...   \n",
       "22        44663891  ERLOTINIB HYDROCHLORIDE 25 MG ORAL TABLET [TAR...   \n",
       "23        43161159  erlotinib 25 MG Delayed Release Oral Tablet [T...   \n",
       "24        43161160  erlotinib 100 MG Delayed Release Oral Tablet [...   \n",
       "25        21046020  erlotinib 100 MG Oral Tablet [Tarceva] by Roch...   \n",
       "26        21036161  erlotinib 150 MG Oral Tablet [Tarceva] by Roch...   \n",
       "27        21055778   erlotinib 100 MG Oral Tablet [Tarceva] Box of 30   \n",
       "28        21055779  erlotinib 100 MG Oral Tablet [Tarceva] Box of ...   \n",
       "29        21095070             erlotinib 150 MG Oral Tablet Box of 30   \n",
       "30        21154088    erlotinib 25 MG Oral Tablet [Tarceva] Box of 30   \n",
       "31        21114744  erlotinib 25 MG Oral Tablet [Tarceva] Box of 3...   \n",
       "32        21114742   erlotinib 150 MG Oral Tablet [Tarceva] Box of 30   \n",
       "33        21114743  erlotinib 150 MG Oral Tablet [Tarceva] Box of ...   \n",
       "34        21163869              erlotinib 25 MG Oral Tablet Box of 30   \n",
       "35        21124347             erlotinib 100 MG Oral Tablet Box of 30   \n",
       "36        21173676  erlotinib 25 MG Oral Tablet [Tarceva] by Roche...   \n",
       "37        43194048  erlotinib 100 MG Delayed Release Oral Tablet [...   \n",
       "38        43194049  erlotinib 100 MG Delayed Release Oral Tablet [...   \n",
       "39        43183077        erlotinib 25 MG Delayed Release Oral Tablet   \n",
       "40        43183078  erlotinib 25 MG Delayed Release Oral Tablet Bo...   \n",
       "41        43183079  erlotinib 25 MG Delayed Release Oral Tablet [T...   \n",
       "42        43172090  erlotinib 25 MG Delayed Release Oral Tablet [T...   \n",
       "43        43172091       erlotinib 100 MG Delayed Release Oral Tablet   \n",
       "44        43172092  erlotinib 150 MG Delayed Release Oral Tablet [...   \n",
       "45        43205012  erlotinib 150 MG Delayed Release Oral Tablet B...   \n",
       "46        43215936  erlotinib 150 MG Delayed Release Oral Tablet [...   \n",
       "47        43215937  erlotinib 150 MG Delayed Release Oral Tablet [...   \n",
       "\n",
       "   DOMAIN_ID     VOCABULARY_ID    CONCEPT_CLASS_ID STANDARD_CONCEPT  \n",
       "0       Drug            RxNorm  Clinical Drug Comp                S  \n",
       "1       Drug            RxNorm  Clinical Drug Comp                S  \n",
       "2       Drug            RxNorm  Clinical Drug Comp                S  \n",
       "3       Drug            RxNorm       Clinical Drug                S  \n",
       "4       Drug            RxNorm       Clinical Drug                S  \n",
       "5       Drug            RxNorm       Clinical Drug                S  \n",
       "6       Drug            RxNorm   Branded Drug Comp                S  \n",
       "7       Drug            RxNorm   Branded Drug Comp                S  \n",
       "8       Drug            RxNorm   Branded Drug Comp                S  \n",
       "9       Drug            RxNorm        Branded Drug                S  \n",
       "10      Drug            RxNorm        Branded Drug                S  \n",
       "11      Drug            RxNorm        Branded Drug                S  \n",
       "12      Drug               DPD        Branded Drug             None  \n",
       "13      Drug  RxNorm Extension   Clinical Drug Box                S  \n",
       "14      Drug  RxNorm Extension       Clinical Drug                S  \n",
       "15      Drug               DPD        Branded Drug                S  \n",
       "16      Drug               DPD   Branded Drug Comp                S  \n",
       "17      Drug               DPD        Branded Drug                S  \n",
       "18      Drug               DPD        Branded Drug                S  \n",
       "19      Drug               DPD   Branded Drug Comp                S  \n",
       "20      Drug               DPD   Branded Drug Comp                S  \n",
       "21      Drug               DPD        Branded Drug             None  \n",
       "22      Drug               DPD        Branded Drug             None  \n",
       "23      Drug  RxNorm Extension        Branded Drug                S  \n",
       "24      Drug  RxNorm Extension    Branded Drug Box                S  \n",
       "25      Drug  RxNorm Extension    Marketed Product                S  \n",
       "26      Drug  RxNorm Extension    Marketed Product                S  \n",
       "27      Drug  RxNorm Extension    Branded Drug Box                S  \n",
       "28      Drug  RxNorm Extension    Marketed Product                S  \n",
       "29      Drug  RxNorm Extension   Clinical Drug Box                S  \n",
       "30      Drug  RxNorm Extension    Branded Drug Box                S  \n",
       "31      Drug  RxNorm Extension    Marketed Product                S  \n",
       "32      Drug  RxNorm Extension    Branded Drug Box                S  \n",
       "33      Drug  RxNorm Extension    Marketed Product                S  \n",
       "34      Drug  RxNorm Extension   Clinical Drug Box                S  \n",
       "35      Drug  RxNorm Extension   Clinical Drug Box                S  \n",
       "36      Drug  RxNorm Extension    Marketed Product                S  \n",
       "37      Drug  RxNorm Extension        Branded Drug                S  \n",
       "38      Drug  RxNorm Extension    Marketed Product                S  \n",
       "39      Drug  RxNorm Extension       Clinical Drug                S  \n",
       "40      Drug  RxNorm Extension   Clinical Drug Box                S  \n",
       "41      Drug  RxNorm Extension    Marketed Product                S  \n",
       "42      Drug  RxNorm Extension    Branded Drug Box                S  \n",
       "43      Drug  RxNorm Extension       Clinical Drug                S  \n",
       "44      Drug  RxNorm Extension    Marketed Product                S  \n",
       "45      Drug  RxNorm Extension   Clinical Drug Box                S  \n",
       "46      Drug  RxNorm Extension        Branded Drug                S  \n",
       "47      Drug  RxNorm Extension    Branded Drug Box                S  "
      ]
     },
     "execution_count": 176,
     "metadata": {},
     "output_type": "execute_result"
    }
   ],
   "source": [
    "erlotinibDrugs.select(\"DRUG_CONCEPT_ID\", \"CONCEPT_NAME\", \"DOMAIN_ID\", \"VOCABULARY_ID\", \"CONCEPT_CLASS_ID\", \"STANDARD_CONCEPT\").phead(50)"
   ]
  },
  {
   "cell_type": "code",
   "execution_count": null,
   "metadata": {
    "collapsed": true
   },
   "outputs": [],
   "source": []
  }
 ],
 "metadata": {
  "kernelspec": {
   "display_name": "Python 2",
   "language": "python",
   "name": "python2"
  }
 },
 "nbformat": 4,
 "nbformat_minor": 1
}

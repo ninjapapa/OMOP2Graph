{
 "cells": [
  {
   "cell_type": "markdown",
   "metadata": {},
   "source": [
    "# SMV APP - "
   ]
  },
  {
   "cell_type": "code",
   "execution_count": null,
   "metadata": {},
   "outputs": [],
   "source": [
    "from smv import SmvApp\n",
    "from smv.smvconfig import SmvConfig\n",
    "import pyspark.sql.functions as F\n",
    "import pyspark.sql.types as T\n",
    "\n",
    "sc.setLogLevel(\"ERROR\")\n",
    "smv_args = [\n",
    "    \"--smv-app-dir\",\n",
    "    \"/home/bzhang/OMOP2Graph\",\n",
    "]\n",
    "smvconf = SmvConfig(smv_args)\n",
    "app = SmvApp.createInstance(smvconf, spark)\n",
    "\n",
    "# Loading smvshell tools\n",
    "# To see help:\n",
    "#   > help(smv.smvshell)\n",
    "from smv.smvshell import *"
   ]
  },
  {
   "cell_type": "code",
   "execution_count": null,
   "metadata": {},
   "outputs": [],
   "source": [
    "# List modules\n",
    "ls()"
   ]
  },
  {
   "cell_type": "code",
   "execution_count": null,
   "metadata": {},
   "outputs": [],
   "source": [
    "# Resolve a module to DataFrame\n",
    "ebs = fullRun('EmploymentByState')"
   ]
  }
 ],
 "metadata": {
  "kernelspec": {
   "display_name": "Python 3 (ipykernel)",
   "language": "python",
   "name": "python3"
  },
  "language_info": {
   "codemirror_mode": {
    "name": "ipython",
    "version": 3
   },
   "file_extension": ".py",
   "mimetype": "text/x-python",
   "name": "python",
   "nbconvert_exporter": "python",
   "pygments_lexer": "ipython3",
   "version": "3.11.2"
  }
 },
 "nbformat": 4,
 "nbformat_minor": 4
}

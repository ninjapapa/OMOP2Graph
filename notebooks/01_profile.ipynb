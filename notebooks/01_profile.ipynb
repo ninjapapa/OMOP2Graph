{
 "cells": [
  {
   "cell_type": "markdown",
   "metadata": {},
   "source": [
    "# 01 Profile on inputs"
   ]
  },
  {
   "cell_type": "code",
   "execution_count": 1,
   "metadata": {
    "collapsed": true,
    "jupyter": {
     "outputs_hidden": true
    }
   },
   "outputs": [],
   "source": [
    "from smv import SmvApp\n",
    "from smv.smvconfig import SmvConfig\n",
    "import pyspark.sql.functions as F\n",
    "import pyspark.sql.types as T\n",
    "\n",
    "sc.setLogLevel(\"ERROR\")\n",
    "smv_args = [\n",
    "    \"--smv-app-dir\",\n",
    "    \"/home/bzhang/OMOP2Graph\",\n",
    "]\n",
    "smvconf = SmvConfig(smv_args)\n",
    "app = SmvApp.createInstance(smvconf, spark)\n",
    "\n",
    "# Loading smvshell tools\n",
    "# To see help:\n",
    "#   > help(smv.smvshell)\n",
    "from smv.smvshell import *"
   ]
  },
  {
   "cell_type": "code",
   "execution_count": 2,
   "metadata": {},
   "outputs": [
    {
     "name": "stdout",
     "output_type": "stream",
     "text": [
      "\n",
      "omop:\n",
      "  (I) input.CONCEPT\n",
      "  (I) input.CONCEPT_ANCESTOR\n",
      "  (I) input.CONCEPT_CLASS\n",
      "  (I) input.CONCEPT_RELATIONSHIP\n",
      "  (I) input.CONCEPT_SYNONYM\n",
      "  (I) input.DOMAIN\n",
      "  (I) input.DRUG_STRENGTH\n",
      "  (I) input.RELATIONSHIP\n",
      "  (I) input.VOCABULARY\n",
      "\n"
     ]
    }
   ],
   "source": [
    "# List modules\n",
    "ls()"
   ]
  },
  {
   "cell_type": "code",
   "execution_count": 3,
   "metadata": {
    "collapsed": true,
    "jupyter": {
     "outputs_hidden": true
    }
   },
   "outputs": [
    {
     "name": "stderr",
     "output_type": "stream",
     "text": [
      "02/01/2025 09:30:18 INFO smv: STARTING FORCE AN ACTION FOR DQM on omop.input.CONCEPT\n",
      "02/01/2025 09:30:48 INFO smv: COMPLETED FORCE AN ACTION FOR DQM: omop.input.CONCEPT\n",
      "02/01/2025 09:30:48 INFO smv: RunTime: 0:00:29.336465\n"
     ]
    }
   ],
   "source": [
    "# Resolve a module to DataFrame\n",
    "concept=fullRun(\"input.CONCEPT\")"
   ]
  },
  {
   "cell_type": "code",
   "execution_count": 4,
   "metadata": {
    "collapsed": true,
    "jupyter": {
     "outputs_hidden": true
    }
   },
   "outputs": [
    {
     "name": "stdout",
     "output_type": "stream",
     "text": [
      "concept_id : string = 38001666\n",
      "concept_name : string = Level I Photochemotherapy\n",
      "domain_id : string = Observation\n",
      "vocabulary_id : string = APC\n",
      "concept_class_id : string = APC\n",
      "standard_concept : string = None\n",
      "concept_code : string = 0001\n",
      "valid_start_date : date = 2011-01-01\n",
      "valid_end_date : date = 2014-12-31\n",
      "invalid_reason : string = D\n"
     ]
    }
   ],
   "source": [
    "concept.peek()"
   ]
  },
  {
   "cell_type": "code",
   "execution_count": 7,
   "metadata": {
    "collapsed": true,
    "jupyter": {
     "outputs_hidden": true
    }
   },
   "outputs": [
    {
     "name": "stderr",
     "output_type": "stream",
     "text": [
      "02/01/2025 09:32:47 INFO smv: STARTING FORCE AN ACTION FOR DQM on omop.input.DOMAIN\n",
      "02/01/2025 09:32:47 INFO smv: COMPLETED FORCE AN ACTION FOR DQM: omop.input.DOMAIN\n",
      "02/01/2025 09:32:47 INFO smv: RunTime: 0:00:00.131458\n",
      "02/01/2025 09:32:47 INFO smv: STARTING GENERATE USER METADATA on omop.input.DOMAIN\n",
      "02/01/2025 09:32:47 INFO smv: COMPLETED GENERATE USER METADATA: omop.input.DOMAIN\n",
      "02/01/2025 09:32:47 INFO smv: RunTime: 0:00:00.000003\n"
     ]
    }
   ],
   "source": [
    "domain=fullRun(\"input.DOMAIN\")"
   ]
  },
  {
   "cell_type": "code",
   "execution_count": 8,
   "metadata": {
    "collapsed": true,
    "jupyter": {
     "outputs_hidden": true
    }
   },
   "outputs": [
    {
     "name": "stdout",
     "output_type": "stream",
     "text": [
      "domain_id : string = Cost\n",
      "domain_name : string = Cost\n",
      "domain_concept_id : int = 581456\n"
     ]
    }
   ],
   "source": [
    "domain.peek()"
   ]
  },
  {
   "cell_type": "code",
   "execution_count": 11,
   "metadata": {
    "collapsed": true,
    "jupyter": {
     "outputs_hidden": true
    }
   },
   "outputs": [
    {
     "name": "stdout",
     "output_type": "stream",
     "text": [
      "+-----------+-----------+-----------------+\n",
      "|  domain_id|domain_name|domain_concept_id|\n",
      "+-----------+-----------+-----------------+\n",
      "|Observation|Observation|               27|\n",
      "+-----------+-----------+-----------------+\n",
      "\n"
     ]
    }
   ],
   "source": [
    "domain.where(F.col('domain_id')=='Observation').show()"
   ]
  },
  {
   "cell_type": "code",
   "execution_count": 12,
   "metadata": {
    "collapsed": true,
    "jupyter": {
     "outputs_hidden": true
    }
   },
   "outputs": [
    {
     "name": "stderr",
     "output_type": "stream",
     "text": [
      "02/01/2025 09:35:07 INFO smv: STARTING FORCE AN ACTION FOR DQM on omop.input.CONCEPT_CLASS\n",
      "02/01/2025 09:35:07 INFO smv: COMPLETED FORCE AN ACTION FOR DQM: omop.input.CONCEPT_CLASS\n",
      "02/01/2025 09:35:07 INFO smv: RunTime: 0:00:00.124276\n",
      "02/01/2025 09:35:07 INFO smv: STARTING GENERATE USER METADATA on omop.input.CONCEPT_CLASS\n",
      "02/01/2025 09:35:07 INFO smv: COMPLETED GENERATE USER METADATA: omop.input.CONCEPT_CLASS\n",
      "02/01/2025 09:35:07 INFO smv: RunTime: 0:00:00.000002\n"
     ]
    }
   ],
   "source": [
    "cclass=fullRun(\"CONCEPT_CLASS\")"
   ]
  },
  {
   "cell_type": "code",
   "execution_count": 13,
   "metadata": {
    "collapsed": true,
    "jupyter": {
     "outputs_hidden": true
    }
   },
   "outputs": [
    {
     "name": "stdout",
     "output_type": "stream",
     "text": [
      "concept_class_id : string = Qualifier Value\n",
      "concept_class_name : string = Qualifier Value\n",
      "concept_class_concept_id : string = 44819021\n"
     ]
    }
   ],
   "source": [
    "cclass.peek()"
   ]
  },
  {
   "cell_type": "code",
   "execution_count": 14,
   "metadata": {
    "collapsed": true,
    "jupyter": {
     "outputs_hidden": true
    }
   },
   "outputs": [
    {
     "data": {
      "text/plain": [
       "50"
      ]
     },
     "execution_count": 14,
     "metadata": {},
     "output_type": "execute_result"
    }
   ],
   "source": [
    "domain.count()"
   ]
  },
  {
   "cell_type": "code",
   "execution_count": 15,
   "metadata": {
    "collapsed": true,
    "jupyter": {
     "outputs_hidden": true
    }
   },
   "outputs": [
    {
     "name": "stdout",
     "output_type": "stream",
     "text": [
      "+-------------------+--------------------+-----------------+\n",
      "|          domain_id|         domain_name|domain_concept_id|\n",
      "+-------------------+--------------------+-----------------+\n",
      "|               Cost|                Cost|           581456|\n",
      "|   Condition/Device|    Condition/Device|              235|\n",
      "|             Gender|              Gender|                2|\n",
      "|               Race|                Race|                3|\n",
      "|          Ethnicity|           Ethnicity|                4|\n",
      "|           Metadata|            Metadata|                7|\n",
      "|              Visit|               Visit|                8|\n",
      "|          Procedure|           Procedure|               10|\n",
      "|           Modifier|            Modifier|               12|\n",
      "|               Drug|                Drug|               13|\n",
      "|              Route|Route Of Administ...|               15|\n",
      "|               Unit|                Unit|               16|\n",
      "|             Device|              Device|               17|\n",
      "|          Condition|           Condition|               19|\n",
      "|        Measurement|         Measurement|               21|\n",
      "|Meas Value Operator|Measurement Value...|               23|\n",
      "|         Meas Value|   Measurement Value|               24|\n",
      "|        Observation|         Observation|               27|\n",
      "|       Relationship|        Relationship|               31|\n",
      "|   Place of Service|    Place of Service|               32|\n",
      "|           Currency|            Currency|               34|\n",
      "|       Revenue Code|        Revenue Code|               35|\n",
      "|           Specimen|            Specimen|               36|\n",
      "| Spec Anatomic Site|Specimen Anatomic...|               38|\n",
      "|Spec Disease Status|Specimen Disease ...|               39|\n",
      "|   Device/Procedure|    Device/Procedure|               41|\n",
      "|      Obs/Procedure|Observation/Proce...|               42|\n",
      "|    Measurement/Obs|Measurement/Obser...|               44|\n",
      "|         Device/Obs|  Device/Observation|               45|\n",
      "|     Condition/Meas|Condition/Measure...|               47|\n",
      "|      Condition/Obs|Condition/Observa...|               48|\n",
      "|Condition/Procedure| Condition/Procedure|               49|\n",
      "|        Device/Drug|         Device/Drug|               50|\n",
      "|   Drug/Measurement|    Drug/Measurement|               51|\n",
      "|           Drug/Obs|    Drug/Observation|               52|\n",
      "|     Condition/Drug|      Condition/Drug|               53|\n",
      "|     Drug/Procedure|      Drug/Procedure|               54|\n",
      "|     Meas/Procedure|Measurement/Proce...|               43|\n",
      "|       Type Concept|        Type Concept|               58|\n",
      "|               Plan|Health Plan - con...|            32475|\n",
      "|            Sponsor|Sponsor - institu...|            32476|\n",
      "|              Payer|Payer - instituti...|            32477|\n",
      "|   Plan Stop Reason|Plan Stop Reason ...|            32478|\n",
      "|            Episode|             Episode|            32527|\n",
      "|           Provider|  Provider Specialty|               33|\n",
      "|          Geography| Geographical object|            32558|\n",
      "|            Regimen|   Treatment Regimen|            32687|\n",
      "|   Condition Status|OMOP Condition St...|            32889|\n",
      "|               Note|                Note|             5085|\n",
      "|           Language|            Language|            33068|\n",
      "+-------------------+--------------------+-----------------+\n",
      "\n"
     ]
    }
   ],
   "source": [
    "domain.show(50)"
   ]
  },
  {
   "cell_type": "code",
   "execution_count": 16,
   "metadata": {
    "collapsed": true,
    "jupyter": {
     "outputs_hidden": true
    }
   },
   "outputs": [
    {
     "name": "stdout",
     "output_type": "stream",
     "text": [
      "concept_id : string = 2614714\n",
      "concept_name : string = Chlorhexidine containing antiseptic, 1 ml\n",
      "domain_id : string = Drug\n",
      "vocabulary_id : string = HCPCS\n",
      "concept_class_id : string = HCPCS\n",
      "standard_concept : string = None\n",
      "concept_code : string = A4248\n",
      "valid_start_date : date = 2004-01-01\n",
      "valid_end_date : date = 2099-12-31\n",
      "invalid_reason : string = None\n"
     ]
    }
   ],
   "source": [
    "concept.where(F.col('domain_id') == \"Drug\").peek()"
   ]
  },
  {
   "cell_type": "code",
   "execution_count": 17,
   "metadata": {
    "collapsed": true,
    "jupyter": {
     "outputs_hidden": true
    }
   },
   "outputs": [
    {
     "name": "stderr",
     "output_type": "stream",
     "text": [
      "02/01/2025 09:38:41 INFO smv: STARTING FORCE AN ACTION FOR DQM on omop.input.VOCABULARY\n",
      "02/01/2025 09:38:41 INFO smv: COMPLETED FORCE AN ACTION FOR DQM: omop.input.VOCABULARY\n",
      "02/01/2025 09:38:41 INFO smv: RunTime: 0:00:00.122613\n",
      "02/01/2025 09:38:41 INFO smv: STARTING GENERATE USER METADATA on omop.input.VOCABULARY\n",
      "02/01/2025 09:38:41 INFO smv: COMPLETED GENERATE USER METADATA: omop.input.VOCABULARY\n",
      "02/01/2025 09:38:41 INFO smv: RunTime: 0:00:00.000002\n"
     ]
    }
   ],
   "source": [
    "v=fullRun(\"VOCABULARY\")"
   ]
  },
  {
   "cell_type": "code",
   "execution_count": 18,
   "metadata": {
    "collapsed": true,
    "jupyter": {
     "outputs_hidden": true
    }
   },
   "outputs": [
    {
     "data": {
      "text/plain": [
       "56"
      ]
     },
     "execution_count": 18,
     "metadata": {},
     "output_type": "execute_result"
    }
   ],
   "source": [
    "v.count()"
   ]
  },
  {
   "cell_type": "code",
   "execution_count": 19,
   "metadata": {
    "collapsed": true,
    "jupyter": {
     "outputs_hidden": true
    }
   },
   "outputs": [
    {
     "name": "stdout",
     "output_type": "stream",
     "text": [
      "+--------------------+--------------------+--------------------+--------------------+---------------------+\n",
      "|       vocabulary_id|     vocabulary_name|vocabulary_reference|  vocabulary_version|vocabulary_concept_id|\n",
      "+--------------------+--------------------+--------------------+--------------------+---------------------+\n",
      "|              ICD9CM|International Cla...|http://www.cms.go...|ICD9CM v32 master...|                 5046|\n",
      "|                 NDC|National Drug Cod...|http://www.nlm.ni...|        NDC 20240825|             44819105|\n",
      "|          Visit Type|     OMOP Visit Type|      OMOP generated|                NULL|             44819150|\n",
      "|           Drug Type|OMOP Drug Exposur...|      OMOP generated|                NULL|             44819126|\n",
      "|                Plan|    OMOP Health Plan|      OMOP generated|                NULL|                32471|\n",
      "|      Procedure Type|OMOP Procedure Oc...|      OMOP generated|                NULL|             44819128|\n",
      "|            ICD9Proc|International Cla...|http://www.cms.go...|ICD9CM v32 master...|             44819099|\n",
      "|                 MDC|Major Diagnostic ...|http://www.cms.go...|          2013-01-06|             44819131|\n",
      "|                 APC|Ambulatory Paymen...|http://www.cms.go...|2018-January-Adde...|             44819132|\n",
      "|           US Census|Census regions of...|https://www.censu...|US Census 2017 Re...|                32570|\n",
      "|             Episode|        OMOP Episode|      OMOP generated|    Episode 20201014|                32523|\n",
      "|            Metadata|       OMOP Metadata|      OMOP generated|                NULL|                32675|\n",
      "|    Observation Type|OMOP Observation ...|      OMOP generated|                NULL|             44819129|\n",
      "|      Condition Type|OMOP Condition Oc...|      OMOP generated|                NULL|             44819127|\n",
      "|           Meas Type|OMOP Measurement ...|      OMOP generated|                NULL|             44819152|\n",
      "|    Condition Status|OMOP Condition St...|      OMOP generated|                NULL|                32887|\n",
      "|                None|OMOP Standardized...|      OMOP generated|      v5.0 30-AUG-24|             44819096|\n",
      "|     Obs Period Type|OMOP Observation ...|      OMOP generated|                NULL|             44819149|\n",
      "|                Race|Race and Ethnicit...|http://www.cdc.go...|         Version 1.0|             44819109|\n",
      "|               Visit|          OMOP Visit|      OMOP generated|      Visit 20211216|             44819119|\n",
      "|CMS Place of Service|Place of Service ...|http://www.cms.go...|          2009-01-11|             44819110|\n",
      "|           Cost Type|      OMOP Cost Type|      OMOP generated|                NULL|                 5029|\n",
      "|             Sponsor|        OMOP Sponsor|      OMOP generated|                NULL|                32472|\n",
      "|    Plan Stop Reason|OMOP Plan Stop Re...|      OMOP generated|                NULL|                32474|\n",
      "|         Device Type|    OMOP Device Type|      OMOP generated|                NULL|             44819151|\n",
      "|                SOPT|Source of Payment...|https://www.nahdo...|    SOPT Version 9.2|                32473|\n",
      "|       UB04 Typ bill|UB04 Type of Bill...|https://ushik.ahr...|                NULL|                32044|\n",
      "|              Gender|         OMOP Gender|      OMOP generated|                NULL|             44819108|\n",
      "|         Cohort Type|    OMOP Cohort Type|      OMOP generated|                NULL|             44819234|\n",
      "|                 DRG|Diagnosis-related...|http://www.cms.go...|          2011-18-02|             44819130|\n",
      "|          Death Type|     OMOP Death Type|      OMOP generated|                NULL|             44819135|\n",
      "|           Note Type|      OMOP Note Type|      OMOP generated|                NULL|             44819146|\n",
      "|  Medicare Specialty|Medicare provider...|http://www.cms.go...|2018-06-26 Specialty|             44819138|\n",
      "|    RxNorm Extension|OMOP RxNorm Exten...|      OMOP generated|RxNorm Extension ...|                  252|\n",
      "|                Cost|           OMOP Cost|      OMOP generated|                NULL|               581457|\n",
      "|                 OSM|OpenStreetMap (OSMF)|https://www.opens...|OSM Release 2019-...|                32541|\n",
      "|UB04 Point of Origin|UB04 Claim Source...|https://www.resda...|                NULL|                32045|\n",
      "|  UB04 Pt dis status|UB04 Patient Disc...|https://www.resda...|                NULL|                32047|\n",
      "|            ICD10PCS|ICD-10 Procedure ...|http://www.cms.go...|       ICD10PCS 2024|             44819125|\n",
      "| Korean Revenue Code|Korean Revenue Co...|      OMOP generated|                NULL|                32724|\n",
      "|        Revenue Code|UB04/CMS1450 Reve...|http://www.mpca.n...|        2010 Release|             44819133|\n",
      "| UB04 Pri Typ of Adm|UB04 Claim Inpati...|https://www.resda...|                NULL|                32046|\n",
      "|        Relationship|   OMOP Relationship|      OMOP generated|                NULL|             44819235|\n",
      "|              Domain|         OMOP Domain|      OMOP generated|                NULL|             44819147|\n",
      "|              RxNorm|        RxNorm (NLM)|http://www.nlm.ni...|     RxNorm 20240506|             44819104|\n",
      "|            Language|       OMOP Language|      OMOP generated|   Language 20221030|                33069|\n",
      "|                CPT4|Current Procedura...|http://www.nlm.ni...|        2024 Release|             44819100|\n",
      "|                 CDM|OMOP Common DataM...|https://github.co...|          CDM v6.0.0|                32485|\n",
      "|          Vocabulary|     OMOP Vocabulary|      OMOP generated|                NULL|             44819232|\n",
      "|        Type Concept|   OMOP Type Concept|      OMOP generated|Type Concept 2022...|                32808|\n",
      "|               ICD10|International Cla...|http://www.who.in...|        2021 Release|             44819124|\n",
      "|        OMOP Genomic|OMOP Genomic voca...|      OMOP generated|OMOP Genomic 2024...|                33002|\n",
      "|       Concept Class|  OMOP Concept Class|      OMOP generated|                NULL|             44819233|\n",
      "|                UCUM|Unified Code for ...|http://aurora.reg...|       Version 1.8.2|             44819107|\n",
      "|              SNOMED|Systematic Nomenc...|http://www.nlm.ni...|2024-02-01 SNOMED...|             44819097|\n",
      "|               HCPCS|Healthcare Common...|http://www.nlm.ni...|20240701 Alpha Nu...|             44819101|\n",
      "+--------------------+--------------------+--------------------+--------------------+---------------------+\n",
      "\n"
     ]
    }
   ],
   "source": [
    "v.show(56)"
   ]
  },
  {
   "cell_type": "code",
   "execution_count": 22,
   "metadata": {
    "collapsed": true,
    "jupyter": {
     "outputs_hidden": true
    }
   },
   "outputs": [
    {
     "name": "stderr",
     "output_type": "stream",
     "text": [
      "[Stage 17:================================================>         (5 + 1) / 6]"
     ]
    },
    {
     "name": "stdout",
     "output_type": "stream",
     "text": [
      "+-------------+------+\n",
      "|vocabulary_id| count|\n",
      "+-------------+------+\n",
      "|     ICD10PCS|196048|\n",
      "|       SNOMED| 83542|\n",
      "|     ICD9Proc|  4657|\n",
      "|        HCPCS|  1342|\n",
      "|       ICD9CM|   214|\n",
      "|        ICD10|   178|\n",
      "+-------------+------+\n",
      "\n"
     ]
    },
    {
     "name": "stderr",
     "output_type": "stream",
     "text": [
      "                                                                                "
     ]
    }
   ],
   "source": [
    "concept.where(F.col('domain_id') == \"Procedure\").smvHist(\"vocabulary_id\")"
   ]
  },
  {
   "cell_type": "code",
   "execution_count": 23,
   "metadata": {
    "collapsed": true,
    "jupyter": {
     "outputs_hidden": true
    }
   },
   "outputs": [
    {
     "name": "stderr",
     "output_type": "stream",
     "text": [
      "[Stage 20:================================================>         (5 + 1) / 6]"
     ]
    },
    {
     "name": "stdout",
     "output_type": "stream",
     "text": [
      "+-----------+-----+\n",
      "|  domain_id|count|\n",
      "+-----------+-----+\n",
      "|  Condition|14113|\n",
      "|Observation| 2233|\n",
      "|  Procedure|  178|\n",
      "|Measurement|  114|\n",
      "+-----------+-----+\n",
      "\n"
     ]
    },
    {
     "name": "stderr",
     "output_type": "stream",
     "text": [
      "                                                                                "
     ]
    }
   ],
   "source": [
    "concept.where(F.col('vocabulary_id') == \"ICD10\").smvHist(\"domain_id\")"
   ]
  },
  {
   "cell_type": "code",
   "execution_count": 24,
   "metadata": {
    "collapsed": true,
    "jupyter": {
     "outputs_hidden": true
    }
   },
   "outputs": [
    {
     "name": "stderr",
     "output_type": "stream",
     "text": [
      "[Stage 23:================================================>         (5 + 1) / 6]"
     ]
    },
    {
     "name": "stdout",
     "output_type": "stream",
     "text": [
      "+-----------+-----+\n",
      "|  domain_id|count|\n",
      "+-----------+-----+\n",
      "|  Condition|14929|\n",
      "|Observation| 2204|\n",
      "|Measurement|  217|\n",
      "|  Procedure|  214|\n",
      "+-----------+-----+\n",
      "\n"
     ]
    },
    {
     "name": "stderr",
     "output_type": "stream",
     "text": [
      "                                                                                "
     ]
    }
   ],
   "source": [
    "concept.where(F.col('vocabulary_id') == \"ICD9CM\").smvHist(\"domain_id\")"
   ]
  },
  {
   "cell_type": "code",
   "execution_count": 25,
   "metadata": {
    "collapsed": true,
    "jupyter": {
     "outputs_hidden": true
    }
   },
   "outputs": [
    {
     "name": "stderr",
     "output_type": "stream",
     "text": [
      "[Stage 26:================================================>         (5 + 1) / 6]"
     ]
    },
    {
     "name": "stdout",
     "output_type": "stream",
     "text": [
      "+---------+-----+\n",
      "|domain_id|count|\n",
      "+---------+-----+\n",
      "|Procedure| 4657|\n",
      "+---------+-----+\n",
      "\n"
     ]
    },
    {
     "name": "stderr",
     "output_type": "stream",
     "text": [
      "                                                                                "
     ]
    }
   ],
   "source": [
    "concept.where(F.col('vocabulary_id') == \"ICD9Proc\").smvHist(\"domain_id\")"
   ]
  },
  {
   "cell_type": "code",
   "execution_count": 26,
   "metadata": {
    "collapsed": true,
    "jupyter": {
     "outputs_hidden": true
    }
   },
   "outputs": [
    {
     "name": "stderr",
     "output_type": "stream",
     "text": [
      "[Stage 29:================================================>         (5 + 1) / 6]"
     ]
    },
    {
     "name": "stdout",
     "output_type": "stream",
     "text": [
      "+-----------+-----+\n",
      "|  domain_id|count|\n",
      "+-----------+-----+\n",
      "|     Device| 5272|\n",
      "|Observation| 3309|\n",
      "|       Drug| 1971|\n",
      "|  Procedure| 1342|\n",
      "|Measurement|  184|\n",
      "|  Condition|    1|\n",
      "+-----------+-----+\n",
      "\n"
     ]
    },
    {
     "name": "stderr",
     "output_type": "stream",
     "text": [
      "                                                                                "
     ]
    }
   ],
   "source": [
    "concept.where(F.col('vocabulary_id') == \"HCPCS\").smvHist(\"domain_id\")"
   ]
  },
  {
   "cell_type": "code",
   "execution_count": 10,
   "metadata": {},
   "outputs": [
    {
     "name": "stderr",
     "output_type": "stream",
     "text": [
      "02/02/2025 12:38:00 INFO smv: STARTING FORCE AN ACTION FOR DQM on omop.input.CONCEPT_ANCESTOR\n",
      "02/02/2025 12:38:59 INFO smv: COMPLETED FORCE AN ACTION FOR DQM: omop.input.CONCEPT_ANCESTOR\n",
      "02/02/2025 12:38:59 INFO smv: RunTime: 0:00:58.909597\n",
      "02/02/2025 12:38:59 INFO smv: STARTING GENERATE USER METADATA on omop.input.CONCEPT_ANCESTOR\n",
      "02/02/2025 12:38:59 INFO smv: COMPLETED GENERATE USER METADATA: omop.input.CONCEPT_ANCESTOR\n",
      "02/02/2025 12:38:59 INFO smv: RunTime: 0:00:00.000003\n"
     ]
    }
   ],
   "source": [
    "h=fullRun(\"CONCEPT_ANCESTOR\")"
   ]
  },
  {
   "cell_type": "code",
   "execution_count": 6,
   "metadata": {},
   "outputs": [
    {
     "name": "stdout",
     "output_type": "stream",
     "text": [
      "ancestor_concept_id : string = 37018424\n",
      "descendant_concept_id : string = 4235769\n",
      "min_levels_of_separation : int = 4\n",
      "max_levels_of_separation : int = 4\n"
     ]
    }
   ],
   "source": [
    "h.peek()"
   ]
  },
  {
   "cell_type": "code",
   "execution_count": 9,
   "metadata": {},
   "outputs": [
    {
     "name": "stderr",
     "output_type": "stream",
     "text": [
      "                                                                                "
     ]
    },
    {
     "name": "stdout",
     "output_type": "stream",
     "text": [
      "+------------------------+-------+\n",
      "|min_levels_of_separation|  count|\n",
      "+------------------------+-------+\n",
      "|                       2|7901077|\n",
      "|                       1|7539680|\n",
      "|                       3|4719412|\n",
      "|                       0|4594111|\n",
      "|                       4|2174494|\n",
      "|                       5|1559381|\n",
      "|                       6| 955329|\n",
      "|                       7| 488244|\n",
      "|                       8| 257083|\n",
      "|                       9| 130717|\n",
      "|                      10|  67723|\n",
      "|                      11|  32689|\n",
      "|                      12|  16401|\n",
      "|                      13|   7795|\n",
      "|                      14|   3637|\n",
      "|                      15|   1735|\n",
      "|                      16|    786|\n",
      "|                      17|    333|\n",
      "|                      18|    126|\n",
      "|                      19|     49|\n",
      "+------------------------+-------+\n",
      "only showing top 20 rows\n",
      "\n"
     ]
    }
   ],
   "source": [
    "h.select(F.col(\"min_levels_of_separation\").cast(\"string\")).smvHist(\"min_levels_of_separation\")"
   ]
  },
  {
   "cell_type": "code",
   "execution_count": 11,
   "metadata": {},
   "outputs": [
    {
     "name": "stderr",
     "output_type": "stream",
     "text": [
      "                                                                                "
     ]
    },
    {
     "data": {
      "text/plain": [
       "30450837"
      ]
     },
     "execution_count": 11,
     "metadata": {},
     "output_type": "execute_result"
    }
   ],
   "source": [
    "h.count()"
   ]
  },
  {
   "cell_type": "code",
   "execution_count": 12,
   "metadata": {},
   "outputs": [
    {
     "name": "stdout",
     "output_type": "stream",
     "text": [
      "selected_keys: [], unique_count: 0\n",
      "selected_keys: ['descendant_concept_id'], unique_count: 4178\n",
      "selected_keys: ['descendant_concept_id', 'ancestor_concept_id'], unique_count: 5000\n"
     ]
    },
    {
     "data": {
      "text/plain": [
       "['descendant_concept_id', 'ancestor_concept_id']"
      ]
     },
     "execution_count": 12,
     "metadata": {},
     "output_type": "execute_result"
    }
   ],
   "source": [
    "h.smvDiscoverPK()"
   ]
  },
  {
   "cell_type": "code",
   "execution_count": 57,
   "metadata": {},
   "outputs": [],
   "source": [
    "t=fullRun(\"CONCEPT_WITH_CHILDREN\")"
   ]
  },
  {
   "cell_type": "code",
   "execution_count": 32,
   "metadata": {},
   "outputs": [
    {
     "name": "stdout",
     "output_type": "stream",
     "text": [
      "concept_id : string = 1000641\n",
      "concept_name : string = clotrimazole 10 MG/ML / dexamethasone 0.4 MG/ML Topical Cream\n",
      "domain_id : string = Drug\n",
      "vocabulary_id : string = RxNorm\n",
      "concept_class_id : string = Clinical Drug\n",
      "standard_concept : string = S\n",
      "concept_code : string = 246752\n",
      "valid_start_date : date = 1970-01-01\n",
      "valid_end_date : date = 2099-12-31\n",
      "invalid_reason : string = None\n",
      "ancestor_concept_id : string = 1000641\n",
      "max_levels : int = 0\n"
     ]
    }
   ],
   "source": [
    "t.peek()"
   ]
  },
  {
   "cell_type": "code",
   "execution_count": 33,
   "metadata": {},
   "outputs": [
    {
     "name": "stdout",
     "output_type": "stream",
     "text": [
      "+----------+-------+\n",
      "|max_levels|  count|\n",
      "+----------+-------+\n",
      "|         0|1513575|\n",
      "|         1| 836059|\n",
      "|         2| 491710|\n",
      "|         3| 174504|\n",
      "|         4|  17858|\n",
      "|         5|   5707|\n",
      "|         6|   1967|\n",
      "|         7|   1168|\n",
      "|         8|   1027|\n",
      "|        10|    733|\n",
      "|         9|    488|\n",
      "|        11|    212|\n",
      "|        12|    131|\n",
      "|        13|     91|\n",
      "|        14|     77|\n",
      "|        15|     52|\n",
      "|        16|     35|\n",
      "|        18|     21|\n",
      "|        17|     19|\n",
      "|        20|     13|\n",
      "+----------+-------+\n",
      "only showing top 20 rows\n",
      "\n"
     ]
    }
   ],
   "source": [
    "t.select(F.col(\"max_levels\").cast(\"string\")).smvHist(\"max_levels\")"
   ]
  },
  {
   "cell_type": "code",
   "execution_count": 34,
   "metadata": {},
   "outputs": [
    {
     "name": "stdout",
     "output_type": "stream",
     "text": [
      "+------------------+-------+\n",
      "|         domain_id|  count|\n",
      "+------------------+-------+\n",
      "|              Drug|2058180|\n",
      "|         Procedure| 247057|\n",
      "|       Measurement| 228864|\n",
      "|         Geography| 203563|\n",
      "|       Observation| 115959|\n",
      "|         Condition|  98721|\n",
      "|Spec Anatomic Site|  36836|\n",
      "|            Device|  31718|\n",
      "|              NULL|  14190|\n",
      "|        Meas Value|   4067|\n",
      "|          Specimen|   1870|\n",
      "|          Metadata|   1061|\n",
      "|              Unit|   1038|\n",
      "|          Language|    836|\n",
      "|      Revenue Code|    545|\n",
      "|      Relationship|    209|\n",
      "|             Route|    165|\n",
      "|             Payer|    162|\n",
      "|             Visit|    101|\n",
      "|          Provider|     87|\n",
      "+------------------+-------+\n",
      "only showing top 20 rows\n",
      "\n"
     ]
    }
   ],
   "source": [
    "t.smvHist('domain_id')"
   ]
  },
  {
   "cell_type": "code",
   "execution_count": 36,
   "metadata": {},
   "outputs": [
    {
     "name": "stdout",
     "output_type": "stream",
     "text": [
      "+------------------+-----+\n",
      "|         domain_id|count|\n",
      "+------------------+-----+\n",
      "|         Condition| 3326|\n",
      "|              Drug| 2342|\n",
      "|Spec Anatomic Site| 1957|\n",
      "|         Procedure| 1824|\n",
      "|       Observation| 1049|\n",
      "|          Metadata|  863|\n",
      "|         Geography|  113|\n",
      "|       Measurement|  109|\n",
      "|            Device|   93|\n",
      "|          Specimen|   67|\n",
      "|              NULL|   21|\n",
      "|        Meas Value|   10|\n",
      "|      Relationship|    2|\n",
      "|          Language|    2|\n",
      "|             Route|    1|\n",
      "+------------------+-----+\n",
      "\n"
     ]
    }
   ],
   "source": [
    "t.where(F.col(\"max_levels\") >= 5).smvHist(\"domain_id\")"
   ]
  },
  {
   "cell_type": "code",
   "execution_count": 51,
   "metadata": {},
   "outputs": [
    {
     "name": "stderr",
     "output_type": "stream",
     "text": [
      "02/02/2025 01:27:32 INFO smv: STARTING RUN & PERSIST OUTPUT on omop.links.CONCEPT_WITH_CHILDREN\n",
      "02/02/2025 01:27:59 INFO smv: COMPLETED RUN & PERSIST OUTPUT: omop.links.CONCEPT_WITH_CHILDREN\n",
      "02/02/2025 01:27:59 INFO smv: RunTime: 0:00:26.705802\n",
      "02/02/2025 01:27:59 INFO smv: STARTING GENERATE USER METADATA on omop.links.CONCEPT_WITH_CHILDREN\n",
      "02/02/2025 01:27:59 INFO smv: COMPLETED GENERATE USER METADATA: omop.links.CONCEPT_WITH_CHILDREN\n",
      "02/02/2025 01:27:59 INFO smv: RunTime: 0:00:00.000002\n",
      "02/02/2025 01:27:59 INFO smv: STARTING RUN & PERSIST OUTPUT on omop.links.STUDY_DOMAIN_DEEPTH\n",
      "02/02/2025 01:27:59 INFO smv: COMPLETED RUN & PERSIST OUTPUT: omop.links.STUDY_DOMAIN_DEEPTH\n",
      "02/02/2025 01:27:59 INFO smv: RunTime: 0:00:00.350916\n",
      "02/02/2025 01:27:59 INFO smv: STARTING GENERATE USER METADATA on omop.links.STUDY_DOMAIN_DEEPTH\n",
      "02/02/2025 01:27:59 INFO smv: COMPLETED GENERATE USER METADATA: omop.links.STUDY_DOMAIN_DEEPTH\n",
      "02/02/2025 01:27:59 INFO smv: RunTime: 0:00:00.000003\n"
     ]
    }
   ],
   "source": [
    "std1=fullRun(\"STUDY_DOMAIN_DEEPTH\")"
   ]
  },
  {
   "cell_type": "code",
   "execution_count": 52,
   "metadata": {},
   "outputs": [
    {
     "data": {
      "text/plain": [
       "214"
      ]
     },
     "execution_count": 52,
     "metadata": {},
     "output_type": "execute_result"
    }
   ],
   "source": [
    "std1.count()"
   ]
  },
  {
   "cell_type": "code",
   "execution_count": 53,
   "metadata": {},
   "outputs": [
    {
     "name": "stdout",
     "output_type": "stream",
     "text": [
      "+-------------------+----------+-------+\n",
      "|          domain_id|max_levels|  count|\n",
      "+-------------------+----------+-------+\n",
      "|          Condition|         0| 145217|\n",
      "|          Condition|         1|  20803|\n",
      "|          Condition|         2|   9589|\n",
      "|          Condition|         3|   4574|\n",
      "|          Condition|         4|   2426|\n",
      "|          Condition|         5|   1329|\n",
      "|          Condition|         6|    783|\n",
      "|          Condition|         7|    459|\n",
      "|          Condition|         8|    312|\n",
      "|          Condition|         9|    181|\n",
      "|          Condition|        10|    117|\n",
      "|          Condition|        11|     53|\n",
      "|          Condition|        12|     35|\n",
      "|          Condition|        13|     23|\n",
      "|          Condition|        14|     16|\n",
      "|          Condition|        15|     11|\n",
      "|          Condition|        16|      4|\n",
      "|          Condition|        17|      2|\n",
      "|          Condition|        18|      1|\n",
      "|   Condition Status|         0|     15|\n",
      "|   Condition Status|         1|      6|\n",
      "|   Condition Status|         2|      1|\n",
      "|               Cost|         0|     51|\n",
      "|             Device|         0| 232818|\n",
      "|             Device|         1|   1724|\n",
      "|             Device|         2|    575|\n",
      "|             Device|         3|    243|\n",
      "|             Device|         4|    103|\n",
      "|             Device|         5|     52|\n",
      "|             Device|         6|     21|\n",
      "|             Device|         7|     10|\n",
      "|             Device|         8|      5|\n",
      "|             Device|         9|      2|\n",
      "|             Device|        10|      1|\n",
      "|             Device|        11|      1|\n",
      "|             Device|        12|      1|\n",
      "|               Drug|         0|2765663|\n",
      "|               Drug|         1| 622362|\n",
      "|               Drug|         2| 371280|\n",
      "|               Drug|         3| 149032|\n",
      "|               Drug|         4|  10962|\n",
      "|               Drug|         5|   2327|\n",
      "|               Drug|         6|     15|\n",
      "|            Episode|         0|     18|\n",
      "|             Gender|         0|     15|\n",
      "|          Geography|         0| 185000|\n",
      "|          Geography|         1|  15642|\n",
      "|          Geography|         2|   2415|\n",
      "|          Geography|         3|    671|\n",
      "|          Geography|         4|    196|\n",
      "|          Geography|         5|     76|\n",
      "|          Geography|         6|     26|\n",
      "|          Geography|         7|      8|\n",
      "|          Geography|         8|      2|\n",
      "|          Geography|         9|      1|\n",
      "|           Language|         0|    732|\n",
      "|           Language|         1|     99|\n",
      "|           Language|         2|     27|\n",
      "|           Language|         3|     11|\n",
      "|           Language|         4|      4|\n",
      "|           Language|         5|      1|\n",
      "|           Language|         6|      1|\n",
      "|         Meas Value|         0|   4609|\n",
      "|         Meas Value|         1|    355|\n",
      "|         Meas Value|         2|     83|\n",
      "|         Meas Value|         3|     32|\n",
      "|         Meas Value|         4|     17|\n",
      "|         Meas Value|         5|      4|\n",
      "|         Meas Value|         6|      2|\n",
      "|         Meas Value|         7|      2|\n",
      "|         Meas Value|         8|      1|\n",
      "|         Meas Value|         9|      1|\n",
      "|Meas Value Operator|         0|      6|\n",
      "|Meas Value Operator|         1|      1|\n",
      "|        Measurement|         0| 202019|\n",
      "|        Measurement|         1|  66719|\n",
      "|        Measurement|         2|  59165|\n",
      "|        Measurement|         3|   1777|\n",
      "|        Measurement|         4|    115|\n",
      "|        Measurement|         5|     54|\n",
      "|        Measurement|         6|     28|\n",
      "|        Measurement|         7|     13|\n",
      "|        Measurement|         8|      7|\n",
      "|        Measurement|         9|      3|\n",
      "|        Measurement|        10|      3|\n",
      "|        Measurement|        11|      1|\n",
      "|           Metadata|         0|   3719|\n",
      "|           Metadata|         1|    103|\n",
      "|           Metadata|         2|     69|\n",
      "|           Metadata|         3|      1|\n",
      "|           Metadata|         4|     22|\n",
      "|           Metadata|         5|      6|\n",
      "|           Metadata|         6|     59|\n",
      "|           Metadata|         7|     35|\n",
      "|           Metadata|         8|    273|\n",
      "|           Metadata|         9|     18|\n",
      "|           Metadata|        10|    432|\n",
      "|           Metadata|        11|     40|\n",
      "|        Observation|         0| 259133|\n",
      "|        Observation|         1|  16532|\n",
      "|        Observation|         2|   4903|\n",
      "|        Observation|         3|   1861|\n",
      "|        Observation|         4|    869|\n",
      "|        Observation|         5|    442|\n",
      "|        Observation|         6|    237|\n",
      "|        Observation|         7|    138|\n",
      "|        Observation|         8|     90|\n",
      "|        Observation|         9|     52|\n",
      "|        Observation|        10|     28|\n",
      "|        Observation|        11|     19|\n",
      "|        Observation|        12|     11|\n",
      "|        Observation|        13|     12|\n",
      "|        Observation|        14|      9|\n",
      "|        Observation|        15|      4|\n",
      "|        Observation|        16|      4|\n",
      "|        Observation|        17|      1|\n",
      "|        Observation|        18|      1|\n",
      "|        Observation|        19|      1|\n",
      "|              Payer|         0|    130|\n",
      "|              Payer|         1|     25|\n",
      "|              Payer|         2|     10|\n",
      "|              Payer|         3|      2|\n",
      "|              Payer|         4|      1|\n",
      "|               Plan|         0|     11|\n",
      "|   Plan Stop Reason|         0|     13|\n",
      "|          Procedure|         0| 150200|\n",
      "|          Procedure|         1|  78240|\n",
      "|          Procedure|         2|  39253|\n",
      "|          Procedure|         3|  14370|\n",
      "|          Procedure|         4|   2094|\n",
      "|          Procedure|         5|    786|\n",
      "|          Procedure|         6|    391|\n",
      "|          Procedure|         7|    247|\n",
      "|          Procedure|         8|    156|\n",
      "|          Procedure|         9|     99|\n",
      "|          Procedure|        10|     58|\n",
      "|          Procedure|        11|     34|\n",
      "|          Procedure|        12|     26|\n",
      "|          Procedure|        13|     10|\n",
      "|          Procedure|        14|      7|\n",
      "|          Procedure|        15|      6|\n",
      "|          Procedure|        16|      2|\n",
      "|          Procedure|        17|      1|\n",
      "|          Procedure|        18|      1|\n",
      "|           Provider|         0|    778|\n",
      "|           Provider|         1|     14|\n",
      "|           Provider|         3|      1|\n",
      "|               Race|         0|    566|\n",
      "|               Race|         1|      5|\n",
      "|       Relationship|         0|    344|\n",
      "|       Relationship|         1|     55|\n",
      "|       Relationship|         2|     12|\n",
      "|       Relationship|         3|      4|\n",
      "|       Relationship|         4|      2|\n",
      "|       Relationship|         5|      2|\n",
      "|       Revenue Code|         0|    545|\n",
      "|              Route|         0|    171|\n",
      "|              Route|         1|     31|\n",
      "|              Route|         2|      9|\n",
      "|              Route|         3|      3|\n",
      "|              Route|         4|      2|\n",
      "|              Route|         5|      1|\n",
      "| Spec Anatomic Site|         0|  22014|\n",
      "| Spec Anatomic Site|         1|  10574|\n",
      "| Spec Anatomic Site|         2|   3529|\n",
      "| Spec Anatomic Site|         3|   1712|\n",
      "| Spec Anatomic Site|         4|    959|\n",
      "| Spec Anatomic Site|         5|    581|\n",
      "| Spec Anatomic Site|         6|    381|\n",
      "| Spec Anatomic Site|         7|    247|\n",
      "| Spec Anatomic Site|         8|    177|\n",
      "| Spec Anatomic Site|         9|    128|\n",
      "| Spec Anatomic Site|        10|     93|\n",
      "| Spec Anatomic Site|        11|     63|\n",
      "| Spec Anatomic Site|        12|     57|\n",
      "| Spec Anatomic Site|        13|     46|\n",
      "| Spec Anatomic Site|        14|     45|\n",
      "| Spec Anatomic Site|        15|     31|\n",
      "| Spec Anatomic Site|        16|     25|\n",
      "| Spec Anatomic Site|        17|     15|\n",
      "| Spec Anatomic Site|        18|     18|\n",
      "| Spec Anatomic Site|        19|     12|\n",
      "| Spec Anatomic Site|        20|     13|\n",
      "| Spec Anatomic Site|        21|     11|\n",
      "| Spec Anatomic Site|        22|      5|\n",
      "| Spec Anatomic Site|        23|      3|\n",
      "| Spec Anatomic Site|        24|      1|\n",
      "| Spec Anatomic Site|        25|      1|\n",
      "| Spec Anatomic Site|        26|      1|\n",
      "| Spec Anatomic Site|        27|      1|\n",
      "| Spec Anatomic Site|        28|      1|\n",
      "| Spec Anatomic Site|        29|      1|\n",
      "|           Specimen|         0|   1339|\n",
      "|           Specimen|         1|    369|\n",
      "|           Specimen|         2|    162|\n",
      "|           Specimen|         3|     81|\n",
      "|           Specimen|         4|     45|\n",
      "|           Specimen|         5|     33|\n",
      "|           Specimen|         6|     17|\n",
      "|           Specimen|         7|      8|\n",
      "|           Specimen|         8|      3|\n",
      "|           Specimen|         9|      3|\n",
      "|           Specimen|        10|      1|\n",
      "|           Specimen|        11|      1|\n",
      "|           Specimen|        12|      1|\n",
      "|            Sponsor|         0|      6|\n",
      "|       Type Concept|         0|   3751|\n",
      "|       Type Concept|         1|     10|\n",
      "|       Type Concept|         2|      2|\n",
      "|               Unit|         0|   2489|\n",
      "|              Visit|         0|    518|\n",
      "|              Visit|         1|     11|\n",
      "|              Visit|         2|      4|\n",
      "|              Visit|         3|      1|\n",
      "+-------------------+----------+-------+\n",
      "\n"
     ]
    }
   ],
   "source": [
    "std1.orderBy(\"domain_id\", \"max_levels\").show(300)"
   ]
  },
  {
   "cell_type": "code",
   "execution_count": 54,
   "metadata": {},
   "outputs": [
    {
     "name": "stderr",
     "output_type": "stream",
     "text": [
      "02/02/2025 01:28:30 INFO smv: STARTING RUN & PERSIST OUTPUT on omop.links.STUDY_VOCABULARY_DEEPTH\n",
      "02/02/2025 01:28:30 INFO smv: COMPLETED RUN & PERSIST OUTPUT: omop.links.STUDY_VOCABULARY_DEEPTH\n",
      "02/02/2025 01:28:30 INFO smv: RunTime: 0:00:00.360974\n",
      "02/02/2025 01:28:31 INFO smv: STARTING GENERATE USER METADATA on omop.links.STUDY_VOCABULARY_DEEPTH\n",
      "02/02/2025 01:28:31 INFO smv: COMPLETED GENERATE USER METADATA: omop.links.STUDY_VOCABULARY_DEEPTH\n",
      "02/02/2025 01:28:31 INFO smv: RunTime: 0:00:00.000004\n"
     ]
    }
   ],
   "source": [
    "std2=fullRun(\"STUDY_VOCABULARY_DEEPTH\")"
   ]
  },
  {
   "cell_type": "code",
   "execution_count": 55,
   "metadata": {},
   "outputs": [
    {
     "data": {
      "text/plain": [
       "146"
      ]
     },
     "execution_count": 55,
     "metadata": {},
     "output_type": "execute_result"
    }
   ],
   "source": [
    "std2.count()"
   ]
  },
  {
   "cell_type": "code",
   "execution_count": 56,
   "metadata": {},
   "outputs": [
    {
     "name": "stdout",
     "output_type": "stream",
     "text": [
      "+--------------------+----------+-------+\n",
      "|       vocabulary_id|max_levels|  count|\n",
      "+--------------------+----------+-------+\n",
      "|                 APC|         0|   1910|\n",
      "|                 CDM|         0|      2|\n",
      "|                 CDM|         1|    103|\n",
      "|                 CDM|         2|     69|\n",
      "|                 CDM|         3|      1|\n",
      "|                 CDM|         4|     22|\n",
      "|                 CDM|         5|      6|\n",
      "|                 CDM|         6|     59|\n",
      "|                 CDM|         7|     35|\n",
      "|                 CDM|         8|    273|\n",
      "|                 CDM|         9|     18|\n",
      "|                 CDM|        10|    432|\n",
      "|                 CDM|        11|     40|\n",
      "|CMS Place of Service|         0|     61|\n",
      "|CMS Place of Service|         1|      1|\n",
      "|CMS Place of Service|         2|      1|\n",
      "|       Concept Class|         0|    423|\n",
      "|    Condition Status|         0|     15|\n",
      "|    Condition Status|         1|      6|\n",
      "|    Condition Status|         2|      1|\n",
      "|      Condition Type|         0|    118|\n",
      "|                Cost|         0|     51|\n",
      "|           Cost Type|         0|      8|\n",
      "|                 DRG|         0|   1362|\n",
      "|          Death Type|         0|     14|\n",
      "|         Device Type|         0|      4|\n",
      "|              Domain|         0|     65|\n",
      "|           Drug Type|         0|     16|\n",
      "|             Episode|         0|     18|\n",
      "|              Gender|         0|      5|\n",
      "|               HCPCS|         0|  12079|\n",
      "|               ICD10|         0|  16638|\n",
      "|            ICD10PCS|         0|  81836|\n",
      "|            ICD10PCS|         1|  66856|\n",
      "|            ICD10PCS|         2|  34496|\n",
      "|            ICD10PCS|         3|  11995|\n",
      "|            ICD10PCS|         4|    909|\n",
      "|            ICD10PCS|         5|    115|\n",
      "|            ICD10PCS|         6|     17|\n",
      "|              ICD9CM|         0|  17564|\n",
      "|            ICD9Proc|         0|   4244|\n",
      "|            ICD9Proc|         1|    359|\n",
      "|            ICD9Proc|         2|     51|\n",
      "|            ICD9Proc|         5|      1|\n",
      "|            ICD9Proc|         7|      1|\n",
      "|            ICD9Proc|         8|      1|\n",
      "| Korean Revenue Code|         0|      7|\n",
      "|            Language|         0|      1|\n",
      "|                 MDC|         1|     26|\n",
      "|           Meas Type|         0|     12|\n",
      "|  Medicare Specialty|         0|    102|\n",
      "|  Medicare Specialty|         1|     17|\n",
      "|  Medicare Specialty|         3|      1|\n",
      "|            Metadata|         0|      2|\n",
      "|                 NDC|         0|1220572|\n",
      "|                None|         0|      1|\n",
      "|           Note Type|         0|     10|\n",
      "|        OMOP Genomic|         0| 166640|\n",
      "|        OMOP Genomic|         1|  63537|\n",
      "|        OMOP Genomic|         2|  58248|\n",
      "|        OMOP Genomic|         3|   1464|\n",
      "|                 OSM|         0| 184339|\n",
      "|                 OSM|         1|  15621|\n",
      "|                 OSM|         2|   2412|\n",
      "|                 OSM|         3|    671|\n",
      "|                 OSM|         4|    191|\n",
      "|                 OSM|         5|     72|\n",
      "|                 OSM|         6|     22|\n",
      "|                 OSM|         7|      8|\n",
      "|                 OSM|         8|      2|\n",
      "|                 OSM|         9|      1|\n",
      "|     Obs Period Type|         0|      6|\n",
      "|    Observation Type|         0|     29|\n",
      "|                Plan|         0|     11|\n",
      "|    Plan Stop Reason|         0|     13|\n",
      "|      Procedure Type|         0|     97|\n",
      "|                Race|         0|     48|\n",
      "|                Race|         1|      5|\n",
      "|        Relationship|         0|    718|\n",
      "|        Revenue Code|         0|    538|\n",
      "|              RxNorm|         0| 174234|\n",
      "|              RxNorm|         1|  52922|\n",
      "|              RxNorm|         2|  44598|\n",
      "|              RxNorm|         3|  25250|\n",
      "|              RxNorm|         4|  10332|\n",
      "|              RxNorm|         5|   2319|\n",
      "|              RxNorm|         6|     15|\n",
      "|    RxNorm Extension|         0|1126403|\n",
      "|    RxNorm Extension|         1| 569440|\n",
      "|    RxNorm Extension|         2| 326682|\n",
      "|    RxNorm Extension|         3| 123782|\n",
      "|    RxNorm Extension|         4|    630|\n",
      "|    RxNorm Extension|         5|      8|\n",
      "|              SNOMED|         0| 969785|\n",
      "|              SNOMED|         1|  64745|\n",
      "|              SNOMED|         2|  24515|\n",
      "|              SNOMED|         3|  11209|\n",
      "|              SNOMED|         4|   5727|\n",
      "|              SNOMED|         5|   3169|\n",
      "|              SNOMED|         6|   1844|\n",
      "|              SNOMED|         7|   1123|\n",
      "|              SNOMED|         8|    750|\n",
      "|              SNOMED|         9|    469|\n",
      "|              SNOMED|        10|    301|\n",
      "|              SNOMED|        11|    172|\n",
      "|              SNOMED|        12|    131|\n",
      "|              SNOMED|        13|     91|\n",
      "|              SNOMED|        14|     77|\n",
      "|              SNOMED|        15|     52|\n",
      "|              SNOMED|        16|     35|\n",
      "|              SNOMED|        17|     19|\n",
      "|              SNOMED|        18|     21|\n",
      "|              SNOMED|        19|     13|\n",
      "|              SNOMED|        20|     13|\n",
      "|              SNOMED|        21|     11|\n",
      "|              SNOMED|        22|      5|\n",
      "|              SNOMED|        23|      3|\n",
      "|              SNOMED|        24|      1|\n",
      "|              SNOMED|        25|      1|\n",
      "|              SNOMED|        26|      1|\n",
      "|              SNOMED|        27|      1|\n",
      "|              SNOMED|        28|      1|\n",
      "|              SNOMED|        29|      1|\n",
      "|                SOPT|         0|    130|\n",
      "|                SOPT|         1|     25|\n",
      "|                SOPT|         2|     10|\n",
      "|                SOPT|         3|      2|\n",
      "|                SOPT|         4|      1|\n",
      "|             Sponsor|         0|      6|\n",
      "|        Type Concept|         0|     68|\n",
      "|        Type Concept|         1|     10|\n",
      "|        Type Concept|         2|      2|\n",
      "|UB04 Point of Origin|         0|     23|\n",
      "| UB04 Pri Typ of Adm|         0|      6|\n",
      "|  UB04 Pt dis status|         0|     55|\n",
      "|       UB04 Typ bill|         0|    298|\n",
      "|                UCUM|         0|   1127|\n",
      "|           US Census|         4|      5|\n",
      "|           US Census|         5|      4|\n",
      "|           US Census|         6|      4|\n",
      "|               Visit|         0|      9|\n",
      "|               Visit|         1|      7|\n",
      "|               Visit|         2|      3|\n",
      "|               Visit|         3|      1|\n",
      "|          Visit Type|         0|     18|\n",
      "|          Vocabulary|         0|    149|\n",
      "+--------------------+----------+-------+\n",
      "\n"
     ]
    }
   ],
   "source": [
    "std2.orderBy(\"vocabulary_id\", \"max_levels\").show(200)"
   ]
  },
  {
   "cell_type": "code",
   "execution_count": 45,
   "metadata": {},
   "outputs": [],
   "source": [
    "c=df(\"CONCEPT\")"
   ]
  },
  {
   "cell_type": "code",
   "execution_count": 46,
   "metadata": {},
   "outputs": [
    {
     "name": "stderr",
     "output_type": "stream",
     "text": [
      "[Stage 90:================================================>         (5 + 1) / 6]"
     ]
    },
    {
     "name": "stdout",
     "output_type": "stream",
     "text": [
      "+----------------+-------+\n",
      "|   vocabulary_id|  count|\n",
      "+----------------+-------+\n",
      "|RxNorm Extension|2146945|\n",
      "|             NDC|1220572|\n",
      "|          SNOMED|1084286|\n",
      "|          RxNorm| 309670|\n",
      "|    OMOP Genomic| 289889|\n",
      "|             OSM| 203339|\n",
      "|        ICD10PCS| 196224|\n",
      "|          ICD9CM|  17564|\n",
      "|           ICD10|  16638|\n",
      "|           HCPCS|  12079|\n",
      "|        ICD9Proc|   4657|\n",
      "|             APC|   1910|\n",
      "|             DRG|   1362|\n",
      "|            UCUM|   1127|\n",
      "|             CDM|   1060|\n",
      "|    Relationship|    718|\n",
      "|    Revenue Code|    538|\n",
      "|   Concept Class|    423|\n",
      "|   UB04 Typ bill|    298|\n",
      "|            SOPT|    168|\n",
      "+----------------+-------+\n",
      "only showing top 20 rows\n",
      "\n"
     ]
    },
    {
     "name": "stderr",
     "output_type": "stream",
     "text": [
      "                                                                                "
     ]
    }
   ],
   "source": [
    "c.smvHist(\"vocabulary_id\")"
   ]
  },
  {
   "cell_type": "code",
   "execution_count": 47,
   "metadata": {},
   "outputs": [
    {
     "name": "stderr",
     "output_type": "stream",
     "text": [
      "                                                                                "
     ]
    },
    {
     "data": {
      "text/plain": [
       "5510609"
      ]
     },
     "execution_count": 47,
     "metadata": {},
     "output_type": "execute_result"
    }
   ],
   "source": [
    "c.count()"
   ]
  },
  {
   "cell_type": "code",
   "execution_count": 58,
   "metadata": {},
   "outputs": [
    {
     "data": {
      "text/plain": [
       "5510609"
      ]
     },
     "execution_count": 58,
     "metadata": {},
     "output_type": "execute_result"
    }
   ],
   "source": [
    "t.count()"
   ]
  },
  {
   "cell_type": "code",
   "execution_count": 59,
   "metadata": {},
   "outputs": [
    {
     "name": "stdout",
     "output_type": "stream",
     "text": [
      "concept_id : string = 1000599\n",
      "concept_name : string = ondansetron 2 MG/ML\n",
      "domain_id : string = Drug\n",
      "vocabulary_id : string = RxNorm\n",
      "concept_class_id : string = Clinical Drug Comp\n",
      "standard_concept : string = S\n",
      "concept_code : string = 328448\n",
      "valid_start_date : date = 1970-01-01\n",
      "valid_end_date : date = 2099-12-31\n",
      "invalid_reason : string = None\n",
      "ancestor_concept_id : string = 1000599\n",
      "max_levels : int = 3\n"
     ]
    }
   ],
   "source": [
    "t.peek()"
   ]
  },
  {
   "cell_type": "code",
   "execution_count": 50,
   "metadata": {},
   "outputs": [
    {
     "name": "stdout",
     "output_type": "stream",
     "text": [
      "concept_id : string = None\n",
      "concept_name : string = None\n",
      "domain_id : string = None\n",
      "vocabulary_id : string = None\n",
      "concept_class_id : string = None\n",
      "standard_concept : string = None\n",
      "concept_code : string = None\n",
      "valid_start_date : date = None\n",
      "valid_end_date : date = None\n",
      "invalid_reason : string = None\n",
      "ancestor_concept_id : string = 1389536\n",
      "max_levels : int = 0\n"
     ]
    }
   ],
   "source": [
    "t.where(F.col(\"vocabulary_id\").isNull()).peek()"
   ]
  },
  {
   "cell_type": "code",
   "execution_count": 60,
   "metadata": {},
   "outputs": [],
   "source": [
    "x=df(\"STUDY_DOMAIN_VOCABULARY_DEEPTH\")"
   ]
  },
  {
   "cell_type": "code",
   "execution_count": 61,
   "metadata": {},
   "outputs": [
    {
     "data": {
      "text/plain": [
       "303"
      ]
     },
     "execution_count": 61,
     "metadata": {},
     "output_type": "execute_result"
    }
   ],
   "source": [
    "x.count()"
   ]
  },
  {
   "cell_type": "code",
   "execution_count": 62,
   "metadata": {},
   "outputs": [
    {
     "name": "stdout",
     "output_type": "stream",
     "text": [
      "domain_id : string = Procedure\n",
      "vocabulary_id : string = SNOMED\n",
      "max_levels : int = 6\n",
      "count : bigint = 374\n"
     ]
    }
   ],
   "source": [
    "x.peek()"
   ]
  },
  {
   "cell_type": "code",
   "execution_count": 63,
   "metadata": {},
   "outputs": [
    {
     "name": "stdout",
     "output_type": "stream",
     "text": [
      "+-------------------+--------------------+----------+-------+\n",
      "|          domain_id|       vocabulary_id|max_levels|  count|\n",
      "+-------------------+--------------------+----------+-------+\n",
      "|          Condition|               HCPCS|         0|      1|\n",
      "|          Condition|               ICD10|         0|  14113|\n",
      "|          Condition|              ICD9CM|         0|  14929|\n",
      "|          Condition|              SNOMED|         0| 116174|\n",
      "|          Condition|              SNOMED|         1|  20803|\n",
      "|          Condition|              SNOMED|         2|   9589|\n",
      "|          Condition|              SNOMED|         3|   4574|\n",
      "|          Condition|              SNOMED|         4|   2426|\n",
      "|          Condition|              SNOMED|         5|   1329|\n",
      "|          Condition|              SNOMED|         6|    783|\n",
      "|          Condition|              SNOMED|         7|    459|\n",
      "|          Condition|              SNOMED|         8|    312|\n",
      "|          Condition|              SNOMED|         9|    181|\n",
      "|          Condition|              SNOMED|        10|    117|\n",
      "|          Condition|              SNOMED|        11|     53|\n",
      "|          Condition|              SNOMED|        12|     35|\n",
      "|          Condition|              SNOMED|        13|     23|\n",
      "|          Condition|              SNOMED|        14|     16|\n",
      "|          Condition|              SNOMED|        15|     11|\n",
      "|          Condition|              SNOMED|        16|      4|\n",
      "|          Condition|              SNOMED|        17|      2|\n",
      "|          Condition|              SNOMED|        18|      1|\n",
      "|   Condition Status|    Condition Status|         0|     15|\n",
      "|   Condition Status|    Condition Status|         1|      6|\n",
      "|   Condition Status|    Condition Status|         2|      1|\n",
      "|               Cost|                Cost|         0|     51|\n",
      "|             Device|               HCPCS|         0|   5272|\n",
      "|             Device|            ICD10PCS|         0|      2|\n",
      "|             Device|            ICD10PCS|         4|      1|\n",
      "|             Device|                 NDC|         0|  12229|\n",
      "|             Device|              SNOMED|         0| 215315|\n",
      "|             Device|              SNOMED|         1|   1724|\n",
      "|             Device|              SNOMED|         2|    575|\n",
      "|             Device|              SNOMED|         3|    243|\n",
      "|             Device|              SNOMED|         4|    102|\n",
      "|             Device|              SNOMED|         5|     52|\n",
      "|             Device|              SNOMED|         6|     21|\n",
      "|             Device|              SNOMED|         7|     10|\n",
      "|             Device|              SNOMED|         8|      5|\n",
      "|             Device|              SNOMED|         9|      2|\n",
      "|             Device|              SNOMED|        10|      1|\n",
      "|             Device|              SNOMED|        11|      1|\n",
      "|             Device|              SNOMED|        12|      1|\n",
      "|               Drug|               HCPCS|         0|   1971|\n",
      "|               Drug|            ICD10PCS|         0|    173|\n",
      "|               Drug|                 NDC|         0|1208343|\n",
      "|               Drug|              RxNorm|         0| 174234|\n",
      "|               Drug|              RxNorm|         1|  52922|\n",
      "|               Drug|              RxNorm|         2|  44598|\n",
      "|               Drug|              RxNorm|         3|  25250|\n",
      "|               Drug|              RxNorm|         4|  10332|\n",
      "|               Drug|              RxNorm|         5|   2319|\n",
      "|               Drug|              RxNorm|         6|     15|\n",
      "|               Drug|    RxNorm Extension|         0|1126403|\n",
      "|               Drug|    RxNorm Extension|         1| 569440|\n",
      "|               Drug|    RxNorm Extension|         2| 326682|\n",
      "|               Drug|    RxNorm Extension|         3| 123782|\n",
      "|               Drug|    RxNorm Extension|         4|    630|\n",
      "|               Drug|    RxNorm Extension|         5|      8|\n",
      "|               Drug|              SNOMED|         0| 254539|\n",
      "|            Episode|             Episode|         0|     18|\n",
      "|             Gender|              Gender|         0|      5|\n",
      "|             Gender|              SNOMED|         0|     10|\n",
      "|          Geography|                 OSM|         0| 184339|\n",
      "|          Geography|                 OSM|         1|  15621|\n",
      "|          Geography|                 OSM|         2|   2412|\n",
      "|          Geography|                 OSM|         3|    671|\n",
      "|          Geography|                 OSM|         4|    191|\n",
      "|          Geography|                 OSM|         5|     72|\n",
      "|          Geography|                 OSM|         6|     22|\n",
      "|          Geography|                 OSM|         7|      8|\n",
      "|          Geography|                 OSM|         8|      2|\n",
      "|          Geography|                 OSM|         9|      1|\n",
      "|          Geography|              SNOMED|         0|    661|\n",
      "|          Geography|              SNOMED|         1|     21|\n",
      "|          Geography|              SNOMED|         2|      3|\n",
      "|          Geography|           US Census|         4|      5|\n",
      "|          Geography|           US Census|         5|      4|\n",
      "|          Geography|           US Census|         6|      4|\n",
      "|           Language|            Language|         0|      1|\n",
      "|           Language|              SNOMED|         0|    731|\n",
      "|           Language|              SNOMED|         1|     99|\n",
      "|           Language|              SNOMED|         2|     27|\n",
      "|           Language|              SNOMED|         3|     11|\n",
      "|           Language|              SNOMED|         4|      4|\n",
      "|           Language|              SNOMED|         5|      1|\n",
      "|           Language|              SNOMED|         6|      1|\n",
      "|         Meas Value|              SNOMED|         0|   4609|\n",
      "|         Meas Value|              SNOMED|         1|    355|\n",
      "|         Meas Value|              SNOMED|         2|     83|\n",
      "|         Meas Value|              SNOMED|         3|     32|\n",
      "|         Meas Value|              SNOMED|         4|     17|\n",
      "|         Meas Value|              SNOMED|         5|      4|\n",
      "|         Meas Value|              SNOMED|         6|      2|\n",
      "|         Meas Value|              SNOMED|         7|      2|\n",
      "|         Meas Value|              SNOMED|         8|      1|\n",
      "|         Meas Value|              SNOMED|         9|      1|\n",
      "|Meas Value Operator|              SNOMED|         0|      6|\n",
      "|Meas Value Operator|              SNOMED|         1|      1|\n",
      "|        Measurement|               HCPCS|         0|    184|\n",
      "|        Measurement|               ICD10|         0|    114|\n",
      "|        Measurement|              ICD9CM|         0|    217|\n",
      "|        Measurement|        OMOP Genomic|         0| 166640|\n",
      "|        Measurement|        OMOP Genomic|         1|  63537|\n",
      "|        Measurement|        OMOP Genomic|         2|  58248|\n",
      "|        Measurement|        OMOP Genomic|         3|   1464|\n",
      "|        Measurement|              SNOMED|         0|  34864|\n",
      "|        Measurement|              SNOMED|         1|   3182|\n",
      "|        Measurement|              SNOMED|         2|    917|\n",
      "|        Measurement|              SNOMED|         3|    313|\n",
      "|        Measurement|              SNOMED|         4|    115|\n",
      "|        Measurement|              SNOMED|         5|     54|\n",
      "|        Measurement|              SNOMED|         6|     28|\n",
      "|        Measurement|              SNOMED|         7|     13|\n",
      "|        Measurement|              SNOMED|         8|      7|\n",
      "|        Measurement|              SNOMED|         9|      3|\n",
      "|        Measurement|              SNOMED|        10|      3|\n",
      "|        Measurement|              SNOMED|        11|      1|\n",
      "|           Metadata|                 CDM|         0|      2|\n",
      "|           Metadata|                 CDM|         1|    103|\n",
      "|           Metadata|                 CDM|         2|     69|\n",
      "|           Metadata|                 CDM|         3|      1|\n",
      "|           Metadata|                 CDM|         4|     22|\n",
      "|           Metadata|                 CDM|         5|      6|\n",
      "|           Metadata|                 CDM|         6|     59|\n",
      "|           Metadata|                 CDM|         7|     35|\n",
      "|           Metadata|                 CDM|         8|    273|\n",
      "|           Metadata|                 CDM|         9|     18|\n",
      "|           Metadata|                 CDM|        10|    432|\n",
      "|           Metadata|                 CDM|        11|     40|\n",
      "|           Metadata|       Concept Class|         0|    423|\n",
      "|           Metadata|              Domain|         0|     65|\n",
      "|           Metadata|            Metadata|         0|      2|\n",
      "|           Metadata|                None|         0|      1|\n",
      "|           Metadata|        Relationship|         0|    704|\n",
      "|           Metadata|              SNOMED|         0|   2373|\n",
      "|           Metadata|          Vocabulary|         0|    149|\n",
      "|        Observation|                 APC|         0|   1910|\n",
      "|        Observation|                 DRG|         0|   1362|\n",
      "|        Observation|               HCPCS|         0|   3309|\n",
      "|        Observation|               ICD10|         0|   2233|\n",
      "|        Observation|              ICD9CM|         0|   2204|\n",
      "|        Observation|                 MDC|         1|     26|\n",
      "|        Observation|              SNOMED|         0| 248090|\n",
      "|        Observation|              SNOMED|         1|  16506|\n",
      "|        Observation|              SNOMED|         2|   4903|\n",
      "|        Observation|              SNOMED|         3|   1861|\n",
      "|        Observation|              SNOMED|         4|    869|\n",
      "|        Observation|              SNOMED|         5|    442|\n",
      "|        Observation|              SNOMED|         6|    237|\n",
      "|        Observation|              SNOMED|         7|    138|\n",
      "|        Observation|              SNOMED|         8|     90|\n",
      "|        Observation|              SNOMED|         9|     52|\n",
      "|        Observation|              SNOMED|        10|     28|\n",
      "|        Observation|              SNOMED|        11|     19|\n",
      "|        Observation|              SNOMED|        12|     11|\n",
      "|        Observation|              SNOMED|        13|     12|\n",
      "|        Observation|              SNOMED|        14|      9|\n",
      "|        Observation|              SNOMED|        15|      4|\n",
      "|        Observation|              SNOMED|        16|      4|\n",
      "|        Observation|              SNOMED|        17|      1|\n",
      "|        Observation|              SNOMED|        18|      1|\n",
      "|        Observation|              SNOMED|        19|      1|\n",
      "|        Observation| UB04 Pri Typ of Adm|         0|      6|\n",
      "|        Observation|       UB04 Typ bill|         0|     19|\n",
      "|              Payer|                SOPT|         0|    130|\n",
      "|              Payer|                SOPT|         1|     25|\n",
      "|              Payer|                SOPT|         2|     10|\n",
      "|              Payer|                SOPT|         3|      2|\n",
      "|              Payer|                SOPT|         4|      1|\n",
      "|               Plan|                Plan|         0|     11|\n",
      "|   Plan Stop Reason|    Plan Stop Reason|         0|     13|\n",
      "|          Procedure|               HCPCS|         0|   1342|\n",
      "|          Procedure|               ICD10|         0|    178|\n",
      "|          Procedure|            ICD10PCS|         0|  81661|\n",
      "|          Procedure|            ICD10PCS|         1|  66856|\n",
      "|          Procedure|            ICD10PCS|         2|  34496|\n",
      "|          Procedure|            ICD10PCS|         3|  11995|\n",
      "|          Procedure|            ICD10PCS|         4|    908|\n",
      "|          Procedure|            ICD10PCS|         5|    115|\n",
      "|          Procedure|            ICD10PCS|         6|     17|\n",
      "|          Procedure|              ICD9CM|         0|    214|\n",
      "|          Procedure|            ICD9Proc|         0|   4244|\n",
      "|          Procedure|            ICD9Proc|         1|    359|\n",
      "|          Procedure|            ICD9Proc|         2|     51|\n",
      "|          Procedure|            ICD9Proc|         5|      1|\n",
      "|          Procedure|            ICD9Proc|         7|      1|\n",
      "|          Procedure|            ICD9Proc|         8|      1|\n",
      "|          Procedure|              SNOMED|         0|  62561|\n",
      "|          Procedure|              SNOMED|         1|  11025|\n",
      "|          Procedure|              SNOMED|         2|   4706|\n",
      "|          Procedure|              SNOMED|         3|   2375|\n",
      "|          Procedure|              SNOMED|         4|   1186|\n",
      "|          Procedure|              SNOMED|         5|    670|\n",
      "|          Procedure|              SNOMED|         6|    374|\n",
      "|          Procedure|              SNOMED|         7|    246|\n",
      "|          Procedure|              SNOMED|         8|    155|\n",
      "|          Procedure|              SNOMED|         9|     99|\n",
      "|          Procedure|              SNOMED|        10|     58|\n",
      "|          Procedure|              SNOMED|        11|     34|\n",
      "|          Procedure|              SNOMED|        12|     26|\n",
      "|          Procedure|              SNOMED|        13|     10|\n",
      "|          Procedure|              SNOMED|        14|      7|\n",
      "|          Procedure|              SNOMED|        15|      6|\n",
      "|          Procedure|              SNOMED|        16|      2|\n",
      "|          Procedure|              SNOMED|        17|      1|\n",
      "|          Procedure|              SNOMED|        18|      1|\n",
      "|           Provider|  Medicare Specialty|         0|     74|\n",
      "|           Provider|  Medicare Specialty|         1|     14|\n",
      "|           Provider|  Medicare Specialty|         3|      1|\n",
      "|           Provider|              SNOMED|         0|    704|\n",
      "|               Race|                Race|         0|     48|\n",
      "|               Race|                Race|         1|      5|\n",
      "|               Race|              SNOMED|         0|    518|\n",
      "|       Relationship|        Relationship|         0|     14|\n",
      "|       Relationship|              SNOMED|         0|    330|\n",
      "|       Relationship|              SNOMED|         1|     55|\n",
      "|       Relationship|              SNOMED|         2|     12|\n",
      "|       Relationship|              SNOMED|         3|      4|\n",
      "|       Relationship|              SNOMED|         4|      2|\n",
      "|       Relationship|              SNOMED|         5|      2|\n",
      "|       Revenue Code| Korean Revenue Code|         0|      7|\n",
      "|       Revenue Code|        Revenue Code|         0|    538|\n",
      "|              Route|              SNOMED|         0|    171|\n",
      "|              Route|              SNOMED|         1|     31|\n",
      "|              Route|              SNOMED|         2|      9|\n",
      "|              Route|              SNOMED|         3|      3|\n",
      "|              Route|              SNOMED|         4|      2|\n",
      "|              Route|              SNOMED|         5|      1|\n",
      "| Spec Anatomic Site|              SNOMED|         0|  22014|\n",
      "| Spec Anatomic Site|              SNOMED|         1|  10574|\n",
      "| Spec Anatomic Site|              SNOMED|         2|   3529|\n",
      "| Spec Anatomic Site|              SNOMED|         3|   1712|\n",
      "| Spec Anatomic Site|              SNOMED|         4|    959|\n",
      "| Spec Anatomic Site|              SNOMED|         5|    581|\n",
      "| Spec Anatomic Site|              SNOMED|         6|    381|\n",
      "| Spec Anatomic Site|              SNOMED|         7|    247|\n",
      "| Spec Anatomic Site|              SNOMED|         8|    177|\n",
      "| Spec Anatomic Site|              SNOMED|         9|    128|\n",
      "| Spec Anatomic Site|              SNOMED|        10|     93|\n",
      "| Spec Anatomic Site|              SNOMED|        11|     63|\n",
      "| Spec Anatomic Site|              SNOMED|        12|     57|\n",
      "| Spec Anatomic Site|              SNOMED|        13|     46|\n",
      "| Spec Anatomic Site|              SNOMED|        14|     45|\n",
      "| Spec Anatomic Site|              SNOMED|        15|     31|\n",
      "| Spec Anatomic Site|              SNOMED|        16|     25|\n",
      "| Spec Anatomic Site|              SNOMED|        17|     15|\n",
      "| Spec Anatomic Site|              SNOMED|        18|     18|\n",
      "| Spec Anatomic Site|              SNOMED|        19|     12|\n",
      "| Spec Anatomic Site|              SNOMED|        20|     13|\n",
      "| Spec Anatomic Site|              SNOMED|        21|     11|\n",
      "| Spec Anatomic Site|              SNOMED|        22|      5|\n",
      "| Spec Anatomic Site|              SNOMED|        23|      3|\n",
      "| Spec Anatomic Site|              SNOMED|        24|      1|\n",
      "| Spec Anatomic Site|              SNOMED|        25|      1|\n",
      "| Spec Anatomic Site|              SNOMED|        26|      1|\n",
      "| Spec Anatomic Site|              SNOMED|        27|      1|\n",
      "| Spec Anatomic Site|              SNOMED|        28|      1|\n",
      "| Spec Anatomic Site|              SNOMED|        29|      1|\n",
      "|           Specimen|              SNOMED|         0|   1339|\n",
      "|           Specimen|              SNOMED|         1|    369|\n",
      "|           Specimen|              SNOMED|         2|    162|\n",
      "|           Specimen|              SNOMED|         3|     81|\n",
      "|           Specimen|              SNOMED|         4|     45|\n",
      "|           Specimen|              SNOMED|         5|     33|\n",
      "|           Specimen|              SNOMED|         6|     17|\n",
      "|           Specimen|              SNOMED|         7|      8|\n",
      "|           Specimen|              SNOMED|         8|      3|\n",
      "|           Specimen|              SNOMED|         9|      3|\n",
      "|           Specimen|              SNOMED|        10|      1|\n",
      "|           Specimen|              SNOMED|        11|      1|\n",
      "|           Specimen|              SNOMED|        12|      1|\n",
      "|            Sponsor|             Sponsor|         0|      6|\n",
      "|       Type Concept|      Condition Type|         0|    118|\n",
      "|       Type Concept|           Cost Type|         0|      8|\n",
      "|       Type Concept|          Death Type|         0|     14|\n",
      "|       Type Concept|         Device Type|         0|      4|\n",
      "|       Type Concept|           Drug Type|         0|     16|\n",
      "|       Type Concept|           Meas Type|         0|     12|\n",
      "|       Type Concept|           Note Type|         0|     10|\n",
      "|       Type Concept|     Obs Period Type|         0|      6|\n",
      "|       Type Concept|    Observation Type|         0|     29|\n",
      "|       Type Concept|      Procedure Type|         0|     97|\n",
      "|       Type Concept|              SNOMED|         0|   3351|\n",
      "|       Type Concept|        Type Concept|         0|     68|\n",
      "|       Type Concept|        Type Concept|         1|     10|\n",
      "|       Type Concept|        Type Concept|         2|      2|\n",
      "|       Type Concept|          Visit Type|         0|     18|\n",
      "|               Unit|              SNOMED|         0|   1362|\n",
      "|               Unit|                UCUM|         0|   1127|\n",
      "|              Visit|CMS Place of Service|         0|     61|\n",
      "|              Visit|CMS Place of Service|         1|      1|\n",
      "|              Visit|CMS Place of Service|         2|      1|\n",
      "|              Visit|  Medicare Specialty|         0|     28|\n",
      "|              Visit|  Medicare Specialty|         1|      3|\n",
      "|              Visit|              SNOMED|         0|     63|\n",
      "|              Visit|UB04 Point of Origin|         0|     23|\n",
      "|              Visit|  UB04 Pt dis status|         0|     55|\n",
      "|              Visit|       UB04 Typ bill|         0|    279|\n",
      "|              Visit|               Visit|         0|      9|\n",
      "|              Visit|               Visit|         1|      7|\n",
      "|              Visit|               Visit|         2|      3|\n",
      "|              Visit|               Visit|         3|      1|\n",
      "+-------------------+--------------------+----------+-------+\n",
      "\n"
     ]
    }
   ],
   "source": [
    "x.orderBy(\"domain_id\", \"vocabulary_id\", \"max_levels\").show(400)"
   ]
  },
  {
   "cell_type": "code",
   "execution_count": null,
   "metadata": {},
   "outputs": [],
   "source": []
  }
 ],
 "metadata": {
  "kernelspec": {
   "display_name": "Python 3 (ipykernel)",
   "language": "python",
   "name": "python3"
  },
  "language_info": {
   "codemirror_mode": {
    "name": "ipython",
    "version": 3
   },
   "file_extension": ".py",
   "mimetype": "text/x-python",
   "name": "python",
   "nbconvert_exporter": "python",
   "pygments_lexer": "ipython3",
   "version": "3.11.2"
  }
 },
 "nbformat": 4,
 "nbformat_minor": 4
}

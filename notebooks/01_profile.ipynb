{
 "cells": [
  {
   "cell_type": "markdown",
   "metadata": {},
   "source": [
    "# 01 Profile on inputs"
   ]
  },
  {
   "cell_type": "code",
   "execution_count": 1,
   "metadata": {},
   "outputs": [
    {
     "name": "stdout",
     "output_type": "stream",
     "text": [
      "The history saving thread hit an unexpected error (OperationalError('attempt to write a readonly database')).History will not be written to the database.\n"
     ]
    }
   ],
   "source": [
    "from smv import SmvApp\n",
    "from smv.smvconfig import SmvConfig\n",
    "import pyspark.sql.functions as F\n",
    "import pyspark.sql.types as T\n",
    "\n",
    "sc.setLogLevel(\"ERROR\")\n",
    "smv_args = [\n",
    "    \"--smv-app-dir\",\n",
    "    \"/home/bzhang/OMOP2Graph\",\n",
    "]\n",
    "smvconf = SmvConfig(smv_args)\n",
    "app = SmvApp.createInstance(smvconf, spark)\n",
    "\n",
    "# Loading smvshell tools\n",
    "# To see help:\n",
    "#   > help(smv.smvshell)\n",
    "from smv.smvshell import *"
   ]
  },
  {
   "cell_type": "code",
   "execution_count": 2,
   "metadata": {},
   "outputs": [
    {
     "name": "stdout",
     "output_type": "stream",
     "text": [
      "\n",
      "omop:\n",
      "  (I) input.CONCEPT\n",
      "  (I) input.CONCEPT_ANCESTOR\n",
      "  (I) input.CONCEPT_CLASS\n",
      "  (I) input.CONCEPT_RELATIONSHIP\n",
      "  (I) input.CONCEPT_SYNONYM\n",
      "  (I) input.DOMAIN\n",
      "  (I) input.DRUG_STRENGTH\n",
      "  (I) input.RELATIONSHIP\n",
      "  (I) input.VOCABULARY\n",
      "\n"
     ]
    }
   ],
   "source": [
    "# List modules\n",
    "ls()"
   ]
  },
  {
   "cell_type": "code",
   "execution_count": 3,
   "metadata": {},
   "outputs": [
    {
     "name": "stderr",
     "output_type": "stream",
     "text": [
      "02/01/2025 09:30:18 INFO smv: STARTING FORCE AN ACTION FOR DQM on omop.input.CONCEPT\n",
      "02/01/2025 09:30:48 INFO smv: COMPLETED FORCE AN ACTION FOR DQM: omop.input.CONCEPT\n",
      "02/01/2025 09:30:48 INFO smv: RunTime: 0:00:29.336465\n"
     ]
    }
   ],
   "source": [
    "# Resolve a module to DataFrame\n",
    "concept=fullRun(\"input.CONCEPT\")"
   ]
  },
  {
   "cell_type": "code",
   "execution_count": 4,
   "metadata": {},
   "outputs": [
    {
     "name": "stdout",
     "output_type": "stream",
     "text": [
      "concept_id : string = 38001666\n",
      "concept_name : string = Level I Photochemotherapy\n",
      "domain_id : string = Observation\n",
      "vocabulary_id : string = APC\n",
      "concept_class_id : string = APC\n",
      "standard_concept : string = None\n",
      "concept_code : string = 0001\n",
      "valid_start_date : date = 2011-01-01\n",
      "valid_end_date : date = 2014-12-31\n",
      "invalid_reason : string = D\n"
     ]
    }
   ],
   "source": [
    "concept.peek()"
   ]
  },
  {
   "cell_type": "code",
   "execution_count": 7,
   "metadata": {},
   "outputs": [
    {
     "name": "stderr",
     "output_type": "stream",
     "text": [
      "02/01/2025 09:32:47 INFO smv: STARTING FORCE AN ACTION FOR DQM on omop.input.DOMAIN\n",
      "02/01/2025 09:32:47 INFO smv: COMPLETED FORCE AN ACTION FOR DQM: omop.input.DOMAIN\n",
      "02/01/2025 09:32:47 INFO smv: RunTime: 0:00:00.131458\n",
      "02/01/2025 09:32:47 INFO smv: STARTING GENERATE USER METADATA on omop.input.DOMAIN\n",
      "02/01/2025 09:32:47 INFO smv: COMPLETED GENERATE USER METADATA: omop.input.DOMAIN\n",
      "02/01/2025 09:32:47 INFO smv: RunTime: 0:00:00.000003\n"
     ]
    }
   ],
   "source": [
    "domain=fullRun(\"input.DOMAIN\")"
   ]
  },
  {
   "cell_type": "code",
   "execution_count": 8,
   "metadata": {},
   "outputs": [
    {
     "name": "stdout",
     "output_type": "stream",
     "text": [
      "domain_id : string = Cost\n",
      "domain_name : string = Cost\n",
      "domain_concept_id : int = 581456\n"
     ]
    }
   ],
   "source": [
    "domain.peek()"
   ]
  },
  {
   "cell_type": "code",
   "execution_count": 11,
   "metadata": {},
   "outputs": [
    {
     "name": "stdout",
     "output_type": "stream",
     "text": [
      "+-----------+-----------+-----------------+\n",
      "|  domain_id|domain_name|domain_concept_id|\n",
      "+-----------+-----------+-----------------+\n",
      "|Observation|Observation|               27|\n",
      "+-----------+-----------+-----------------+\n",
      "\n"
     ]
    }
   ],
   "source": [
    "domain.where(F.col('domain_id')=='Observation').show()"
   ]
  },
  {
   "cell_type": "code",
   "execution_count": 12,
   "metadata": {},
   "outputs": [
    {
     "name": "stderr",
     "output_type": "stream",
     "text": [
      "02/01/2025 09:35:07 INFO smv: STARTING FORCE AN ACTION FOR DQM on omop.input.CONCEPT_CLASS\n",
      "02/01/2025 09:35:07 INFO smv: COMPLETED FORCE AN ACTION FOR DQM: omop.input.CONCEPT_CLASS\n",
      "02/01/2025 09:35:07 INFO smv: RunTime: 0:00:00.124276\n",
      "02/01/2025 09:35:07 INFO smv: STARTING GENERATE USER METADATA on omop.input.CONCEPT_CLASS\n",
      "02/01/2025 09:35:07 INFO smv: COMPLETED GENERATE USER METADATA: omop.input.CONCEPT_CLASS\n",
      "02/01/2025 09:35:07 INFO smv: RunTime: 0:00:00.000002\n"
     ]
    }
   ],
   "source": [
    "cclass=fullRun(\"CONCEPT_CLASS\")"
   ]
  },
  {
   "cell_type": "code",
   "execution_count": 13,
   "metadata": {},
   "outputs": [
    {
     "name": "stdout",
     "output_type": "stream",
     "text": [
      "concept_class_id : string = Qualifier Value\n",
      "concept_class_name : string = Qualifier Value\n",
      "concept_class_concept_id : string = 44819021\n"
     ]
    }
   ],
   "source": [
    "cclass.peek()"
   ]
  },
  {
   "cell_type": "code",
   "execution_count": 14,
   "metadata": {},
   "outputs": [
    {
     "data": {
      "text/plain": [
       "50"
      ]
     },
     "execution_count": 14,
     "metadata": {},
     "output_type": "execute_result"
    }
   ],
   "source": [
    "domain.count()"
   ]
  },
  {
   "cell_type": "code",
   "execution_count": 15,
   "metadata": {},
   "outputs": [
    {
     "name": "stdout",
     "output_type": "stream",
     "text": [
      "+-------------------+--------------------+-----------------+\n",
      "|          domain_id|         domain_name|domain_concept_id|\n",
      "+-------------------+--------------------+-----------------+\n",
      "|               Cost|                Cost|           581456|\n",
      "|   Condition/Device|    Condition/Device|              235|\n",
      "|             Gender|              Gender|                2|\n",
      "|               Race|                Race|                3|\n",
      "|          Ethnicity|           Ethnicity|                4|\n",
      "|           Metadata|            Metadata|                7|\n",
      "|              Visit|               Visit|                8|\n",
      "|          Procedure|           Procedure|               10|\n",
      "|           Modifier|            Modifier|               12|\n",
      "|               Drug|                Drug|               13|\n",
      "|              Route|Route Of Administ...|               15|\n",
      "|               Unit|                Unit|               16|\n",
      "|             Device|              Device|               17|\n",
      "|          Condition|           Condition|               19|\n",
      "|        Measurement|         Measurement|               21|\n",
      "|Meas Value Operator|Measurement Value...|               23|\n",
      "|         Meas Value|   Measurement Value|               24|\n",
      "|        Observation|         Observation|               27|\n",
      "|       Relationship|        Relationship|               31|\n",
      "|   Place of Service|    Place of Service|               32|\n",
      "|           Currency|            Currency|               34|\n",
      "|       Revenue Code|        Revenue Code|               35|\n",
      "|           Specimen|            Specimen|               36|\n",
      "| Spec Anatomic Site|Specimen Anatomic...|               38|\n",
      "|Spec Disease Status|Specimen Disease ...|               39|\n",
      "|   Device/Procedure|    Device/Procedure|               41|\n",
      "|      Obs/Procedure|Observation/Proce...|               42|\n",
      "|    Measurement/Obs|Measurement/Obser...|               44|\n",
      "|         Device/Obs|  Device/Observation|               45|\n",
      "|     Condition/Meas|Condition/Measure...|               47|\n",
      "|      Condition/Obs|Condition/Observa...|               48|\n",
      "|Condition/Procedure| Condition/Procedure|               49|\n",
      "|        Device/Drug|         Device/Drug|               50|\n",
      "|   Drug/Measurement|    Drug/Measurement|               51|\n",
      "|           Drug/Obs|    Drug/Observation|               52|\n",
      "|     Condition/Drug|      Condition/Drug|               53|\n",
      "|     Drug/Procedure|      Drug/Procedure|               54|\n",
      "|     Meas/Procedure|Measurement/Proce...|               43|\n",
      "|       Type Concept|        Type Concept|               58|\n",
      "|               Plan|Health Plan - con...|            32475|\n",
      "|            Sponsor|Sponsor - institu...|            32476|\n",
      "|              Payer|Payer - instituti...|            32477|\n",
      "|   Plan Stop Reason|Plan Stop Reason ...|            32478|\n",
      "|            Episode|             Episode|            32527|\n",
      "|           Provider|  Provider Specialty|               33|\n",
      "|          Geography| Geographical object|            32558|\n",
      "|            Regimen|   Treatment Regimen|            32687|\n",
      "|   Condition Status|OMOP Condition St...|            32889|\n",
      "|               Note|                Note|             5085|\n",
      "|           Language|            Language|            33068|\n",
      "+-------------------+--------------------+-----------------+\n",
      "\n"
     ]
    }
   ],
   "source": [
    "domain.show(50)"
   ]
  },
  {
   "cell_type": "code",
   "execution_count": 16,
   "metadata": {},
   "outputs": [
    {
     "name": "stdout",
     "output_type": "stream",
     "text": [
      "concept_id : string = 2614714\n",
      "concept_name : string = Chlorhexidine containing antiseptic, 1 ml\n",
      "domain_id : string = Drug\n",
      "vocabulary_id : string = HCPCS\n",
      "concept_class_id : string = HCPCS\n",
      "standard_concept : string = None\n",
      "concept_code : string = A4248\n",
      "valid_start_date : date = 2004-01-01\n",
      "valid_end_date : date = 2099-12-31\n",
      "invalid_reason : string = None\n"
     ]
    }
   ],
   "source": [
    "concept.where(F.col('domain_id') == \"Drug\").peek()"
   ]
  },
  {
   "cell_type": "code",
   "execution_count": 17,
   "metadata": {},
   "outputs": [
    {
     "name": "stderr",
     "output_type": "stream",
     "text": [
      "02/01/2025 09:38:41 INFO smv: STARTING FORCE AN ACTION FOR DQM on omop.input.VOCABULARY\n",
      "02/01/2025 09:38:41 INFO smv: COMPLETED FORCE AN ACTION FOR DQM: omop.input.VOCABULARY\n",
      "02/01/2025 09:38:41 INFO smv: RunTime: 0:00:00.122613\n",
      "02/01/2025 09:38:41 INFO smv: STARTING GENERATE USER METADATA on omop.input.VOCABULARY\n",
      "02/01/2025 09:38:41 INFO smv: COMPLETED GENERATE USER METADATA: omop.input.VOCABULARY\n",
      "02/01/2025 09:38:41 INFO smv: RunTime: 0:00:00.000002\n"
     ]
    }
   ],
   "source": [
    "v=fullRun(\"VOCABULARY\")"
   ]
  },
  {
   "cell_type": "code",
   "execution_count": 18,
   "metadata": {},
   "outputs": [
    {
     "data": {
      "text/plain": [
       "56"
      ]
     },
     "execution_count": 18,
     "metadata": {},
     "output_type": "execute_result"
    }
   ],
   "source": [
    "v.count()"
   ]
  },
  {
   "cell_type": "code",
   "execution_count": 19,
   "metadata": {},
   "outputs": [
    {
     "name": "stdout",
     "output_type": "stream",
     "text": [
      "+--------------------+--------------------+--------------------+--------------------+---------------------+\n",
      "|       vocabulary_id|     vocabulary_name|vocabulary_reference|  vocabulary_version|vocabulary_concept_id|\n",
      "+--------------------+--------------------+--------------------+--------------------+---------------------+\n",
      "|              ICD9CM|International Cla...|http://www.cms.go...|ICD9CM v32 master...|                 5046|\n",
      "|                 NDC|National Drug Cod...|http://www.nlm.ni...|        NDC 20240825|             44819105|\n",
      "|          Visit Type|     OMOP Visit Type|      OMOP generated|                NULL|             44819150|\n",
      "|           Drug Type|OMOP Drug Exposur...|      OMOP generated|                NULL|             44819126|\n",
      "|                Plan|    OMOP Health Plan|      OMOP generated|                NULL|                32471|\n",
      "|      Procedure Type|OMOP Procedure Oc...|      OMOP generated|                NULL|             44819128|\n",
      "|            ICD9Proc|International Cla...|http://www.cms.go...|ICD9CM v32 master...|             44819099|\n",
      "|                 MDC|Major Diagnostic ...|http://www.cms.go...|          2013-01-06|             44819131|\n",
      "|                 APC|Ambulatory Paymen...|http://www.cms.go...|2018-January-Adde...|             44819132|\n",
      "|           US Census|Census regions of...|https://www.censu...|US Census 2017 Re...|                32570|\n",
      "|             Episode|        OMOP Episode|      OMOP generated|    Episode 20201014|                32523|\n",
      "|            Metadata|       OMOP Metadata|      OMOP generated|                NULL|                32675|\n",
      "|    Observation Type|OMOP Observation ...|      OMOP generated|                NULL|             44819129|\n",
      "|      Condition Type|OMOP Condition Oc...|      OMOP generated|                NULL|             44819127|\n",
      "|           Meas Type|OMOP Measurement ...|      OMOP generated|                NULL|             44819152|\n",
      "|    Condition Status|OMOP Condition St...|      OMOP generated|                NULL|                32887|\n",
      "|                None|OMOP Standardized...|      OMOP generated|      v5.0 30-AUG-24|             44819096|\n",
      "|     Obs Period Type|OMOP Observation ...|      OMOP generated|                NULL|             44819149|\n",
      "|                Race|Race and Ethnicit...|http://www.cdc.go...|         Version 1.0|             44819109|\n",
      "|               Visit|          OMOP Visit|      OMOP generated|      Visit 20211216|             44819119|\n",
      "|CMS Place of Service|Place of Service ...|http://www.cms.go...|          2009-01-11|             44819110|\n",
      "|           Cost Type|      OMOP Cost Type|      OMOP generated|                NULL|                 5029|\n",
      "|             Sponsor|        OMOP Sponsor|      OMOP generated|                NULL|                32472|\n",
      "|    Plan Stop Reason|OMOP Plan Stop Re...|      OMOP generated|                NULL|                32474|\n",
      "|         Device Type|    OMOP Device Type|      OMOP generated|                NULL|             44819151|\n",
      "|                SOPT|Source of Payment...|https://www.nahdo...|    SOPT Version 9.2|                32473|\n",
      "|       UB04 Typ bill|UB04 Type of Bill...|https://ushik.ahr...|                NULL|                32044|\n",
      "|              Gender|         OMOP Gender|      OMOP generated|                NULL|             44819108|\n",
      "|         Cohort Type|    OMOP Cohort Type|      OMOP generated|                NULL|             44819234|\n",
      "|                 DRG|Diagnosis-related...|http://www.cms.go...|          2011-18-02|             44819130|\n",
      "|          Death Type|     OMOP Death Type|      OMOP generated|                NULL|             44819135|\n",
      "|           Note Type|      OMOP Note Type|      OMOP generated|                NULL|             44819146|\n",
      "|  Medicare Specialty|Medicare provider...|http://www.cms.go...|2018-06-26 Specialty|             44819138|\n",
      "|    RxNorm Extension|OMOP RxNorm Exten...|      OMOP generated|RxNorm Extension ...|                  252|\n",
      "|                Cost|           OMOP Cost|      OMOP generated|                NULL|               581457|\n",
      "|                 OSM|OpenStreetMap (OSMF)|https://www.opens...|OSM Release 2019-...|                32541|\n",
      "|UB04 Point of Origin|UB04 Claim Source...|https://www.resda...|                NULL|                32045|\n",
      "|  UB04 Pt dis status|UB04 Patient Disc...|https://www.resda...|                NULL|                32047|\n",
      "|            ICD10PCS|ICD-10 Procedure ...|http://www.cms.go...|       ICD10PCS 2024|             44819125|\n",
      "| Korean Revenue Code|Korean Revenue Co...|      OMOP generated|                NULL|                32724|\n",
      "|        Revenue Code|UB04/CMS1450 Reve...|http://www.mpca.n...|        2010 Release|             44819133|\n",
      "| UB04 Pri Typ of Adm|UB04 Claim Inpati...|https://www.resda...|                NULL|                32046|\n",
      "|        Relationship|   OMOP Relationship|      OMOP generated|                NULL|             44819235|\n",
      "|              Domain|         OMOP Domain|      OMOP generated|                NULL|             44819147|\n",
      "|              RxNorm|        RxNorm (NLM)|http://www.nlm.ni...|     RxNorm 20240506|             44819104|\n",
      "|            Language|       OMOP Language|      OMOP generated|   Language 20221030|                33069|\n",
      "|                CPT4|Current Procedura...|http://www.nlm.ni...|        2024 Release|             44819100|\n",
      "|                 CDM|OMOP Common DataM...|https://github.co...|          CDM v6.0.0|                32485|\n",
      "|          Vocabulary|     OMOP Vocabulary|      OMOP generated|                NULL|             44819232|\n",
      "|        Type Concept|   OMOP Type Concept|      OMOP generated|Type Concept 2022...|                32808|\n",
      "|               ICD10|International Cla...|http://www.who.in...|        2021 Release|             44819124|\n",
      "|        OMOP Genomic|OMOP Genomic voca...|      OMOP generated|OMOP Genomic 2024...|                33002|\n",
      "|       Concept Class|  OMOP Concept Class|      OMOP generated|                NULL|             44819233|\n",
      "|                UCUM|Unified Code for ...|http://aurora.reg...|       Version 1.8.2|             44819107|\n",
      "|              SNOMED|Systematic Nomenc...|http://www.nlm.ni...|2024-02-01 SNOMED...|             44819097|\n",
      "|               HCPCS|Healthcare Common...|http://www.nlm.ni...|20240701 Alpha Nu...|             44819101|\n",
      "+--------------------+--------------------+--------------------+--------------------+---------------------+\n",
      "\n"
     ]
    }
   ],
   "source": [
    "v.show(56)"
   ]
  },
  {
   "cell_type": "code",
   "execution_count": 22,
   "metadata": {},
   "outputs": [
    {
     "name": "stderr",
     "output_type": "stream",
     "text": [
      "[Stage 17:================================================>         (5 + 1) / 6]"
     ]
    },
    {
     "name": "stdout",
     "output_type": "stream",
     "text": [
      "+-------------+------+\n",
      "|vocabulary_id| count|\n",
      "+-------------+------+\n",
      "|     ICD10PCS|196048|\n",
      "|       SNOMED| 83542|\n",
      "|     ICD9Proc|  4657|\n",
      "|        HCPCS|  1342|\n",
      "|       ICD9CM|   214|\n",
      "|        ICD10|   178|\n",
      "+-------------+------+\n",
      "\n"
     ]
    },
    {
     "name": "stderr",
     "output_type": "stream",
     "text": [
      "                                                                                "
     ]
    }
   ],
   "source": [
    "concept.where(F.col('domain_id') == \"Procedure\").smvHist(\"vocabulary_id\")"
   ]
  },
  {
   "cell_type": "code",
   "execution_count": 23,
   "metadata": {},
   "outputs": [
    {
     "name": "stderr",
     "output_type": "stream",
     "text": [
      "[Stage 20:================================================>         (5 + 1) / 6]"
     ]
    },
    {
     "name": "stdout",
     "output_type": "stream",
     "text": [
      "+-----------+-----+\n",
      "|  domain_id|count|\n",
      "+-----------+-----+\n",
      "|  Condition|14113|\n",
      "|Observation| 2233|\n",
      "|  Procedure|  178|\n",
      "|Measurement|  114|\n",
      "+-----------+-----+\n",
      "\n"
     ]
    },
    {
     "name": "stderr",
     "output_type": "stream",
     "text": [
      "                                                                                "
     ]
    }
   ],
   "source": [
    "concept.where(F.col('vocabulary_id') == \"ICD10\").smvHist(\"domain_id\")"
   ]
  },
  {
   "cell_type": "code",
   "execution_count": 24,
   "metadata": {},
   "outputs": [
    {
     "name": "stderr",
     "output_type": "stream",
     "text": [
      "[Stage 23:================================================>         (5 + 1) / 6]"
     ]
    },
    {
     "name": "stdout",
     "output_type": "stream",
     "text": [
      "+-----------+-----+\n",
      "|  domain_id|count|\n",
      "+-----------+-----+\n",
      "|  Condition|14929|\n",
      "|Observation| 2204|\n",
      "|Measurement|  217|\n",
      "|  Procedure|  214|\n",
      "+-----------+-----+\n",
      "\n"
     ]
    },
    {
     "name": "stderr",
     "output_type": "stream",
     "text": [
      "                                                                                "
     ]
    }
   ],
   "source": [
    "concept.where(F.col('vocabulary_id') == \"ICD9CM\").smvHist(\"domain_id\")"
   ]
  },
  {
   "cell_type": "code",
   "execution_count": 25,
   "metadata": {},
   "outputs": [
    {
     "name": "stderr",
     "output_type": "stream",
     "text": [
      "[Stage 26:================================================>         (5 + 1) / 6]"
     ]
    },
    {
     "name": "stdout",
     "output_type": "stream",
     "text": [
      "+---------+-----+\n",
      "|domain_id|count|\n",
      "+---------+-----+\n",
      "|Procedure| 4657|\n",
      "+---------+-----+\n",
      "\n"
     ]
    },
    {
     "name": "stderr",
     "output_type": "stream",
     "text": [
      "                                                                                "
     ]
    }
   ],
   "source": [
    "concept.where(F.col('vocabulary_id') == \"ICD9Proc\").smvHist(\"domain_id\")"
   ]
  },
  {
   "cell_type": "code",
   "execution_count": 26,
   "metadata": {},
   "outputs": [
    {
     "name": "stderr",
     "output_type": "stream",
     "text": [
      "[Stage 29:================================================>         (5 + 1) / 6]"
     ]
    },
    {
     "name": "stdout",
     "output_type": "stream",
     "text": [
      "+-----------+-----+\n",
      "|  domain_id|count|\n",
      "+-----------+-----+\n",
      "|     Device| 5272|\n",
      "|Observation| 3309|\n",
      "|       Drug| 1971|\n",
      "|  Procedure| 1342|\n",
      "|Measurement|  184|\n",
      "|  Condition|    1|\n",
      "+-----------+-----+\n",
      "\n"
     ]
    },
    {
     "name": "stderr",
     "output_type": "stream",
     "text": [
      "                                                                                "
     ]
    }
   ],
   "source": [
    "concept.where(F.col('vocabulary_id') == \"HCPCS\").smvHist(\"domain_id\")"
   ]
  },
  {
   "cell_type": "code",
   "execution_count": null,
   "metadata": {},
   "outputs": [],
   "source": []
  }
 ],
 "metadata": {
  "kernelspec": {
   "display_name": "Python 3 (ipykernel)",
   "language": "python",
   "name": "python3"
  },
  "language_info": {
   "codemirror_mode": {
    "name": "ipython",
    "version": 3
   },
   "file_extension": ".py",
   "mimetype": "text/x-python",
   "name": "python",
   "nbconvert_exporter": "python",
   "pygments_lexer": "ipython3",
   "version": "3.11.2"
  }
 },
 "nbformat": 4,
 "nbformat_minor": 4
}
